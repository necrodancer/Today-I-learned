{
  "nbformat": 4,
  "nbformat_minor": 0,
  "metadata": {
    "colab": {
      "name": "프로그래머스_주식가격.ipynb",
      "provenance": [],
      "authorship_tag": "ABX9TyOLQCs2jk/vyd/Oqpq1W6yC",
      "include_colab_link": true
    },
    "kernelspec": {
      "name": "python3",
      "display_name": "Python 3"
    }
  },
  "cells": [
    {
      "cell_type": "markdown",
      "metadata": {
        "id": "view-in-github",
        "colab_type": "text"
      },
      "source": [
        "<a href=\"https://colab.research.google.com/github/necrodancer/Today-I-learned/blob/master/algorithm/%ED%94%84%EB%A1%9C%EA%B7%B8%EB%9E%98%EB%A8%B8%EC%8A%A4_%EC%A3%BC%EC%8B%9D%EA%B0%80%EA%B2%A9.ipynb\" target=\"_parent\"><img src=\"https://colab.research.google.com/assets/colab-badge.svg\" alt=\"Open In Colab\"/></a>"
      ]
    },
    {
      "cell_type": "markdown",
      "metadata": {
        "id": "nmodrgNvlorX",
        "colab_type": "text"
      },
      "source": [
        "# 주식가격\n",
        "* 프로그래머스>코딩테스트 연습>스택/큐>주식가격\n",
        "* 문제 링크: [Link](https://programmers.co.kr/learn/courses/30/lessons/42584?language=python3)\n",
        "\n"
      ]
    },
    {
      "cell_type": "markdown",
      "metadata": {
        "id": "SsHeyjkbmCzI",
        "colab_type": "text"
      },
      "source": [
        "# 소스 코드"
      ]
    },
    {
      "cell_type": "code",
      "metadata": {
        "id": "RMtfZN0clhrb",
        "colab_type": "code",
        "colab": {}
      },
      "source": [
        "def solution(prices):\n",
        "    answer = []\n",
        "    queue = prices[::-1]  # list.reverse()는 아무 return 없이 정렬만 한다.\n",
        "                          # 그래서 계속 []가 입력으로 들어가는 오류가 발생했다.\n",
        "    count = 0  # 가격이 떨어지지 않은 기간\n",
        "    while queue:\n",
        "        t = queue.pop()  # target 시점\n",
        "        n = len(queue)\n",
        "        for i in range(1,n+1):  # target 시점 이후의 주식 가격을 하나씩 꺼내본다.\n",
        "            if t <= queue[-i]:  # target 시점 가격보다 크거나 같으면 하락이 아니므로 1초 증가한다.\n",
        "                count += 1\n",
        "            else:  # 가격 하락이면 하락한 시점까지는 세아린다고 문제에서 주어졌으므로 1초 증가한다.\n",
        "                count += 1\n",
        "                break  # 그리고 가격이 하락했으므로 세는 걸 종료한다.\n",
        "        answer.append(count)  # 가격이 유지된 시간을 정답 리스트에 추가한다.\n",
        "        count = 0  # target 시점에 대한 조사가 끝났으므로 초기화해준다.\n",
        "    return answer"
      ],
      "execution_count": 0,
      "outputs": []
    },
    {
      "cell_type": "code",
      "metadata": {
        "id": "d3IQtmUimIn9",
        "colab_type": "code",
        "outputId": "894f26c8-9ef3-4470-fec7-8ba8ae81c2c5",
        "colab": {
          "base_uri": "https://localhost:8080/",
          "height": 35
        }
      },
      "source": [
        "# sample test\n",
        "print(solution([1, 2, 3, 2, 3])) # 정답: [4, 3, 1, 1, 0]"
      ],
      "execution_count": 3,
      "outputs": [
        {
          "output_type": "stream",
          "text": [
            "[4, 3, 1, 1, 0]\n"
          ],
          "name": "stdout"
        }
      ]
    },
    {
      "cell_type": "markdown",
      "metadata": {
        "id": "RRKifEo5ml_v",
        "colab_type": "text"
      },
      "source": [
        "# 해설\n",
        "\n",
        "주석 참조.\n"
      ]
    },
    {
      "cell_type": "markdown",
      "metadata": {
        "id": "3ONZsTupqaDp",
        "colab_type": "text"
      },
      "source": [
        "# 배운 점\n",
        "\n",
        "## 무심코 풀어보는 게 중요하다.\n",
        "요즘 문제 풀이 효율이 좋지 않아 이틀에 한 문제씩 풀고 있다. 이래서는 진도가 늦다. 하지만 기존의 습관이나 감정 때문에 선뜻 손에 잘 안 잡힌다. 그러다가 그냥 아무 생각없이 한 문제를 풀기 시작했는데, 생각보다 쉬운 문제라서 몰입하여 코드를 뚝딱 작성한 것을 보고 놀랐다. 평소의 나라면 그러지 못 했을텐데. 상당히 운이 좋은 케이스다. 이런 운좋은 행동을 더 많이 잡아내면 그 만큼 손 대는 문제도 많아질 것이다. \n",
        "\n",
        "# 사고 흐름\n",
        "처음에는 numpy에서 제공하는 broadcasting처럼 스칼라 하나로 나머지 리스트 원소들을 비교하자는 생각이 먼저 떠올랐지만 그렇게 가면 복잡해진다. 또한 가격이 하락하지 않은 시간을 재는 것이었기 때문에 어차피 순차적으로 리스트 원소들을 조사해야 하므로 이 아이디어는 접어두었다.\n",
        "\n",
        "그런 다음 순차적으로 리스트 원소를 하나씩 꺼내서 나머지 리스트의 원소들을 차례차례 비교하는 쪽으로 방향을 잡았다. 그렇게 while문 안에 for문을 두어 조사를 하게 했는데, 샘플 테스트에서 한 가지 원소가 틀린 걸 확인했다. 알고보니 1초 후에 가격이 하락해도, 그 하락는 그 순간(1초)까지는 가격이 유지된 걸로 친다고 문제에 적혀 있는 걸 발견했다. 이걸 어떻게 구현하지?하고 고민하다가 그냥 문장 그대로 하락한 순간에 1초를 더 더해주는 걸로 고민을 해결할 수 있었다.\n",
        "\n",
        "그리고 처음에 입력 리스트를 뒤집어서 변수에 저장하려고 `list.reverse()`를 써봤는데 나중에 알고보니 이게 반환 값 없이 바로 리스트를 뒤집었다(in-place). 그래서 계속 변수에 빈 리스트만 저장되어서 당황했다. 덕분에 하나 더 배웠다."
      ]
    },
    {
      "cell_type": "code",
      "metadata": {
        "id": "AhrXCAiHmeXF",
        "colab_type": "code",
        "colab": {}
      },
      "source": [
        ""
      ],
      "execution_count": 0,
      "outputs": []
    }
  ]
}