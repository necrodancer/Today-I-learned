{
  "nbformat": 4,
  "nbformat_minor": 0,
  "metadata": {
    "colab": {
      "name": "FastCampus0809Queue.ipynb",
      "provenance": [],
      "authorship_tag": "ABX9TyPfOCEkKnVdfdgtHiEJf0tv",
      "include_colab_link": true
    },
    "kernelspec": {
      "name": "python3",
      "display_name": "Python 3"
    }
  },
  "cells": [
    {
      "cell_type": "markdown",
      "metadata": {
        "id": "view-in-github",
        "colab_type": "text"
      },
      "source": [
        "<a href=\"https://colab.research.google.com/github/necrodancer/Today-I-learned/blob/master/algorithm/FastCampus0809Queue.ipynb\" target=\"_parent\"><img src=\"https://colab.research.google.com/assets/colab-badge.svg\" alt=\"Open In Colab\"/></a>"
      ]
    },
    {
      "cell_type": "markdown",
      "metadata": {
        "id": "xWO-c0SIDIcZ",
        "colab_type": "text"
      },
      "source": [
        "Queue"
      ]
    },
    {
      "cell_type": "code",
      "metadata": {
        "id": "wrlrh-WJAfe_",
        "colab_type": "code",
        "colab": {}
      },
      "source": [
        "import queue\n",
        "\n",
        "data_queue= queue.Queue()"
      ],
      "execution_count": 0,
      "outputs": []
    },
    {
      "cell_type": "code",
      "metadata": {
        "id": "QzQ03Me1C2Fs",
        "colab_type": "code",
        "colab": {}
      },
      "source": [
        "data_queue.put('funcoding')\n",
        "data_queue.put(1)"
      ],
      "execution_count": 0,
      "outputs": []
    },
    {
      "cell_type": "code",
      "metadata": {
        "id": "NqVDtPYQC7PS",
        "colab_type": "code",
        "colab": {
          "base_uri": "https://localhost:8080/",
          "height": 34
        },
        "outputId": "f3ccca74-11da-45b6-807a-51c7c3505df2"
      },
      "source": [
        "data_queue.qsize()"
      ],
      "execution_count": 3,
      "outputs": [
        {
          "output_type": "execute_result",
          "data": {
            "text/plain": [
              "2"
            ]
          },
          "metadata": {
            "tags": []
          },
          "execution_count": 3
        }
      ]
    },
    {
      "cell_type": "code",
      "metadata": {
        "id": "3y1Fym0oC9eT",
        "colab_type": "code",
        "colab": {
          "base_uri": "https://localhost:8080/",
          "height": 34
        },
        "outputId": "ec962c0e-303d-49bd-ec23-0c2d365ed54c"
      },
      "source": [
        "data_queue.get()"
      ],
      "execution_count": 4,
      "outputs": [
        {
          "output_type": "execute_result",
          "data": {
            "text/plain": [
              "'funcoding'"
            ]
          },
          "metadata": {
            "tags": []
          },
          "execution_count": 4
        }
      ]
    },
    {
      "cell_type": "code",
      "metadata": {
        "id": "6e2ha-I7C_F2",
        "colab_type": "code",
        "colab": {
          "base_uri": "https://localhost:8080/",
          "height": 34
        },
        "outputId": "e4b726e7-b026-47cc-f1d5-a9d403357134"
      },
      "source": [
        "data_queue.qsize()"
      ],
      "execution_count": 5,
      "outputs": [
        {
          "output_type": "execute_result",
          "data": {
            "text/plain": [
              "1"
            ]
          },
          "metadata": {
            "tags": []
          },
          "execution_count": 5
        }
      ]
    },
    {
      "cell_type": "code",
      "metadata": {
        "id": "FUgyBrU9DBhk",
        "colab_type": "code",
        "colab": {
          "base_uri": "https://localhost:8080/",
          "height": 34
        },
        "outputId": "4402a85b-94b2-4c57-ffe9-f5d4b2ada0a7"
      },
      "source": [
        "data_queue.get()"
      ],
      "execution_count": 6,
      "outputs": [
        {
          "output_type": "execute_result",
          "data": {
            "text/plain": [
              "1"
            ]
          },
          "metadata": {
            "tags": []
          },
          "execution_count": 6
        }
      ]
    },
    {
      "cell_type": "markdown",
      "metadata": {
        "id": "SLNW6JfyDMaN",
        "colab_type": "text"
      },
      "source": [
        "LifoQueue"
      ]
    },
    {
      "cell_type": "code",
      "metadata": {
        "id": "HxTEkPH7DFu2",
        "colab_type": "code",
        "colab": {}
      },
      "source": [
        "import queue\n",
        "data_queue = queue.LifoQueue()"
      ],
      "execution_count": 0,
      "outputs": []
    },
    {
      "cell_type": "code",
      "metadata": {
        "id": "MYCXRdUbDRWn",
        "colab_type": "code",
        "colab": {}
      },
      "source": [
        "data_queue.put('funcoding')\n",
        "data_queue.put('3')"
      ],
      "execution_count": 0,
      "outputs": []
    },
    {
      "cell_type": "code",
      "metadata": {
        "id": "WS3nnxIcDXJP",
        "colab_type": "code",
        "colab": {
          "base_uri": "https://localhost:8080/",
          "height": 34
        },
        "outputId": "9d2f04d9-247a-4fab-9982-3e5481ebf0e8"
      },
      "source": [
        "data_queue.qsize()"
      ],
      "execution_count": 10,
      "outputs": [
        {
          "output_type": "execute_result",
          "data": {
            "text/plain": [
              "2"
            ]
          },
          "metadata": {
            "tags": []
          },
          "execution_count": 10
        }
      ]
    },
    {
      "cell_type": "code",
      "metadata": {
        "id": "X3ONonCfDYdP",
        "colab_type": "code",
        "colab": {
          "base_uri": "https://localhost:8080/",
          "height": 34
        },
        "outputId": "d57205f0-8b6a-4e2a-8600-fff96e8b8d84"
      },
      "source": [
        "data_queue.get()"
      ],
      "execution_count": 11,
      "outputs": [
        {
          "output_type": "execute_result",
          "data": {
            "text/plain": [
              "'3'"
            ]
          },
          "metadata": {
            "tags": []
          },
          "execution_count": 11
        }
      ]
    },
    {
      "cell_type": "code",
      "metadata": {
        "id": "y2HFJQP-DasW",
        "colab_type": "code",
        "colab": {
          "base_uri": "https://localhost:8080/",
          "height": 34
        },
        "outputId": "36d779ea-1599-4b66-a870-4866c71ebd37"
      },
      "source": [
        "data_queue.get()"
      ],
      "execution_count": 12,
      "outputs": [
        {
          "output_type": "execute_result",
          "data": {
            "text/plain": [
              "'funcoding'"
            ]
          },
          "metadata": {
            "tags": []
          },
          "execution_count": 12
        }
      ]
    },
    {
      "cell_type": "markdown",
      "metadata": {
        "id": "8EXEsAFIDloV",
        "colab_type": "text"
      },
      "source": [
        "PriorityQueue\n",
        "\n",
        "튜플로 `(우선순위, 데이터)`를 인자로 넣어준다.\n",
        "우선순위가 높은(낮은 숫자) 순으로 데이터를 꺼낼 수 있다."
      ]
    },
    {
      "cell_type": "code",
      "metadata": {
        "id": "Bmk5iWPCDcdQ",
        "colab_type": "code",
        "colab": {}
      },
      "source": [
        "import queue\n",
        "\n",
        "data_queue = queue.PriorityQueue()"
      ],
      "execution_count": 0,
      "outputs": []
    },
    {
      "cell_type": "code",
      "metadata": {
        "id": "vJIviFmTDrpx",
        "colab_type": "code",
        "colab": {}
      },
      "source": [
        "data_queue.put((10, \"korea\"))\n",
        "data_queue.put((5, 1))\n",
        "data_queue.put((15, \"china\"))"
      ],
      "execution_count": 0,
      "outputs": []
    },
    {
      "cell_type": "code",
      "metadata": {
        "id": "vDEosHqDDzTB",
        "colab_type": "code",
        "colab": {
          "base_uri": "https://localhost:8080/",
          "height": 34
        },
        "outputId": "098006e4-082c-4423-da6a-81162ae5c85b"
      },
      "source": [
        "data_queue.qsize()"
      ],
      "execution_count": 15,
      "outputs": [
        {
          "output_type": "execute_result",
          "data": {
            "text/plain": [
              "3"
            ]
          },
          "metadata": {
            "tags": []
          },
          "execution_count": 15
        }
      ]
    },
    {
      "cell_type": "code",
      "metadata": {
        "id": "dKN54gg5D1AC",
        "colab_type": "code",
        "colab": {
          "base_uri": "https://localhost:8080/",
          "height": 34
        },
        "outputId": "9ee31959-7a23-488b-cb69-7d942a273383"
      },
      "source": [
        "data_queue.get()"
      ],
      "execution_count": 16,
      "outputs": [
        {
          "output_type": "execute_result",
          "data": {
            "text/plain": [
              "(5, 1)"
            ]
          },
          "metadata": {
            "tags": []
          },
          "execution_count": 16
        }
      ]
    },
    {
      "cell_type": "code",
      "metadata": {
        "id": "_ogsVBsbD2gL",
        "colab_type": "code",
        "colab": {
          "base_uri": "https://localhost:8080/",
          "height": 34
        },
        "outputId": "5fd12316-8f07-411a-9f2f-abca98832b8e"
      },
      "source": [
        "data_queue.get()"
      ],
      "execution_count": 18,
      "outputs": [
        {
          "output_type": "execute_result",
          "data": {
            "text/plain": [
              "(10, 'korea')"
            ]
          },
          "metadata": {
            "tags": []
          },
          "execution_count": 18
        }
      ]
    },
    {
      "cell_type": "markdown",
      "metadata": {
        "id": "bBGoIu9TD8wj",
        "colab_type": "text"
      },
      "source": [
        "연습1) 리스트 변수로 큐를 다루는 enqueue, dequeue 기능 구현해보기"
      ]
    },
    {
      "cell_type": "code",
      "metadata": {
        "id": "nB5qSP0UD5eZ",
        "colab_type": "code",
        "colab": {}
      },
      "source": [
        "def enqueue(arr, data):  # 전역 변수 arr가 함수 내에서 동작하지 않을 거라 가정했음\n",
        "    arr.append(data)\n",
        "    return arr  # 지역변수로서 arr를 처리하고 반환함\n",
        "\n",
        "def dequeue(arr):  # arr를 지역변수로 처리\n",
        "    data = arr[0]  # FIFO이므로 가장 첫 요소를 data로 저장\n",
        "    arr = arr[1:]  # 두 번째 요소부터 슬라이싱한 리스트를 새로운 queue로 갱신\n",
        "    return arr, data  # arr와 data를 반환"
      ],
      "execution_count": 0,
      "outputs": []
    },
    {
      "cell_type": "code",
      "metadata": {
        "id": "WmgpeMSXGQ-F",
        "colab_type": "code",
        "colab": {
          "base_uri": "https://localhost:8080/",
          "height": 263
        },
        "outputId": "a764db60-00d0-4e89-8a3e-c37c4fcc3b47"
      },
      "source": [
        "queue = list(range(10))  # 0~9를 가진 리스트를 생성\n",
        "print(queue)\n",
        "queue = enqueue(queue, 10)  # 데이터 10을 enqueue\n",
        "print(len(queue))\n",
        "print(queue)\n",
        "\n",
        "while queue != []:  # queue가 빈 리스트 []가 아닐 때만 반복\n",
        "    queue, data = dequeue(queue)\n",
        "    print(data)"
      ],
      "execution_count": 23,
      "outputs": [
        {
          "output_type": "stream",
          "text": [
            "[0, 1, 2, 3, 4, 5, 6, 7, 8, 9]\n",
            "11\n",
            "[0, 1, 2, 3, 4, 5, 6, 7, 8, 9, 10]\n",
            "0\n",
            "1\n",
            "2\n",
            "3\n",
            "4\n",
            "5\n",
            "6\n",
            "7\n",
            "8\n",
            "9\n",
            "10\n"
          ],
          "name": "stdout"
        }
      ]
    },
    {
      "cell_type": "code",
      "metadata": {
        "id": "0GAdkvMTHy7d",
        "colab_type": "code",
        "colab": {
          "base_uri": "https://localhost:8080/",
          "height": 34
        },
        "outputId": "6f23ed56-eee8-4e73-e476-e0f098e66fa0"
      },
      "source": [
        "type(range(10))  # range는 range object를 반환한다. iterable 타입의 일종이다. 리스트로 사용하려면 list()로 wrapping해줘야 한다. 파이썬 3부터 해당된다.\n",
        "# https://thepythonguru.com/python-builtin-functions/range/"
      ],
      "execution_count": 31,
      "outputs": [
        {
          "output_type": "execute_result",
          "data": {
            "text/plain": [
              "range"
            ]
          },
          "metadata": {
            "tags": []
          },
          "execution_count": 31
        }
      ]
    },
    {
      "cell_type": "code",
      "metadata": {
        "id": "N91EAoDlGbqW",
        "colab_type": "code",
        "colab": {}
      },
      "source": [
        "queue_list = list()  # 전역 변수\n",
        "\n",
        "def enqueue(data):\n",
        "    queue_list.append(data)  # 메소드 안에서 전역변수가 잘 작동하나보다\n",
        "\n",
        "def dequeue():\n",
        "    data = queue_list[0]  # FIFO이므로 첫 요소를 참조한다.\n",
        "    del queue_list[0]  # del을 사용하면 특정 요소만 삭제 가능한가 보다.\n",
        "    return data "
      ],
      "execution_count": 0,
      "outputs": []
    },
    {
      "cell_type": "code",
      "metadata": {
        "id": "C0jtJcC8HCZS",
        "colab_type": "code",
        "colab": {}
      },
      "source": [
        "for index in range(10):  # 0~9까지 enqueue\n",
        "    enqueue(index)"
      ],
      "execution_count": 0,
      "outputs": []
    },
    {
      "cell_type": "code",
      "metadata": {
        "id": "ddubrH5UHIO_",
        "colab_type": "code",
        "colab": {
          "base_uri": "https://localhost:8080/",
          "height": 34
        },
        "outputId": "1ccf3191-d5b9-4af6-b77b-b5d3fdf66ca6"
      },
      "source": [
        "len(queue_list)"
      ],
      "execution_count": 26,
      "outputs": [
        {
          "output_type": "execute_result",
          "data": {
            "text/plain": [
              "10"
            ]
          },
          "metadata": {
            "tags": []
          },
          "execution_count": 26
        }
      ]
    },
    {
      "cell_type": "code",
      "metadata": {
        "id": "7JvV9DvJHJ3a",
        "colab_type": "code",
        "colab": {
          "base_uri": "https://localhost:8080/",
          "height": 193
        },
        "outputId": "1f360433-12c4-44cf-bcb4-7d6bd8609b37"
      },
      "source": [
        "while queue_list:  # queue_list가 []가 아닐 동안에만\n",
        "    print(dequeue())  # dequeue"
      ],
      "execution_count": 27,
      "outputs": [
        {
          "output_type": "stream",
          "text": [
            "0\n",
            "1\n",
            "2\n",
            "3\n",
            "4\n",
            "5\n",
            "6\n",
            "7\n",
            "8\n",
            "9\n"
          ],
          "name": "stdout"
        }
      ]
    },
    {
      "cell_type": "code",
      "metadata": {
        "id": "ESMqwww1HROc",
        "colab_type": "code",
        "colab": {}
      },
      "source": [
        "lifo_queue = list()\n",
        "\n",
        "def enqueue(data):\n",
        "    lifo_queue.append(data)\n",
        "\n",
        "def dequeue():\n",
        "    data = lifo_queue[-1]  # last in first out이므로 마지막 요소인 arr[-1]을 참조\n",
        "    del lifo_queue[-1]\n",
        "    return data"
      ],
      "execution_count": 0,
      "outputs": []
    },
    {
      "cell_type": "code",
      "metadata": {
        "id": "AyQvnTRqJmKR",
        "colab_type": "code",
        "colab": {}
      },
      "source": [
        "for index in range(10,-1,-1):\n",
        "    enqueue(index)"
      ],
      "execution_count": 0,
      "outputs": []
    },
    {
      "cell_type": "code",
      "metadata": {
        "id": "We9j2mFaJyQ7",
        "colab_type": "code",
        "colab": {
          "base_uri": "https://localhost:8080/",
          "height": 52
        },
        "outputId": "ddb97fbb-ea65-4646-baed-e56185d893a2"
      },
      "source": [
        "print(len(lifo_queue))\n",
        "print(lifo_queue)"
      ],
      "execution_count": 35,
      "outputs": [
        {
          "output_type": "stream",
          "text": [
            "11\n",
            "[10, 9, 8, 7, 6, 5, 4, 3, 2, 1, 0]\n"
          ],
          "name": "stdout"
        }
      ]
    },
    {
      "cell_type": "code",
      "metadata": {
        "id": "KXZzI_x4J2ib",
        "colab_type": "code",
        "colab": {
          "base_uri": "https://localhost:8080/",
          "height": 34
        },
        "outputId": "582fefc4-68f4-4033-a3d0-7e52390118aa"
      },
      "source": [
        "dequeue()"
      ],
      "execution_count": 37,
      "outputs": [
        {
          "output_type": "execute_result",
          "data": {
            "text/plain": [
              "0"
            ]
          },
          "metadata": {
            "tags": []
          },
          "execution_count": 37
        }
      ]
    },
    {
      "cell_type": "code",
      "metadata": {
        "id": "1uZ14QtkJ5-1",
        "colab_type": "code",
        "colab": {
          "base_uri": "https://localhost:8080/",
          "height": 34
        },
        "outputId": "3f1b1a0c-861c-4c13-db8c-1495ee9f2b13"
      },
      "source": [
        "print(lifo_queue)"
      ],
      "execution_count": 38,
      "outputs": [
        {
          "output_type": "stream",
          "text": [
            "[10, 9, 8, 7, 6, 5, 4, 3, 2, 1]\n"
          ],
          "name": "stdout"
        }
      ]
    },
    {
      "cell_type": "code",
      "metadata": {
        "id": "ALUJZlgBJ9nt",
        "colab_type": "code",
        "colab": {}
      },
      "source": [
        "priority_queue = list()\n",
        "\n",
        "def enqueue(data):\n",
        "    assert type(data) == type(tuple()), \"Only tuple (priority, data) is allowed.\"\n",
        "    priority_queue.append(data)\n",
        "\n",
        "def dequeue():\n",
        "    global priority_queue\n",
        "    priority_queue = sorted(priority_queue, key=lambda x:x[0], reverse=True)\n",
        "    print(priority_queue)\n",
        "    data = priority_queue[0][1]\n",
        "    del priority_queue[0]\n",
        "    print(priority_queue)\n",
        "    return data\n"
      ],
      "execution_count": 0,
      "outputs": []
    },
    {
      "cell_type": "code",
      "metadata": {
        "id": "65dws8VwLOda",
        "colab_type": "code",
        "colab": {}
      },
      "source": [
        "enqueue((1,3))\n",
        "enqueue((10,1))\n",
        "enqueue((5,4))"
      ],
      "execution_count": 0,
      "outputs": []
    },
    {
      "cell_type": "code",
      "metadata": {
        "id": "EtAiiBMBLgwP",
        "colab_type": "code",
        "colab": {
          "base_uri": "https://localhost:8080/",
          "height": 34
        },
        "outputId": "5e883d80-19f8-49fc-a1da-9dfddf3e6b38"
      },
      "source": [
        "print(priority_queue)"
      ],
      "execution_count": 104,
      "outputs": [
        {
          "output_type": "stream",
          "text": [
            "[(1, 3), (10, 1), (5, 4)]\n"
          ],
          "name": "stdout"
        }
      ]
    },
    {
      "cell_type": "code",
      "metadata": {
        "id": "PRV1O5B8LqbP",
        "colab_type": "code",
        "colab": {
          "base_uri": "https://localhost:8080/",
          "height": 70
        },
        "outputId": "29a023c7-b4f7-44c4-abcc-38d1abdb756e"
      },
      "source": [
        "print(dequeue())"
      ],
      "execution_count": 105,
      "outputs": [
        {
          "output_type": "stream",
          "text": [
            "[(10, 1), (5, 4), (1, 3)]\n",
            "[(5, 4), (1, 3)]\n",
            "1\n"
          ],
          "name": "stdout"
        }
      ]
    },
    {
      "cell_type": "code",
      "metadata": {
        "id": "aGbXaSIwLtdf",
        "colab_type": "code",
        "colab": {
          "base_uri": "https://localhost:8080/",
          "height": 312
        },
        "outputId": "a6c58687-55c0-4876-9975-99045676d5ea"
      },
      "source": [
        "enqueue(1)"
      ],
      "execution_count": 106,
      "outputs": [
        {
          "output_type": "error",
          "ename": "AssertionError",
          "evalue": "ignored",
          "traceback": [
            "\u001b[0;31m---------------------------------------------------------------------------\u001b[0m",
            "\u001b[0;31mAssertionError\u001b[0m                            Traceback (most recent call last)",
            "\u001b[0;32m<ipython-input-106-102e55199c5c>\u001b[0m in \u001b[0;36m<module>\u001b[0;34m()\u001b[0m\n\u001b[0;32m----> 1\u001b[0;31m \u001b[0menqueue\u001b[0m\u001b[0;34m(\u001b[0m\u001b[0;36m1\u001b[0m\u001b[0;34m)\u001b[0m\u001b[0;34m\u001b[0m\u001b[0;34m\u001b[0m\u001b[0m\n\u001b[0m",
            "\u001b[0;32m<ipython-input-102-6634f9331af8>\u001b[0m in \u001b[0;36menqueue\u001b[0;34m(data)\u001b[0m\n\u001b[1;32m      2\u001b[0m \u001b[0;34m\u001b[0m\u001b[0m\n\u001b[1;32m      3\u001b[0m \u001b[0;32mdef\u001b[0m \u001b[0menqueue\u001b[0m\u001b[0;34m(\u001b[0m\u001b[0mdata\u001b[0m\u001b[0;34m)\u001b[0m\u001b[0;34m:\u001b[0m\u001b[0;34m\u001b[0m\u001b[0;34m\u001b[0m\u001b[0m\n\u001b[0;32m----> 4\u001b[0;31m     \u001b[0;32massert\u001b[0m \u001b[0mtype\u001b[0m\u001b[0;34m(\u001b[0m\u001b[0mdata\u001b[0m\u001b[0;34m)\u001b[0m \u001b[0;34m==\u001b[0m \u001b[0mtype\u001b[0m\u001b[0;34m(\u001b[0m\u001b[0mtuple\u001b[0m\u001b[0;34m(\u001b[0m\u001b[0;34m)\u001b[0m\u001b[0;34m)\u001b[0m\u001b[0;34m,\u001b[0m \u001b[0;34m\"Only tuple (priority, data) is allowed.\"\u001b[0m\u001b[0;34m\u001b[0m\u001b[0;34m\u001b[0m\u001b[0m\n\u001b[0m\u001b[1;32m      5\u001b[0m     \u001b[0mpriority_queue\u001b[0m\u001b[0;34m.\u001b[0m\u001b[0mappend\u001b[0m\u001b[0;34m(\u001b[0m\u001b[0mdata\u001b[0m\u001b[0;34m)\u001b[0m\u001b[0;34m\u001b[0m\u001b[0;34m\u001b[0m\u001b[0m\n\u001b[1;32m      6\u001b[0m \u001b[0;34m\u001b[0m\u001b[0m\n",
            "\u001b[0;31mAssertionError\u001b[0m: Only tuple (priority, data) is allowed."
          ]
        }
      ]
    },
    {
      "cell_type": "code",
      "metadata": {
        "id": "cRdbNgskOVuo",
        "colab_type": "code",
        "colab": {}
      },
      "source": [
        ""
      ],
      "execution_count": 0,
      "outputs": []
    }
  ]
}