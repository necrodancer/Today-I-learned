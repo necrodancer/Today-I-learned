{
  "nbformat": 4,
  "nbformat_minor": 0,
  "metadata": {
    "colab": {
      "name": "프로그래머스_단어_변환.ipynb",
      "provenance": [],
      "collapsed_sections": [],
      "authorship_tag": "ABX9TyPxynxUo0BvjuFlFy9X4Zcf",
      "include_colab_link": true
    },
    "kernelspec": {
      "name": "python3",
      "display_name": "Python 3"
    }
  },
  "cells": [
    {
      "cell_type": "markdown",
      "metadata": {
        "id": "view-in-github",
        "colab_type": "text"
      },
      "source": [
        "<a href=\"https://colab.research.google.com/github/necrodancer/Today-I-learned/blob/master/algorithm/%ED%94%84%EB%A1%9C%EA%B7%B8%EB%9E%98%EB%A8%B8%EC%8A%A4_%EB%8B%A8%EC%96%B4_%EB%B3%80%ED%99%98.ipynb\" target=\"_parent\"><img src=\"https://colab.research.google.com/assets/colab-badge.svg\" alt=\"Open In Colab\"/></a>"
      ]
    },
    {
      "cell_type": "markdown",
      "metadata": {
        "id": "nmodrgNvlorX",
        "colab_type": "text"
      },
      "source": [
        "# 단어 변환\n",
        "* 프로그래머스>코딩테스트 연습>깊이/너비 우선 탐색>단어 변환\n",
        "* 문제 링크: [Link](https://programmers.co.kr/learn/courses/30/lessons/43163?language=python3)\n",
        "* 원본 코드: [\\[프로그래머스\\] 단어 변환(level 3, DFS/BFS)](https://navigator-ymin.tistory.com/6)\n"
      ]
    },
    {
      "cell_type": "markdown",
      "metadata": {
        "id": "SsHeyjkbmCzI",
        "colab_type": "text"
      },
      "source": [
        "# 소스 코드"
      ]
    },
    {
      "cell_type": "code",
      "metadata": {
        "id": "RMtfZN0clhrb",
        "colab_type": "code",
        "colab": {}
      },
      "source": [
        "def is_right(s1, s2):\n",
        "    \"\"\"\n",
        "    문자열 s1, s2를 한 글자씩 비교, 틀린 글자가 1개일 경우 True, 아닐 경우 False 반환\n",
        "    \"\"\"\n",
        "    n = len(s1)\n",
        "    count = 0\n",
        "    for i in range(n):\n",
        "        if s1[i] != s2[i]:\n",
        "            count += 1\n",
        "    if count == 1:\n",
        "        return True\n",
        "    else:\n",
        "        return False\n",
        "\n",
        "def dfs(graph, start_node, target):\n",
        "    visit = []\n",
        "    stack = []\n",
        "    stack.append(start_node)\n",
        "    count = 0\n",
        "    \n",
        "    while stack:\n",
        "        node = stack.pop()\n",
        "        count += 1\n",
        "        if node == target:  # 현재 node(단어)가 target일 경우 탐색 중단\n",
        "            break\n",
        "        for v in graph[node]:  # 현재 노드와 연결된 모든 노드 조사\n",
        "            if is_right(node,v) and v not in visit:  # 한 글자만 틀리고 방문한 적 없는 노드면\n",
        "                visit.append(v)  # 방문했다고 기록\n",
        "                stack.extend([v])  # 해당 문자열 v가 조건을 만족했기 때문에 stack에 넣어준다.\n",
        "                \n",
        "    return count\n",
        "                \n",
        "\n",
        "def solution(begin, target, words):\n",
        "    answer = 0\n",
        "    \n",
        "    # begin 단어를 포함해서 그래프 생성\n",
        "    words = [begin]+words  \n",
        "    N = len(words)\n",
        "    graph = {words[i]: [] for i in range(N)}\n",
        "    for i in range(N):\n",
        "        for j in range(N):\n",
        "            if is_right(words[i],words[j]):\n",
        "                graph[words[i]].append(words[j])\n",
        "    if target not in words:  # 예외처리: target이 없는 경우 변환할 수 없는 경우이므로 0\n",
        "        answer = 0\n",
        "    else:\n",
        "        answer = dfs(graph, begin, target)-1  # words 리스트에 begin까지 추가되었기 때문에 값이 1 크게 나온다고 생각되어 1을 빼줬다.\n",
        "\n",
        "    return answer"
      ],
      "execution_count": 0,
      "outputs": []
    },
    {
      "cell_type": "code",
      "metadata": {
        "id": "d3IQtmUimIn9",
        "colab_type": "code",
        "outputId": "e7f9afab-ca91-4dfb-b5cd-75f2f24a0335",
        "colab": {
          "base_uri": "https://localhost:8080/",
          "height": 53
        }
      },
      "source": [
        "# sample test\n",
        "print(solution(\"hit\", \"cog\", [\"hot\", \"dot\", \"dog\", \"lot\", \"log\", \"cog\"])) # 정답: 4\n",
        "print(solution(\t\"hit\", \"cog\", [\"hot\", \"dot\", \"dog\", \"lot\", \"log\"])) # 정답: 0"
      ],
      "execution_count": 0,
      "outputs": [
        {
          "output_type": "stream",
          "text": [
            "4\n",
            "0\n"
          ],
          "name": "stdout"
        }
      ]
    },
    {
      "cell_type": "markdown",
      "metadata": {
        "id": "RRKifEo5ml_v",
        "colab_type": "text"
      },
      "source": [
        "# 해설\n",
        "\n",
        "주석 참조\n"
      ]
    },
    {
      "cell_type": "markdown",
      "metadata": {
        "id": "3ONZsTupqaDp",
        "colab_type": "text"
      },
      "source": [
        "# 배운 점\n",
        "\n",
        "1. 이전에 푼 [네트워크](https://programmers.co.kr/learn/courses/30/lessons/43162) 문제에서는 노드의 자식들을 바로 stack에 넣어서 탐색했습니다. 하지만 이번 문제에서는 최소 경로를 찾을 필요가 있었기 때문에 모든 자식을 탐색할 수 없었습니다. 그래서 모든 자식을 조사하기 위해 for문을 만들고 해당하는 자식만 stack에 추가하는 모습을 보여줬습니다. 이 부분을 캐치하지 못하고 많이 헤맸습니다."
      ]
    },
    {
      "cell_type": "code",
      "metadata": {
        "id": "UId0jhaYkvkb",
        "colab_type": "code",
        "colab": {}
      },
      "source": [
        ""
      ],
      "execution_count": 0,
      "outputs": []
    }
  ]
}