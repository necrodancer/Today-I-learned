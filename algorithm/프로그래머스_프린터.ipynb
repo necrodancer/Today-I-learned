{
  "nbformat": 4,
  "nbformat_minor": 0,
  "metadata": {
    "colab": {
      "name": "프로그래머스_프린터.ipynb",
      "provenance": [],
      "authorship_tag": "ABX9TyOu+1D0f8HVoNRd86e7yD5/",
      "include_colab_link": true
    },
    "kernelspec": {
      "name": "python3",
      "display_name": "Python 3"
    }
  },
  "cells": [
    {
      "cell_type": "markdown",
      "metadata": {
        "id": "view-in-github",
        "colab_type": "text"
      },
      "source": [
        "<a href=\"https://colab.research.google.com/github/necrodancer/Today-I-learned/blob/master/algorithm/%ED%94%84%EB%A1%9C%EA%B7%B8%EB%9E%98%EB%A8%B8%EC%8A%A4_%ED%94%84%EB%A6%B0%ED%84%B0.ipynb\" target=\"_parent\"><img src=\"https://colab.research.google.com/assets/colab-badge.svg\" alt=\"Open In Colab\"/></a>"
      ]
    },
    {
      "cell_type": "markdown",
      "metadata": {
        "id": "nmodrgNvlorX",
        "colab_type": "text"
      },
      "source": [
        "# 프린터\n",
        "* 프로그래머스>코딩테스트 연습>스택/큐>프린터\n",
        "* 문제 링크: [Link](https://programmers.co.kr/learn/courses/30/lessons/42587)\n",
        "\n"
      ]
    },
    {
      "cell_type": "markdown",
      "metadata": {
        "id": "SsHeyjkbmCzI",
        "colab_type": "text"
      },
      "source": [
        "# 소스 코드"
      ]
    },
    {
      "cell_type": "code",
      "metadata": {
        "id": "RMtfZN0clhrb",
        "colab_type": "code",
        "colab": {}
      },
      "source": [
        "def solution(priorities, location):\n",
        "    \"\"\"\n",
        "    생각나는 것: 우선순위 큐\n",
        "    1. j = queue.pop(0)\n",
        "    2. priority 조사, 최하위면 다시 append\n",
        "    3. 그렇지 않으면 print(j)\n",
        "    \"\"\"\n",
        "    answer = 0\n",
        "    n = len(priorities)  # 입력 대기열 개수\n",
        "    \n",
        "    loc = [0]*n  # 요청한 문서의 위치를 나타내는 리스트. 중복 문서가 있을 수 있으므로 이 위치로 요청 문서를 식별한다.\n",
        "    loc[-(location+1)] = 1  # 요청 문서는 1 나머지는 0으로 표기\n",
        "    target = priorities[location]  # 요청 문서의 값(우선 순위)\n",
        "    queue = priorities[::-1]  # pop(0) 대신 pop() 사용을 위해 리스트를 뒤집음 (pop()이 속도가 더 빠르다)\n",
        "    \n",
        "    while queue:  # queue가 []이 되면 종료\n",
        "        j = queue.pop()  # 선두 문서를 대기열에서 꺼냄\n",
        "        jl = loc.pop()  # 선두 문서의 위치도 같이 꺼냄\n",
        "        if len(queue) > 0 and j < max(queue):  # 선두 문서 이외에 대기열에 더 높은 우선순위가 있는지 체크.\n",
        "                                               # 예외처리를 위해 queue가 빈 리스트가 아니면이라는 조건도 추가\n",
        "            queue = [j]+queue  # 있으면 선두 문서 j를 도로 queue의 제일 마지막에 넣어줌\n",
        "            loc = [jl]+loc  # 선두 문서의 위치 역시 제일 마지막으로 이동\n",
        "        else:  # 선두 문서가 최우선 순위인 경우,\n",
        "            answer += 1  # 출력 회수 1 증가\n",
        "            if j == target and jl == 1: # 출력한 문서와 그 식별 위치가 요청 문서(target, 1)와 같으면\n",
        "                break  # while문을 종료한다\n",
        "    return answer  # 출력 횟수 answer를 return한다."
      ],
      "execution_count": 0,
      "outputs": []
    },
    {
      "cell_type": "code",
      "metadata": {
        "id": "d3IQtmUimIn9",
        "colab_type": "code",
        "outputId": "22f4dc80-4715-4db3-c7c4-11cb31150e46",
        "colab": {
          "base_uri": "https://localhost:8080/",
          "height": 53
        }
      },
      "source": [
        "# sample test\n",
        "print(solution([2, 1, 3, 2], 2))  # 정답: 1\n",
        "print(solution([1, 1, 9, 1, 1, 1], 0))  # 정답: 5"
      ],
      "execution_count": 3,
      "outputs": [
        {
          "output_type": "stream",
          "text": [
            "1\n",
            "5\n"
          ],
          "name": "stdout"
        }
      ]
    },
    {
      "cell_type": "markdown",
      "metadata": {
        "id": "RRKifEo5ml_v",
        "colab_type": "text"
      },
      "source": [
        "# 해설\n",
        "\n",
        "주석 참고\n"
      ]
    },
    {
      "cell_type": "markdown",
      "metadata": {
        "id": "3ONZsTupqaDp",
        "colab_type": "text"
      },
      "source": [
        "# 배운 점\n",
        "\n",
        "다른 사람의 코드를 보면서 `any()`란 built-in 함수에 대해서 알게 되었다. 아래에 예제를 정리해둔다."
      ]
    },
    {
      "cell_type": "code",
      "metadata": {
        "id": "AhrXCAiHmeXF",
        "colab_type": "code",
        "colab": {
          "base_uri": "https://localhost:8080/",
          "height": 53
        },
        "outputId": "87c77f61-8906-40a0-a791-693942450d20"
      },
      "source": [
        "a = [(0,2),(1,3),(2,1),(3,2)] # (위치, 우선순위) 튜플의 리스트\n",
        "key = a.pop()\n",
        "if any(key[1] < v[1] for v in a):  # 최대 O(n^2)  (https://technote.kr/241)\n",
        "    print(\"key보다 높은 우선 순위가 존재합니다.\")\n",
        "\n",
        "if key[1] < max([v[1] for v in a]):  # max가 O(n), for문이 O(n) 중첩이므로 O(n^2) 복잡도를 가짐.  (https://wayhome25.github.io/python/2017/06/14/time-complexity/)\n",
        "    print(\"key보다 높은 우선 순위가 존재합니다.\")"
      ],
      "execution_count": 9,
      "outputs": [
        {
          "output_type": "stream",
          "text": [
            "key보다 높은 우선 순위가 존재합니다.\n",
            "key보다 높은 우선 순위가 존재합니다.\n"
          ],
          "name": "stdout"
        }
      ]
    },
    {
      "cell_type": "code",
      "metadata": {
        "id": "Rtnw-9muOCL0",
        "colab_type": "code",
        "colab": {}
      },
      "source": [
        ""
      ],
      "execution_count": 0,
      "outputs": []
    }
  ]
}