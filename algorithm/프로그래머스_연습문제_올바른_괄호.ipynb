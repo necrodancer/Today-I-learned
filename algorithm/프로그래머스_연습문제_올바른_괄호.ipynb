{
  "nbformat": 4,
  "nbformat_minor": 0,
  "metadata": {
    "colab": {
      "name": "프로그래머스_연습문제 올바른 괄호.ipynb",
      "provenance": [],
      "include_colab_link": true
    },
    "kernelspec": {
      "name": "python3",
      "display_name": "Python 3"
    }
  },
  "cells": [
    {
      "cell_type": "markdown",
      "metadata": {
        "id": "view-in-github",
        "colab_type": "text"
      },
      "source": [
        "<a href=\"https://colab.research.google.com/github/necrodancer/Today-I-learned/blob/master/algorithm/%ED%94%84%EB%A1%9C%EA%B7%B8%EB%9E%98%EB%A8%B8%EC%8A%A4_%EC%97%B0%EC%8A%B5%EB%AC%B8%EC%A0%9C_%EC%98%AC%EB%B0%94%EB%A5%B8_%EA%B4%84%ED%98%B8.ipynb\" target=\"_parent\"><img src=\"https://colab.research.google.com/assets/colab-badge.svg\" alt=\"Open In Colab\"/></a>"
      ]
    },
    {
      "cell_type": "code",
      "metadata": {
        "id": "it2qMFYO4nEn",
        "colab_type": "code",
        "colab": {}
      },
      "source": [
        "def solution(s):\n",
        "    \n",
        "    trans = {'(':1, ')':-1}\n",
        "    if s[0] == '(' and s[-1] == ')' and s.count('(') == s.count(')'):\n",
        "        e = 0\n",
        "        for c in s:\n",
        "            e += trans[c]\n",
        "            if e < 0:\n",
        "                return False\n",
        "        return True\n",
        "    return False"
      ],
      "execution_count": 0,
      "outputs": []
    },
    {
      "cell_type": "markdown",
      "metadata": {
        "id": "VJiDw3d34yWD",
        "colab_type": "text"
      },
      "source": [
        "https://programmers.co.kr/learn/courses/30/lessons/12909?language=python3"
      ]
    }
  ]
}