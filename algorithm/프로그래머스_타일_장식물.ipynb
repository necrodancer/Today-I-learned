{
  "nbformat": 4,
  "nbformat_minor": 0,
  "metadata": {
    "colab": {
      "name": "프로그래머스_타일_장식물.ipynb",
      "provenance": [],
      "authorship_tag": "ABX9TyOiWdYueROjvtSR4MDJGxm8",
      "include_colab_link": true
    },
    "kernelspec": {
      "name": "python3",
      "display_name": "Python 3"
    }
  },
  "cells": [
    {
      "cell_type": "markdown",
      "metadata": {
        "id": "view-in-github",
        "colab_type": "text"
      },
      "source": [
        "<a href=\"https://colab.research.google.com/github/necrodancer/Today-I-learned/blob/master/algorithm/%ED%94%84%EB%A1%9C%EA%B7%B8%EB%9E%98%EB%A8%B8%EC%8A%A4_%ED%83%80%EC%9D%BC_%EC%9E%A5%EC%8B%9D%EB%AC%BC.ipynb\" target=\"_parent\"><img src=\"https://colab.research.google.com/assets/colab-badge.svg\" alt=\"Open In Colab\"/></a>"
      ]
    },
    {
      "cell_type": "markdown",
      "metadata": {
        "id": "nmodrgNvlorX",
        "colab_type": "text"
      },
      "source": [
        "# 쇠막대기\n",
        "* 프로그래머스>코딩테스트 연습>DP>타일 장식물\n",
        "* 문제 링크: [Link](https://programmers.co.kr/learn/courses/30/lessons/43104)\n"
      ]
    },
    {
      "cell_type": "markdown",
      "metadata": {
        "id": "SsHeyjkbmCzI",
        "colab_type": "text"
      },
      "source": [
        "# 소스 코드"
      ]
    },
    {
      "cell_type": "code",
      "metadata": {
        "id": "RMtfZN0clhrb",
        "colab_type": "code",
        "colab": {}
      },
      "source": [
        "def solution(N):\n",
        "    \"\"\"\n",
        "    풀이::\n",
        "    1. [1,1,2,3,5,8, ...] : 피보나치 수열\n",
        "    \n",
        "    2. 초깃값: \n",
        "    a(1) = 1\n",
        "    a(2) = 1\n",
        "    \n",
        "    3. 점화식:\n",
        "    a(n) = a(n-1) + a(n-2)\n",
        "    \n",
        "    4. 놓친 부분: '직'사각형의 둘레\n",
        "    직사각형 둘레의 특징: 짧은 변=N번째 정사각형의 변 길이, 긴 변= N번째 정사각형의 변+ (N-1)번째 정사각형의 변 길이\n",
        "    따라서 (짧은 변 + 긴 변)*2를 정답으로 반환.\n",
        "    \"\"\"\n",
        "    dp = [1,1]\n",
        "    for i in range(2, N):\n",
        "        temp = dp[i-1] + dp[i-2]\n",
        "        dp.append(temp)\n",
        "    answer = (dp[-1]+ (dp[-1]+dp[-2]))*2\n",
        "    return answer"
      ],
      "execution_count": 0,
      "outputs": []
    },
    {
      "cell_type": "code",
      "metadata": {
        "id": "d3IQtmUimIn9",
        "colab_type": "code",
        "outputId": "a3383f81-b3c6-4130-e906-41a45d406a2c",
        "colab": {
          "base_uri": "https://localhost:8080/",
          "height": 53
        }
      },
      "source": [
        "# sample test\n",
        "print(solution(5)) # 정답: 26\n",
        "print(solution(6)) # 정답: 42"
      ],
      "execution_count": 2,
      "outputs": [
        {
          "output_type": "stream",
          "text": [
            "26\n",
            "42\n"
          ],
          "name": "stdout"
        }
      ]
    },
    {
      "cell_type": "markdown",
      "metadata": {
        "id": "RRKifEo5ml_v",
        "colab_type": "text"
      },
      "source": [
        "# 해설\n",
        "\n",
        "주석 참조.\n"
      ]
    },
    {
      "cell_type": "markdown",
      "metadata": {
        "id": "3ONZsTupqaDp",
        "colab_type": "text"
      },
      "source": [
        "# 배운 점\n",
        "\n",
        "문제를 풀 때 단순히 사각형의 둘레를 반환하라고 대충 읽었다가 틀렸다.\n",
        "\n",
        "입력값과 반환값에 좀더 시간을 들여서 보는 연습을 해야겠다. 어디에 따로 적어두거나."
      ]
    },
    {
      "cell_type": "code",
      "metadata": {
        "id": "AhrXCAiHmeXF",
        "colab_type": "code",
        "colab": {}
      },
      "source": [
        ""
      ],
      "execution_count": 0,
      "outputs": []
    }
  ]
}