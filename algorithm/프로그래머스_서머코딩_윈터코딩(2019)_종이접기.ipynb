{
  "nbformat": 4,
  "nbformat_minor": 0,
  "metadata": {
    "colab": {
      "name": "프로그래머스-서머코딩/윈터코딩(2019)-종이접기.ipynb",
      "provenance": [],
      "include_colab_link": true
    },
    "kernelspec": {
      "name": "python3",
      "display_name": "Python 3"
    }
  },
  "cells": [
    {
      "cell_type": "markdown",
      "metadata": {
        "id": "view-in-github",
        "colab_type": "text"
      },
      "source": [
        "<a href=\"https://colab.research.google.com/github/necrodancer/Today-I-learned/blob/master/algorithm/%ED%94%84%EB%A1%9C%EA%B7%B8%EB%9E%98%EB%A8%B8%EC%8A%A4_%EC%84%9C%EB%A8%B8%EC%BD%94%EB%94%A9_%EC%9C%88%ED%84%B0%EC%BD%94%EB%94%A9(2019)_%EC%A2%85%EC%9D%B4%EC%A0%91%EA%B8%B0.ipynb\" target=\"_parent\"><img src=\"https://colab.research.google.com/assets/colab-badge.svg\" alt=\"Open In Colab\"/></a>"
      ]
    },
    {
      "cell_type": "code",
      "metadata": {
        "id": "QYn3i8Yg-vBz",
        "colab_type": "code",
        "colab": {}
      },
      "source": [
        "def reverse(n):\n",
        "    \"\"\"\n",
        "    0을 1로, 1을 0으로 반전하는 함수\n",
        "    \"\"\"\n",
        "    if n == 1:\n",
        "        return 0\n",
        "    elif n == 0:\n",
        "        return 1\n",
        "    else:\n",
        "        print(\"Only 0 or 1 as input.\")\n",
        "        return -1\n",
        "\n",
        "def solution(n):\n",
        "    answer = []\n",
        "    temp = [0] # 도화지, 한 번 접고 시작한다.\n",
        "    left = [0] # 가운데 선 기준 왼쪽 면, 한 번 접은 결과로 초기화.\n",
        "    \n",
        "    for i in range(1,n):\n",
        "        temp = [] # 새 도화지로 초기화\n",
        "        for j in left: # 이전에 접은 도화지의 접힌 면을 도화지에 추가한다.\n",
        "            temp.append(j)\n",
        "        temp.append(0) # 가운데 선은 무조건 점선이므로 0을 추가한다.\n",
        "        for k in range(1,len(left)+1): # 오른쪽 면은 왼쪽 면의 대칭이고, 점선과 실선이 반전된다.\n",
        "            temp.append(reverse(left[-k]))\n",
        "        left = [l for l in temp] # 접은 결과를 새로운 왼쪽 면으로 삼는다.\n",
        "        \n",
        "    answer = temp # n번째 접은 결과를 answer로 반환한다.\n",
        "    return answer"
      ],
      "execution_count": 0,
      "outputs": []
    }
  ]
}