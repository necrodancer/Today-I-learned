{
  "nbformat": 4,
  "nbformat_minor": 0,
  "metadata": {
    "colab": {
      "name": "프로그래머스_N으로_표현.ipynb",
      "provenance": [],
      "authorship_tag": "ABX9TyMA+DnoX7+hiDegFx6D21GR",
      "include_colab_link": true
    },
    "kernelspec": {
      "name": "python3",
      "display_name": "Python 3"
    }
  },
  "cells": [
    {
      "cell_type": "markdown",
      "metadata": {
        "id": "view-in-github",
        "colab_type": "text"
      },
      "source": [
        "<a href=\"https://colab.research.google.com/github/necrodancer/Today-I-learned/blob/master/algorithm/%ED%94%84%EB%A1%9C%EA%B7%B8%EB%9E%98%EB%A8%B8%EC%8A%A4_N%EC%9C%BC%EB%A1%9C_%ED%91%9C%ED%98%84.ipynb\" target=\"_parent\"><img src=\"https://colab.research.google.com/assets/colab-badge.svg\" alt=\"Open In Colab\"/></a>"
      ]
    },
    {
      "cell_type": "markdown",
      "metadata": {
        "id": "nmodrgNvlorX",
        "colab_type": "text"
      },
      "source": [
        "# N으로 표현\n",
        "* 프로그래머스>코딩테스트 연습>DP>N으로 표현\n",
        "* 문제 링크: [Link](https://programmers.co.kr/learn/courses/30/lessons/42895?language=python3)\n",
        "* 참조 코드: [\\[프로그래머스\\] N으로 표현, 파이썬](https://velog.io/@imacoolgirlyo/%ED%94%84%EB%A1%9C%EA%B7%B8%EB%9E%98%EB%A8%B8%EC%8A%A4-N%EC%9C%BC%EB%A1%9C-%ED%91%9C%ED%98%84-%ED%8C%8C%EC%9D%B4%EC%8D%AC#%EB%AC%B8%EC%A0%9C-%EC%84%A4%EB%AA%85-)\n",
        "\n"
      ]
    },
    {
      "cell_type": "markdown",
      "metadata": {
        "id": "SsHeyjkbmCzI",
        "colab_type": "text"
      },
      "source": [
        "# 소스 코드"
      ]
    },
    {
      "cell_type": "code",
      "metadata": {
        "id": "RMtfZN0clhrb",
        "colab_type": "code",
        "colab": {}
      },
      "source": [
        "# original code: https://velog.io/@imacoolgirlyo/%ED%94%84%EB%A1%9C%EA%B7%B8%EB%9E%98%EB%A8%B8%EC%8A%A4-N%EC%9C%BC%EB%A1%9C-%ED%91%9C%ED%98%84-%ED%8C%8C%EC%9D%B4%EC%8D%AC#%EB%AC%B8%EC%A0%9C-%EC%84%A4%EB%AA%85-\n",
        "\n",
        "def solution(N, number):\n",
        "    S = [0, {N}]  # N이 0번 쓰였을 경우, N을 한 번 썼을 경우의 집합들의 초기값\n",
        "    for i in range(2, 9):  # N이 2번에서 8번 사용된 경우만 계산한다.\n",
        "        case_set = {int(str(N)*i)}  # N을 i번 사용했을 때의 집합을 생성한다. N을 i번 붙여서 사용한 경우로 초기화한다.\n",
        "        for i_half in range(1, i//2+1):  # N을 i/2번째로 사용한 케이스까지만 조사한다. 왜냐하면 N을 1번 쓴 것과 2번 쓴 것의 연산은, N을 2번 쓴 것과 1번 쓴 것의 연산 결과와 중복이기 때문이다.\n",
        "            for x in S[i_half]:  # N을 i_half번만 사용한 집합에서 숫자를 하나 꺼낸다.\n",
        "                for y in S[i-i_half]:  # N을 i-i_half번만 사용한 집합에서 숫자 하나를 꺼낸다.\n",
        "                    # 덧셈, 뺄셈(2가지 경우, x-y, y-x), 곱셈, 나눗셈(분모가 0이 되지 않도록 2개의 if문 사용)을 계산 후 case_set 집합에 추가\n",
        "                    case_set.add(x+y)  \n",
        "                    case_set.add(x-y)\n",
        "                    case_set.add(y-x)\n",
        "                    case_set.add(x*y)\n",
        "                    if x != 0:\n",
        "                        case_set.add(y//x)\n",
        "                    if y != 0:\n",
        "                        case_set.add(x//y)\n",
        "            if number in case_set:  # 이렇게 만들어진 집합에서 number를 만족하는 결과가 있으면\n",
        "                return i  # 현재 N을 사용한 횟수인 i를 정답으로 반환(최솟값이므로 가장 빠르게 만족하는 i를 반환하는 것이다)\n",
        "        S.append(case_set)  # number를 만족하는 결과가 없을 경우 case_set 집합을 S에 추가해준다. 이 집합은 다음 계산에 사용된다.(Memoization, Dynamic Programming)\n",
        "    return -1  # N이 8을 넘어섰으므로 -1을 return한다."
      ],
      "execution_count": 0,
      "outputs": []
    },
    {
      "cell_type": "code",
      "metadata": {
        "id": "d3IQtmUimIn9",
        "colab_type": "code",
        "outputId": "2d753c63-ccc2-4700-ff1f-c853fe386c89",
        "colab": {
          "base_uri": "https://localhost:8080/",
          "height": 53
        }
      },
      "source": [
        "# sample test\n",
        "print(solution(5, 12))  # 정답: 4\n",
        "print(solution(2, 11))  # 정답: 3"
      ],
      "execution_count": 4,
      "outputs": [
        {
          "output_type": "stream",
          "text": [
            "4\n",
            "3\n"
          ],
          "name": "stdout"
        }
      ]
    },
    {
      "cell_type": "markdown",
      "metadata": {
        "id": "RRKifEo5ml_v",
        "colab_type": "text"
      },
      "source": [
        "# 해설\n",
        "* ` N과 사칙연산만 사용해서 표현 할 수 있는 방법 중  N 사용횟수` --> 사용횟수 별 집합 구현, 이 중 number가 존재하는(number로 표현할 수 있는) 집합과 대응되는 사용횟수 중 가장 작은 값을 return한다. \n",
        "* 가장 작은 값을 return하려면 사용횟수가 낮은 순으로 조사를 하면 된다. 그 중에 가장 먼저 number로 표현 가능한 경우가 나오면 그 사용횟수가 최솟값이 되는 것이다.\n",
        "* `N과 사칙연산만 사용해서 표현`: 각 집합의 원소를 꺼내와서 +, -, x, /를 각각 실행하고 새로운 집합을 만들어주면 된다. 이때 연산 전에, 사칙연산 없이 표현하는 경우(`NN`)로 먼저 집합을 초기화한다.\n",
        "* 쉬운 케이스, 예제에 대해서 가능한 경우의 수를 다 써보는 게 좋다. 그러면 실마리가 나온다.\n",
        "* 중복되는 경우의 수를 발견했다면 해당 케이스는 조사하지 않도록 구현하면 된다. (`i_half`)\n"
      ]
    },
    {
      "cell_type": "markdown",
      "metadata": {
        "id": "3ONZsTupqaDp",
        "colab_type": "text"
      },
      "source": [
        "# 배운 점\n",
        "DP 카테고리 맨 위에 있는 문제인데 너무 어려워서 이틀 동안 슬럼프에 빠졌다. \n",
        "\n",
        "그래서 다른 사람의 풀이에서 어떻게 생각을 유추해냈는지 비교하는 식으로 공부하기로 했다.\n",
        "\n",
        "문장이나 문구로부터 필요한 조건을 구조화하는 능력이 부족했다. 그래서 다른 사람의 풀이와 문제의 구절을 매칭해보는 작업을 했다. 그리고 이 매칭을 좀 반복해야겠다는 생각이 들었다. \n",
        "\n",
        "이번에도 역시나 시간을 너무 많이 허비했다. 정말 아무 것도 안 떠오른다 싶으면 도중에 컷트하고 한계를 인정하고 하나하나 배우는 식으로 가야겠다."
      ]
    },
    {
      "cell_type": "code",
      "metadata": {
        "id": "AhrXCAiHmeXF",
        "colab_type": "code",
        "colab": {}
      },
      "source": [
        ""
      ],
      "execution_count": 0,
      "outputs": []
    }
  ]
}