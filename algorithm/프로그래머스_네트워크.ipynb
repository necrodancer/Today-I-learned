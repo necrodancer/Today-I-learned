{
  "nbformat": 4,
  "nbformat_minor": 0,
  "metadata": {
    "colab": {
      "name": "프로그래머스_네트워크.ipynb",
      "provenance": [],
      "collapsed_sections": [],
      "authorship_tag": "ABX9TyMEcxsHh4xgCk3ojQzmVpG5",
      "include_colab_link": true
    },
    "kernelspec": {
      "name": "python3",
      "display_name": "Python 3"
    }
  },
  "cells": [
    {
      "cell_type": "markdown",
      "metadata": {
        "id": "view-in-github",
        "colab_type": "text"
      },
      "source": [
        "<a href=\"https://colab.research.google.com/github/necrodancer/Today-I-learned/blob/master/algorithm/%ED%94%84%EB%A1%9C%EA%B7%B8%EB%9E%98%EB%A8%B8%EC%8A%A4_%EB%84%A4%ED%8A%B8%EC%9B%8C%ED%81%AC.ipynb\" target=\"_parent\"><img src=\"https://colab.research.google.com/assets/colab-badge.svg\" alt=\"Open In Colab\"/></a>"
      ]
    },
    {
      "cell_type": "markdown",
      "metadata": {
        "id": "nmodrgNvlorX",
        "colab_type": "text"
      },
      "source": [
        "# 네트워크\n",
        "* 프로그래머스>코딩테스트 연습>깊이/너비 우선 탐색>네트워크\n",
        "* 문제 링크: [Link](https://programmers.co.kr/learn/courses/30/lessons/43162?language=python3)\n",
        "* 원본 코드: [\\[kata\\]\\[python\\] 프로그래머스 - 네트워크](https://itholic.github.io/kata-network/)\n"
      ]
    },
    {
      "cell_type": "markdown",
      "metadata": {
        "id": "SsHeyjkbmCzI",
        "colab_type": "text"
      },
      "source": [
        "# 소스 코드"
      ]
    },
    {
      "cell_type": "code",
      "metadata": {
        "id": "RMtfZN0clhrb",
        "colab_type": "code",
        "colab": {}
      },
      "source": [
        "def dfs(graph, start_node):\n",
        "    \"\"\"\n",
        "    입력: 딕셔너리 그래프, 시작 노드(index) 필요.\n",
        "    방문 리스트(visit)와 스택(stack)을 이용해 구현.\n",
        "    \"\"\"\n",
        "    visit = []\n",
        "    stack = []\n",
        "    \n",
        "    stack.append(start_node)\n",
        "    \n",
        "    while stack:  # 모든 노드를 방문하면 종료\n",
        "        node = stack.pop()  # 가장 최근 노드를 꺼내고\n",
        "        if node not in visit:  # 방문하지 않았다면\n",
        "            visit.append(node)  # 방문 리스트에 노드를 추가하고\n",
        "            stack.extend(graph[node])  # 해당 노드에 연결된 노드를 그래프에서 추출해서 스택에 넣어준다. tree node에서 child를 추가해 주는 것과 같음.\n",
        "    return visit  # solution 함수에서 방문한 경로의 경우의 수를 세기 위해 반환\n",
        "\n",
        "def solution(n, computers):\n",
        "    \"\"\"\n",
        "    1. 코드 참조 전 문제 내용 정리한 것:\n",
        "    입력: 컴퓨터 개수 n, 2차원 배열 computers\n",
        "    출력: 네트워크의 개수\n",
        "    \n",
        "    네트워크: 컴퓨터가 연결된 형태\n",
        "    A-B 직접 연결\n",
        "    B-C 직접 연결\n",
        "    A-C 간접 연결\n",
        "    따라서 A, B, C는 모두 한 네트워크\n",
        "    \n",
        "    제한:\n",
        "    1 <= n <= 200\n",
        "    컴퓨터 ==> 0 ~ n-1\n",
        "    i, j 컴퓨터가 연결: computers[i][j] == 1\n",
        "    \n",
        "    2. 막혀서 아래 코드를 따라가면서 분석했습니다.\n",
        "    original code: https://itholic.github.io/kata-network/\n",
        "    \"\"\"\n",
        "    answer = 0\n",
        "    # 그래프 생성\n",
        "    graph = {node: [] for node in range(n)}  # 그래프는 딕셔너리로 생성.\n",
        "                                             # 컴퓨터가 0~(n-1) 정수이기 때문에 인덱싱하기 쉬움.\n",
        "    \n",
        "    for i, computer in enumerate(computers):  # i번째 컴퓨터의 연결 정보를 가져옴\n",
        "        for j, conn in enumerate(computer):  # 연결 정보 리스트로부터 연결되었는지 확인할 컴퓨터와 연결 정보를 가져옴\n",
        "            if i != j and conn == 1:  # 자기 자신 제외(i!=j) 두 컴퓨터의 연결 정보가 1이면(연결되어 있으면)\n",
        "                graph[i].append(j)  # 대상 컴퓨터를 그래프 노드에 추가함. (따라서 그 노드를 조회하면 연결된 노드(컴퓨터)가 무엇인지 확인 가능)\n",
        "    \n",
        "    # 모든 컴퓨터에 대해 각각 연결 경로 검사\n",
        "    paths = map(sorted, [dfs(graph, node) for node in graph])  # 그래프에서 노드를 하나씩 꺼내서 dfs로 연결된 경로를 가져온다. 경로는 순서를 가지고 있으므로 중복된 경로를 제거하기 위해 정렬시켜서 동일한 형태로 맞춰준다.\n",
        "    answer = len(set([\"\".join(map(str, path)) for path in paths]))  # 각 경로를 str으로 바꿔준 후 집합 연산(set)을 통해 중복 경로를 제거한다. 그런 후 집합의 개수를 반환하면 unique한 연결 경로(네트워크)의 개수를 저장할 수 있다.\n",
        "    return answer"
      ],
      "execution_count": 0,
      "outputs": []
    },
    {
      "cell_type": "code",
      "metadata": {
        "id": "d3IQtmUimIn9",
        "colab_type": "code",
        "outputId": "2b4905f2-512c-44d0-b012-0cf9659a4d8d",
        "colab": {
          "base_uri": "https://localhost:8080/",
          "height": 53
        }
      },
      "source": [
        "# sample test\n",
        "print(solution(3, [[1, 1, 0], [1, 1, 0], [0, 0, 1]])) # 정답: 2\n",
        "print(solution(3, [[1, 1, 0], [1, 1, 1], [0, 1, 1]])) # 정답: 1"
      ],
      "execution_count": 0,
      "outputs": [
        {
          "output_type": "stream",
          "text": [
            "2\n",
            "1\n"
          ],
          "name": "stdout"
        }
      ]
    },
    {
      "cell_type": "markdown",
      "metadata": {
        "id": "RRKifEo5ml_v",
        "colab_type": "text"
      },
      "source": [
        "# 해설\n",
        "\n",
        "주석 참조\n"
      ]
    },
    {
      "cell_type": "markdown",
      "metadata": {
        "id": "3ONZsTupqaDp",
        "colab_type": "text"
      },
      "source": [
        "# 배운 점\n",
        "\n",
        "1. 여전히 DFS를 구현하지 못하고 있단 점을 깨달았습니다. 이미 있는 구현체를 보지 않고 순서도를 그리고 코드로 옮기는 숙달 과정이 필요합니다.\n",
        "\n",
        "2. 그리고 이미 구현된 DFS마다 입력이 상이해서 응용을 잘 하지 못하는 모습을 보였습니다. 어떤 DFS는 노드 클래스를 이용해서, 어떤 DFS는 딕셔너리 그래프를 생성해서 알고리즘을 실행했습니다. 결국 이론과 구현을 할 수 있게 되었다면 그 알고리즘에 맞는 입력으로 변환하는 연습도 필요하단 걸 알게 되었습니다.\n",
        "\n",
        "3. 리스트와 문자열 변환하기 [Link](https://wayhome25.github.io/python/2017/02/26/py-14-list/)\n",
        "    1. list = str.split() #문자열을 리스트로 공백 시 스페이스 기준으로 split\n",
        "    2. \"\".join(list)  #리스트를 문자열로\n",
        "\n",
        "4. 여전히 자존심 때문인지 제한시간을 두지 않고 끙끙 대는 모습을 보이는데 이전과 마찬가지로 시간낭비로 이어지고 있습니다. 그냥 20분 문제 풀이 + 풀이 확인 + 안 보고 연습 체계를 연습하면 되는데 잘 안 따라줍니다. 이 점이 빨리 시정되어야 합니다."
      ]
    },
    {
      "cell_type": "code",
      "metadata": {
        "id": "AhrXCAiHmeXF",
        "colab_type": "code",
        "outputId": "9fdee4ac-09a5-423b-e102-1654d9f09f52",
        "colab": {
          "base_uri": "https://localhost:8080/",
          "height": 35
        }
      },
      "source": [
        "char = \"hello world\"\n",
        "print(char)"
      ],
      "execution_count": 0,
      "outputs": [
        {
          "output_type": "stream",
          "text": [
            "hello world\n"
          ],
          "name": "stdout"
        }
      ]
    },
    {
      "cell_type": "code",
      "metadata": {
        "id": "nzIWi06TkVa2",
        "colab_type": "code",
        "outputId": "3790db0a-84ba-49fd-f9b2-9cb98c04b2ec",
        "colab": {
          "base_uri": "https://localhost:8080/",
          "height": 35
        }
      },
      "source": [
        "char_list = char.split()\n",
        "print(char_list)"
      ],
      "execution_count": 0,
      "outputs": [
        {
          "output_type": "stream",
          "text": [
            "['hello', 'world']\n"
          ],
          "name": "stdout"
        }
      ]
    },
    {
      "cell_type": "code",
      "metadata": {
        "id": "SiPGZ4cvkZ_D",
        "colab_type": "code",
        "outputId": "b26a848c-e127-4098-b3af-ba19b1c65a07",
        "colab": {
          "base_uri": "https://localhost:8080/",
          "height": 35
        }
      },
      "source": [
        "time_str = '2:56:27'\n",
        "time_list = time_str.split(':')\n",
        "print(time_list)"
      ],
      "execution_count": 0,
      "outputs": [
        {
          "output_type": "stream",
          "text": [
            "['2', '56', '27']\n"
          ],
          "name": "stdout"
        }
      ]
    },
    {
      "cell_type": "code",
      "metadata": {
        "id": "F_BF1-cBkn_z",
        "colab_type": "code",
        "outputId": "78bbe9df-05eb-4b61-822e-165c17210c5b",
        "colab": {
          "base_uri": "https://localhost:8080/",
          "height": 35
        }
      },
      "source": [
        "recovered_time_str = \":\".join(time_list)\n",
        "print(recovered_time_str)"
      ],
      "execution_count": 0,
      "outputs": [
        {
          "output_type": "stream",
          "text": [
            "2:56:27\n"
          ],
          "name": "stdout"
        }
      ]
    },
    {
      "cell_type": "code",
      "metadata": {
        "id": "UId0jhaYkvkb",
        "colab_type": "code",
        "colab": {}
      },
      "source": [
        ""
      ],
      "execution_count": 0,
      "outputs": []
    }
  ]
}