{
  "nbformat": 4,
  "nbformat_minor": 0,
  "metadata": {
    "colab": {
      "name": "프로그래머스_연습문제 올바른 괄호의 갯수.ipynb",
      "provenance": [],
      "include_colab_link": true
    },
    "kernelspec": {
      "name": "python3",
      "display_name": "Python 3"
    }
  },
  "cells": [
    {
      "cell_type": "markdown",
      "metadata": {
        "id": "view-in-github",
        "colab_type": "text"
      },
      "source": [
        "<a href=\"https://colab.research.google.com/github/necrodancer/Today-I-learned/blob/master/algorithm/%ED%94%84%EB%A1%9C%EA%B7%B8%EB%9E%98%EB%A8%B8%EC%8A%A4_%EC%97%B0%EC%8A%B5%EB%AC%B8%EC%A0%9C_%EC%98%AC%EB%B0%94%EB%A5%B8_%EA%B4%84%ED%98%B8%EC%9D%98_%EA%B0%AF%EC%88%98.ipynb\" target=\"_parent\"><img src=\"https://colab.research.google.com/assets/colab-badge.svg\" alt=\"Open In Colab\"/></a>"
      ]
    },
    {
      "cell_type": "code",
      "metadata": {
        "id": "EhzC6r6TDFBQ",
        "colab_type": "code",
        "colab": {}
      },
      "source": [
        "# https://ssungkang.tistory.com/entry/%EC%98%AC%EB%B0%94%EB%A5%B8-%EA%B4%84%ED%98%B8%EC%9D%98-%EA%B0%AF%EC%88%98%ED%94%84%EB%A1%9C%EA%B7%B8%EB%9E%98%EB%A8%B8%EC%8A%A4level4\n",
        "def fac(n): # 우선 팩토리얼을 계산해주는 함수\n",
        "    if n == 1: # n=1 일 때는 \n",
        "        return 1 # 1을 return 하고\n",
        "    return n* fac(n-1) # 그렇지 않을 때는 n에 fac(n-1)을\n",
        "                       #  곱하는 방식으로 재귀적으로 계산\n",
        "\n",
        "def solution(n): # 답을 구하는 함수\n",
        "    return fac(2*n)/(fac(n+1) * fac(n)) # 카탈랑 수를 표현"
      ],
      "execution_count": 0,
      "outputs": []
    },
    {
      "cell_type": "markdown",
      "metadata": {
        "id": "5IZCGSa-DNL0",
        "colab_type": "text"
      },
      "source": [
        "1. https://programmers.co.kr/learn/courses/30/lessons/12929\n",
        "2. https://ssungkang.tistory.com/entry/올바른-괄호의-갯수프로그래머스level4\n",
        "3. https://burningrizen.tistory.com/135"
      ]
    }
  ]
}