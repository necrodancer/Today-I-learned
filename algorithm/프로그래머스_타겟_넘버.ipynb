{
  "nbformat": 4,
  "nbformat_minor": 0,
  "metadata": {
    "colab": {
      "name": "프로그래머스_타겟_넘버.ipynb",
      "provenance": [],
      "collapsed_sections": [],
      "authorship_tag": "ABX9TyPXMYV2zu0wr06FxyOFLkaQ",
      "include_colab_link": true
    },
    "kernelspec": {
      "name": "python3",
      "display_name": "Python 3"
    }
  },
  "cells": [
    {
      "cell_type": "markdown",
      "metadata": {
        "id": "view-in-github",
        "colab_type": "text"
      },
      "source": [
        "<a href=\"https://colab.research.google.com/github/necrodancer/Today-I-learned/blob/master/algorithm/%ED%94%84%EB%A1%9C%EA%B7%B8%EB%9E%98%EB%A8%B8%EC%8A%A4_%ED%83%80%EA%B2%9F_%EB%84%98%EB%B2%84.ipynb\" target=\"_parent\"><img src=\"https://colab.research.google.com/assets/colab-badge.svg\" alt=\"Open In Colab\"/></a>"
      ]
    },
    {
      "cell_type": "markdown",
      "metadata": {
        "id": "nmodrgNvlorX",
        "colab_type": "text"
      },
      "source": [
        "# 타겟 넘버\n",
        "* 프로그래머스>코딩테스트 연습>깊이/너비 우선 탐색/타겟 넘버\n",
        "* 문제 링크: [Link](https://programmers.co.kr/learn/courses/30/lessons/43165?language=python3)\n",
        "* 원본 코드: [\\[kata\\]\\[python\\] 프로그래머스 - 타겟 넘버](https://itholic.github.io/kata-target-number/)\n"
      ]
    },
    {
      "cell_type": "markdown",
      "metadata": {
        "id": "SsHeyjkbmCzI",
        "colab_type": "text"
      },
      "source": [
        "# 소스 코드"
      ]
    },
    {
      "cell_type": "code",
      "metadata": {
        "id": "RMtfZN0clhrb",
        "colab_type": "code",
        "colab": {}
      },
      "source": [
        "def solution(numbers, target):\n",
        "    answer = 0\n",
        "    cnt = 0\n",
        "    N = len(numbers)\n",
        "    \n",
        "    def func(idx=0):\n",
        "        nonlocal numbers, cnt, N\n",
        "        if idx < N:\n",
        "            numbers[idx] *= 1\n",
        "            func(idx+1)\n",
        "\n",
        "            numbers[idx] *= -1\n",
        "            func(idx+1)\n",
        "        elif sum(numbers) == target:\n",
        "            cnt += 1\n",
        "        \n",
        "    func()\n",
        "    answer = cnt\n",
        "    return answer"
      ],
      "execution_count": 0,
      "outputs": []
    },
    {
      "cell_type": "code",
      "metadata": {
        "id": "d3IQtmUimIn9",
        "colab_type": "code",
        "outputId": "93f70ae5-f6fb-429f-cca6-1f6bb64e234a",
        "colab": {
          "base_uri": "https://localhost:8080/",
          "height": 35
        }
      },
      "source": [
        "# sample test\n",
        "print(solution([1, 1, 1, 1, 1], 3)) # 정답: 5"
      ],
      "execution_count": 0,
      "outputs": [
        {
          "output_type": "stream",
          "text": [
            "5\n"
          ],
          "name": "stdout"
        }
      ]
    },
    {
      "cell_type": "markdown",
      "metadata": {
        "id": "RRKifEo5ml_v",
        "colab_type": "text"
      },
      "source": [
        "# 해설\n"
      ]
    },
    {
      "cell_type": "markdown",
      "metadata": {
        "id": "3ONZsTupqaDp",
        "colab_type": "text"
      },
      "source": [
        "# 배운 점\n",
        "\n",
        "원래 numbers의 값을 하나씩 꺼내와야 하는지 고민했는데, 원본 코드를 살펴보니 직접 numbers의 부호만 조작하는 식으로 문제를 해결했다. 이 점이 내게는 참신하게 다가왔다. \n",
        "\n",
        "당초에 나는 반복문으로 구현하려고 했는데, 위에서 얻은 교훈을 적용한다면 반복문으로도 구현할 수 있지 않을까 하는 생각이 든다."
      ]
    },
    {
      "cell_type": "code",
      "metadata": {
        "id": "AhrXCAiHmeXF",
        "colab_type": "code",
        "colab": {}
      },
      "source": [
        ""
      ],
      "execution_count": 0,
      "outputs": []
    }
  ]
}