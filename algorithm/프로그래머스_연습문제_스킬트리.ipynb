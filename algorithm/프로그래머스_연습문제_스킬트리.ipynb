{
  "nbformat": 4,
  "nbformat_minor": 0,
  "metadata": {
    "colab": {
      "name": "프로그래머스_연습문제_스킬트리.ipynb",
      "provenance": [],
      "include_colab_link": true
    },
    "kernelspec": {
      "name": "python3",
      "display_name": "Python 3"
    }
  },
  "cells": [
    {
      "cell_type": "markdown",
      "metadata": {
        "id": "view-in-github",
        "colab_type": "text"
      },
      "source": [
        "<a href=\"https://colab.research.google.com/github/necrodancer/Today-I-learned/blob/master/algorithm/%ED%94%84%EB%A1%9C%EA%B7%B8%EB%9E%98%EB%A8%B8%EC%8A%A4_%EC%97%B0%EC%8A%B5%EB%AC%B8%EC%A0%9C_%EC%8A%A4%ED%82%AC%ED%8A%B8%EB%A6%AC.ipynb\" target=\"_parent\"><img src=\"https://colab.research.google.com/assets/colab-badge.svg\" alt=\"Open In Colab\"/></a>"
      ]
    },
    {
      "cell_type": "code",
      "metadata": {
        "id": "ZXCV8YwvIwd7",
        "colab_type": "code",
        "colab": {}
      },
      "source": [
        "# 참고 : https://zoomkoding.github.io/codingtest/2019/06/19/winter-coding-1.html\n",
        "def solution(skill, skill_trees):\n",
        "    answer = 0\n",
        "    MAX = 100000\n",
        "    for stree in skill_trees:\n",
        "        indices = []\n",
        "        for sk in skill:\n",
        "            temp = stree.find(sk)\n",
        "            if temp != -1:\n",
        "                indices.append(temp)\n",
        "            else:\n",
        "                indices.append(MAX)\n",
        "        if indices == sorted(indices):\n",
        "            answer += 1\n",
        "                    \n",
        "    return answer"
      ],
      "execution_count": 0,
      "outputs": []
    }
  ]
}