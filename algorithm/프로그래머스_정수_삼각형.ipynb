{
  "nbformat": 4,
  "nbformat_minor": 0,
  "metadata": {
    "colab": {
      "name": "프로그래머스_정수_삼각형.ipynb",
      "provenance": [],
      "collapsed_sections": [],
      "authorship_tag": "ABX9TyM7cFT0M1qnJ7FrnlH6Oeii",
      "include_colab_link": true
    },
    "kernelspec": {
      "name": "python3",
      "display_name": "Python 3"
    }
  },
  "cells": [
    {
      "cell_type": "markdown",
      "metadata": {
        "id": "view-in-github",
        "colab_type": "text"
      },
      "source": [
        "<a href=\"https://colab.research.google.com/github/necrodancer/Today-I-learned/blob/master/algorithm/%ED%94%84%EB%A1%9C%EA%B7%B8%EB%9E%98%EB%A8%B8%EC%8A%A4_%EC%A0%95%EC%88%98_%EC%82%BC%EA%B0%81%ED%98%95.ipynb\" target=\"_parent\"><img src=\"https://colab.research.google.com/assets/colab-badge.svg\" alt=\"Open In Colab\"/></a>"
      ]
    },
    {
      "cell_type": "markdown",
      "metadata": {
        "id": "nmodrgNvlorX",
        "colab_type": "text"
      },
      "source": [
        "# 정수 삼각형\n",
        "* 프로그래머스>코딩테스트 연습>DP>정수 삼각형\n",
        "* 문제 링크: [Link](https://programmers.co.kr/learn/courses/30/lessons/43105?language=python3)\n"
      ]
    },
    {
      "cell_type": "markdown",
      "metadata": {
        "id": "SsHeyjkbmCzI",
        "colab_type": "text"
      },
      "source": [
        "# 소스 코드"
      ]
    },
    {
      "cell_type": "code",
      "metadata": {
        "id": "RMtfZN0clhrb",
        "colab_type": "code",
        "colab": {}
      },
      "source": [
        "def solution(triangle):\n",
        "    \"\"\"\n",
        "    BFS 생각 남.\n",
        "    그런데 이전의 값을 계속 합산해나가야 하므로\n",
        "    이전 값을 기억해 둘 필요가 있음 ==> DP\n",
        "    \n",
        "    a.shape = (3, ?)인 입력이 들어왔을 때,\n",
        "    0  # 0: a[1][0], a[1][1] 탐색\n",
        "    0 1 # 0: a[2][0], a[2][1] 탐색. 1: a[2][1], a[2][2] 탐색\n",
        "    0 1 2 # 탐색 종료\n",
        "    \n",
        "    거쳐간 숫자의 합이 가장 큰 경우 = 각 값들이 가장 큰 경우\n",
        "    \n",
        "    pseudo 코드:\n",
        "    dp = [[0]*len(row) for row in triangle]  # dp를 저장할 공간을 만듦. triangle 모양과 똑같되 0으로 초기화.\n",
        "    dp[0][0] = 7  # dp 초깃값 입력\n",
        "    N = len(triangle)\n",
        "    for i in range(0, N-1):  # 1~(N-1)번째 행까지만 조사.\n",
        "        M = len(triangle[i])\n",
        "        for j in range(0, M):  # 각 행 내부 조사\n",
        "            dp[i+1][j] = dp[i][j] + triangle[i+1][j]  # 첫 번째 덧셈\n",
        "            dp[i+1][j+1] = dp[i][j] + triangle[i+1][j+1]  # 두 번째 덧셈\n",
        "    \n",
        "    answer = max(dp[-1])  # 최종 결과는 마지막 행에서 최댓값\n",
        "    \n",
        "    \t[[7], [0, 0], [0, 0, 0], [0, 0, 0, 0], [0, 0, 0, 0, 0]]\n",
        "[[7], [10, 15], [0, 0, 0], [0, 0, 0, 0], [0, 0, 0, 0, 0]]\n",
        "[[7], [10, 15], [18, 16, 15], [0, 0, 0, 0], [0, 0, 0, 0, 0]]\n",
        "[[7], [10, 15], [18, 16, 15], [20, 23, 19, 19], [0, 0, 0, 0, 0]]\n",
        "    계산 결과가 겹치는 경우를 간과. 조건문 추가. 더 큰 결과가 나오면 갱신하는 걸로.\n",
        "    \n",
        "    [[7], [0, 0], [0, 0, 0], [0, 0, 0, 0], [0, 0, 0, 0, 0]]\n",
        "[[7], [10, 15], [0, 0, 0], [0, 0, 0, 0], [0, 0, 0, 0, 0]]\n",
        "[[7], [10, 15], [18, 16, 15], [0, 0, 0, 0], [0, 0, 0, 0, 0]]\n",
        "[[7], [10, 15], [18, 16, 15], [20, 25, 20, 19], [0, 0, 0, 0, 0]]\n",
        "[[7], [10, 15], [18, 16, 15], [20, 25, 20, 19], [24, 30, 27, 26, 24]]\n",
        "    \"\"\"\n",
        "    answer = 0\n",
        "    dp = [[0]*len(row) for row in triangle]\n",
        "    dp[0][0] = triangle[0][0]\n",
        "    N = len(triangle)\n",
        "    for i in range(0, N-1):\n",
        "        M = len(triangle[i])\n",
        "        for j in range(0, M):\n",
        "            # 첫 번째 덧셈, 두 번째 덧셈이 각각 중복될 경우 값을 갱신하기 위해 임시로 저장함.\n",
        "            t1 = dp[i][j] + triangle[i+1][j]\n",
        "            t2 = dp[i][j] + triangle[i+1][j+1]\n",
        "            \n",
        "            # 계산 결과가 각각 이전 값보다 클 경우 계산 결과를 갱신.\n",
        "            if t1 > dp[i+1][j]:\n",
        "                dp[i+1][j] = t1\n",
        "            if t2 > dp[i+1][j+1]:\n",
        "                dp[i+1][j+1] = t2\n",
        "                \n",
        "    answer = max(dp[-1])\n",
        "    return answer"
      ],
      "execution_count": 0,
      "outputs": []
    },
    {
      "cell_type": "code",
      "metadata": {
        "id": "d3IQtmUimIn9",
        "colab_type": "code",
        "outputId": "d83356ed-5c9f-471d-fee2-2832e04061e2",
        "colab": {
          "base_uri": "https://localhost:8080/",
          "height": 35
        }
      },
      "source": [
        "# sample test\n",
        "print(solution(\t[[7], [3, 8], [8, 1, 0], [2, 7, 4, 4], [4, 5, 2, 6, 5]])) # 정답: 30"
      ],
      "execution_count": 8,
      "outputs": [
        {
          "output_type": "stream",
          "text": [
            "30\n"
          ],
          "name": "stdout"
        }
      ]
    },
    {
      "cell_type": "markdown",
      "metadata": {
        "id": "RRKifEo5ml_v",
        "colab_type": "text"
      },
      "source": [
        "# 해설\n",
        "\n",
        "주석 참조.\n"
      ]
    },
    {
      "cell_type": "markdown",
      "metadata": {
        "id": "3ONZsTupqaDp",
        "colab_type": "text"
      },
      "source": [
        "# 배운 점\n",
        "\n",
        "\"\"\" <br>\n",
        "\"\"\"<br>\n",
        "주석에 필요한 조건과 의사코드를 적고 풀이를 진행하는 방식도 코드 작성에 도움이 되는 것 같다.\n",
        "\n",
        "어려웠던 부분은 dp 공간을 어떤 모양으로 만들지였다. 막혀서 한 시간 정도 딴 짓을 하다가 불현듯 그냥 입력 리스트와 똑같은 모양으로 하면 되겠다는 생각이 떠올라 이 문제는 해결되었다.\n",
        "\n",
        "소소한 오류로는 1. i의 범위를 1개 더 계산했다는 것과 2. 계산이 중첩되는 부분에 대한 점을 간과한 것이 있다.\n",
        "\n",
        "2.의 경우에는 print문 디버깅을 통해서 발견했고, 임시저장 및 if문을 통해 문제를 해결할 수있었다.\n"
      ]
    },
    {
      "cell_type": "code",
      "metadata": {
        "id": "AhrXCAiHmeXF",
        "colab_type": "code",
        "colab": {}
      },
      "source": [
        ""
      ],
      "execution_count": 0,
      "outputs": []
    }
  ]
}