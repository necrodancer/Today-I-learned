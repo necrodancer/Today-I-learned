{
  "nbformat": 4,
  "nbformat_minor": 0,
  "metadata": {
    "colab": {
      "name": "프로그래머스_다리를_지나는_트럭.ipynb",
      "provenance": [],
      "authorship_tag": "ABX9TyOGOnzaaHbYa/kAL4DUXwVW",
      "include_colab_link": true
    },
    "kernelspec": {
      "name": "python3",
      "display_name": "Python 3"
    }
  },
  "cells": [
    {
      "cell_type": "markdown",
      "metadata": {
        "id": "view-in-github",
        "colab_type": "text"
      },
      "source": [
        "<a href=\"https://colab.research.google.com/github/necrodancer/Today-I-learned/blob/master/algorithm/%ED%94%84%EB%A1%9C%EA%B7%B8%EB%9E%98%EB%A8%B8%EC%8A%A4_%EB%8B%A4%EB%A6%AC%EB%A5%BC_%EC%A7%80%EB%82%98%EB%8A%94_%ED%8A%B8%EB%9F%AD.ipynb\" target=\"_parent\"><img src=\"https://colab.research.google.com/assets/colab-badge.svg\" alt=\"Open In Colab\"/></a>"
      ]
    },
    {
      "cell_type": "markdown",
      "metadata": {
        "id": "nmodrgNvlorX",
        "colab_type": "text"
      },
      "source": [
        "# 다리를 지나는 트럭\n",
        "* 프로그래머스>코딩테스트 연습>스택/큐>다리를 지나는 트럭\n",
        "* 문제 링크: [Link](https://programmers.co.kr/learn/courses/30/lessons/42583?language=python3)\n",
        "* 참조 코드: [Link](https://leedakyeong.tistory.com/entry/%ED%94%84%EB%A1%9C%EA%B7%B8%EB%9E%98%EB%A8%B8%EC%8A%A4-%EB%8B%A4%EB%A6%AC%EB%A5%BC-%EC%A7%80%EB%82%98%EB%8A%94-%ED%8A%B8%EB%9F%AD-in-python)\n"
      ]
    },
    {
      "cell_type": "markdown",
      "metadata": {
        "id": "SsHeyjkbmCzI",
        "colab_type": "text"
      },
      "source": [
        "# 소스 코드"
      ]
    },
    {
      "cell_type": "code",
      "metadata": {
        "id": "RMtfZN0clhrb",
        "colab_type": "code",
        "colab": {}
      },
      "source": [
        "def solution(bridge_length, weight, truck_weights):\n",
        "    answer = 0\n",
        "    trucks = truck_weights[::-1]\n",
        "    n = len(trucks)\n",
        "    t = [0]*n\n",
        "    passing = []; passed = []\n",
        "    \n",
        "    i = 0; j = -1\n",
        "    while len(passed) < n:\n",
        "        if len(trucks) > 0 and trucks[-1]+sum(passing) <= weight:\n",
        "            passing.append(trucks.pop())\n",
        "            j += 1\n",
        "        t[:j+1] = [t[itr]+1 for itr in range(0,j+1)]\n",
        "        \n",
        "        if t[i] == bridge_length:\n",
        "            passed.append(passing[0])\n",
        "            passing = passing[1:]\n",
        "            i += 1\n",
        "    answer = t[0]+1\n",
        "    return answer"
      ],
      "execution_count": 0,
      "outputs": []
    },
    {
      "cell_type": "code",
      "metadata": {
        "id": "d3IQtmUimIn9",
        "colab_type": "code",
        "outputId": "fd83eaec-905d-4f77-b99b-43951e453c0e",
        "colab": {
          "base_uri": "https://localhost:8080/",
          "height": 71
        }
      },
      "source": [
        "# sample test\n",
        "print(solution(2, 10, [7,4,5,6]))  # 정답: 8\n",
        "print(solution(\t100, 100, [10]))  # 정답: 101\n",
        "print(solution(\t100, 100, [10, 10, 10, 10, 10, 10, 10, 10, 10, 10]))  # 정답: 110  "
      ],
      "execution_count": 0,
      "outputs": [
        {
          "output_type": "stream",
          "text": [
            "8\n",
            "101\n",
            "110\n"
          ],
          "name": "stdout"
        }
      ]
    },
    {
      "cell_type": "markdown",
      "metadata": {
        "id": "RRKifEo5ml_v",
        "colab_type": "text"
      },
      "source": [
        "# 해설\n",
        "트럭의 무게를 리스트에 하나씩 꺼내는 것에서 스택/큐를 사용하는 걸 생각해 볼 수 있다. 이는 파이썬 리스트의 pop과 append로 구현된다.\n",
        "\n",
        "또한 문제에서 제시한 경과 시간(`t`)/다리를 지난 트럭(`passed`)/다리를 건너는 트럭(`passing`)/대기 트럭(`trucks`)을 변수화하는 것도 좋다.\n",
        "\n",
        "코드는 while문 안에서 수행된다. while문의 종료 조건은 다리를 지난 트럭(`passed`)가 처음 대기 트럭 개수(`n`)와 같아지는 것이다.\n",
        "\n",
        "while문 시작 전에 선언된 `i`, `j`는 각각 선두 트럭과 가장 최근(마지막)에 다리에 오른 트럭의 인덱스를 의미한다.\n",
        "\n",
        "while문 처음에는, 대기 트럭이 존재하고, 새 트럭이 다리에 올라왔을 때의 무게가 제한 중량(`weight`)를 넘지 않으면 대기 트럭 하나를 리스트에서 꺼내(`pop`) 다리를 건너는 트럭(`passing`)에 넣는다(`append`). 그리고 트럭이 추가되었으므로 `j`를 증가시켜서 마지막 트럭에 대한 인덱스를 갱신한다.\n",
        "\n",
        "그런 다음 마지막 트럭의 인덱스(`j`)까지만 시간 리스트 `t`에서 각각 1초씩 증가시킨다.(while문 한 번 돌 때마다 트럭이 1초씩 이동한다고 생각하면 된다.)\n",
        "\n",
        "그리고 선두 트럭인 i번째 트럭의 경과 시간이 다리 길이(`bridge_length`)와 같아지면, `passing`에 있던 선두 트럭을 `pop`해서 `passed`로 `append`해준다. 그리고 인덱스 `i`를 1 증가시켜서 선두 트럭이 바뀌었음을 설정해주면 된다.\n",
        "\n",
        "이렇게 `j`를 통해 현재 다리 위의 트럭에 대한 시간을 카운트하고, `i`를 통해 선두 트럭의 도착을 다루다보면 passed에 속한 트럭이 `n`개에 도달할 것이다. 그러면 while문이 종료된다. 그런 다음 `t`에서 가장 처음 들어갔던 트럭의 시간 `t[0]`에 마지막 트럭의 도착시간 1초를 더해서 answer에 저장하고 반환하면 끝이다. 이렇게 하는 까닭은, 첫 트럭이 도착하더라도 `t` 안에서는 계속 첫 트럭에 대한 경과시간도 카운트 되고 있기 때문에 이는 마지막 트럭에 대한 경과시간도 포함하게 되므로 전체시간으로 간주할 수 있다. 하지만 while문의 종료조건에 의해 마지막 트럭의 1초가 카운트되지 않으므로 1을 추가적으로 더해주는 것이다. \n",
        "\n"
      ]
    },
    {
      "cell_type": "markdown",
      "metadata": {
        "id": "3ONZsTupqaDp",
        "colab_type": "text"
      },
      "source": [
        "# 배운 점\n",
        "사실 문제를 풀다가 막혀서 다른 사람의 해설을 참조했다.\n",
        "\n",
        "트럭을 들여보내는 조건이나 while문의 종료 조건은 참조 코드와 동일하게 작성했지만, 각 트럭의 시간을 count하는 부분에서 차이를 보였다.\n",
        "\n",
        "나는 처음에는 `bridge = [0, 0, ..., 0]`과 같이 물리적으로 다리를 구현하고 거기에 `bridge = [7, 0, ..., 0]` 트럭을 올려서 `shift`함수로 차량이 이동하는 것까지 구현했지만 time out이 떠서 다른 방법을 고민해보기로 했다.\n",
        "\n",
        "하지만 각 트럭에 대한 시간을 모두 카운트하는 건 뭔가 복잡하다고 생각해서 거기에서 막히고 또 막혔다.\n",
        "\n",
        "그래서 결국 2시간 이상 코드를 썼다 지웠다 반복하다가 한계를 인정하고 내가 캐치하지 못한 점을 타인의 코드에서 배우기로 했다. \n",
        "\n",
        "참조 코드는 t를 각 트럭마다 관리했는데 i와 j 변수를 이용해서 선두 트럭과 마지막 트럭에 대한 인덱스를 관리하는 것이 정말 참신했다. \n",
        "또한 변수명도 나보다 더 단순해서 참고가 되었다. 나는 트럭의 개수를 `n_truck`으로 적었다면 참조 코드는 `n`으로 표기했다. 개수 변수가 단일하면 그냥 더 단순하게 적어도 되겠다는 걸 깨달았다.\n",
        "\n",
        "마지막으로 문제 외적으로 충분히 고민해보고 잘 풀리지 않는다면 다른 사람의 코드를 분석해서 내가 생각하지 못하는 부분을 캐치하고 연습하는 게 좀더 효율적이라는 걸 배웠다. 기존에는 몇 시간 동안 그것만 잡다가 배우겠다는 생각 대신 좌절감에 빠져서 딴짓을 하다가 문제를 마무리 못 하기 일쑤였기 때문에 이번에 좀더 꼼꼼하게 기록하는 중이다. 내 문제 풀이 패턴 중에서 정말 안 좋은 점이라 이 문제를 계기로 고쳐나가기를 빈다."
      ]
    },
    {
      "cell_type": "markdown",
      "metadata": {
        "id": "kE6jKl-vsiCz",
        "colab_type": "text"
      },
      "source": [
        "# 기타 참조\n",
        "* 파이썬에서 shift함수 구현하기: [Link](https://andamiro25.tistory.com/94)"
      ]
    },
    {
      "cell_type": "code",
      "metadata": {
        "id": "AhrXCAiHmeXF",
        "colab_type": "code",
        "colab": {}
      },
      "source": [
        ""
      ],
      "execution_count": 0,
      "outputs": []
    }
  ]
}