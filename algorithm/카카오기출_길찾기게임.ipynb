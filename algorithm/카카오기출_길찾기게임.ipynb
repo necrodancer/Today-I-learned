{
  "nbformat": 4,
  "nbformat_minor": 0,
  "metadata": {
    "colab": {
      "name": "카카오기출_길찾기게임.ipynb",
      "provenance": [],
      "include_colab_link": true
    },
    "kernelspec": {
      "name": "python3",
      "display_name": "Python 3"
    }
  },
  "cells": [
    {
      "cell_type": "markdown",
      "metadata": {
        "id": "view-in-github",
        "colab_type": "text"
      },
      "source": [
        "<a href=\"https://colab.research.google.com/github/necrodancer/Today-I-learned/blob/master/algorithm/%EC%B9%B4%EC%B9%B4%EC%98%A4%EA%B8%B0%EC%B6%9C_%EA%B8%B8%EC%B0%BE%EA%B8%B0%EA%B2%8C%EC%9E%84.ipynb\" target=\"_parent\"><img src=\"https://colab.research.google.com/assets/colab-badge.svg\" alt=\"Open In Colab\"/></a>"
      ]
    },
    {
      "cell_type": "markdown",
      "metadata": {
        "id": "J_uoatSbOsbY",
        "colab_type": "text"
      },
      "source": [
        "# 2019 카카오 신입 공채 1차 코딩 테스트 문제 해설\n",
        "---\n",
        "## 5. 길찾기 게임\n",
        "문제 풀어보기 : [Link](https://www.welcomekakao.com/learn/courses/30/lessons/42892?language=python3)\n",
        "\n",
        "카카오 공식 해설 : [Link](https://tech.kakao.com/2018/09/21/kakao-blind-recruitment-for2019-round-1/)\n",
        "\n",
        "파이썬 3 구현 해설 : [Link](https://kyome.tistory.com/111) by.KYOME"
      ]
    },
    {
      "cell_type": "markdown",
      "metadata": {
        "id": "_srUwi0RPid_",
        "colab_type": "text"
      },
      "source": [
        "### Solution"
      ]
    },
    {
      "cell_type": "code",
      "metadata": {
        "id": "WIRMBT_WPZAW",
        "colab_type": "code",
        "colab": {}
      },
      "source": [
        "# 출처: https://kyome.tistory.com/111 [KYOME ]\n",
        "# 본인의 이해를 위해 주석을 답니다.\n",
        "\n",
        "import sys\n",
        "sys.setrecursionlimit(10**6) # 파이썬에는 재귀 반복 회수 제한이 존재(default : 1000)\n",
        "                             # Programmers 환경에서 RuntimeError 방지를 위해\n",
        "                             # 재귀 반복 회수 제한을 10^6으로 확장\n",
        "\n",
        "class Tree:\n",
        "    def __init__(self,dataList):\n",
        "        \"\"\"\n",
        "        datalist : [[x1,y1], [x2,y2], ...] 형태로 노드의 좌표가 들어 있다. 각 노드의 인덱스는 문제에서 제시한 순서 정보를 의미한다.\n",
        "        \"\"\"\n",
        "        self.data=max(dataList,key=lambda x :x[1])  # 루트 노드, key를 통해 각 원소(리스트)의 특정 원소만 추출해서 최댓값 계산\n",
        "        leftList =list(filter(lambda x :x[0] < self.data[0] , dataList)) # 왼쪽 서브 트리, filter는 반복 데이터(리스트 등)에 대해 조건을 적용하여 새로운 리스트를 만드는데 사용\n",
        "        rightList = list(filter(lambda x :x[0] > self.data[0] , dataList)) # 오른쪽 서브 트리, list(filter())는 [i for i in range(-5, 5) if i > 0]류와 같은 역할\n",
        "    \n",
        "        # 재귀적으로 서브트리의 객체를 생성한다.\n",
        "        if leftList != []:\n",
        "            self.left=Tree(leftList) \n",
        "        else :\n",
        "            self.left=None\n",
        "        if rightList != []:\n",
        "            self.right=Tree(rightList)\n",
        "        else :\n",
        "            self.right=None\n",
        "\n",
        "def fix(node,postList,preList):\n",
        "    \"\"\"\n",
        "    전위순회(preorder search)와 후위순회(postorder search)를 동시에 구현\n",
        "    전위순회 : 루트노드부터 먼저 순회하고 좌측, 우측 서브트리를 순회\n",
        "    후위순회 : 좌측서브트리부터 먼저 순회하고, 그 다음이 우측 서브트리, 마지막으로 루트노드를 순회\n",
        "    \"\"\"\n",
        "    postList.append(node.data) # 루트노드를 먼저 순회한다 (전위)\n",
        "    if node.left is not None: # 좌측 노드가 존재하면 재귀적으로 계속 타고 내려간다.\n",
        "        fix(node.left,postList,preList)\n",
        "    if node.right is not None: # 우측 노드가 존재하면 재귀적으로 계속 타고 내려간다.\n",
        "        fix(node.right,postList,preList)\n",
        "    preList.append(node.data) # 서브트리들을 탐색후 노드를 순회한다. (후위)\n",
        "\n",
        "def solution(nodeinfo):\n",
        "    \"\"\"\n",
        "    메인 함수\n",
        "    \"\"\"\n",
        "    answer = []\n",
        "    root = Tree(nodeinfo) # 트리 생성\n",
        "    postList = [] # 전위순회 결과\n",
        "    preList = [] # 후위순회 결과\n",
        "    fix(root,postList,preList) # 순회 실시\n",
        "    \n",
        "    # 순회 결과는 노드의 좌표값이기 때문에 각 노드의 순서(인덱스)로 변환\n",
        "    answer.append(list(map(lambda x: nodeinfo.index(x)+1 ,postList)))\n",
        "    answer.append(list(map(lambda x: nodeinfo.index(x)+1 ,preList)))\n",
        "    return answer"
      ],
      "execution_count": 0,
      "outputs": []
    },
    {
      "cell_type": "code",
      "metadata": {
        "id": "C4T_B_cDUE-A",
        "colab_type": "code",
        "colab": {
          "base_uri": "https://localhost:8080/",
          "height": 34
        },
        "outputId": "52916e4b-f20e-4bba-d05d-64c4575c2139"
      },
      "source": [
        "nodeinfo = [[5,3],[11,5],[13,3],[3,5],[6,1],[1,3],[8,6],[7,2],[2,2]]\n",
        "answer = solution(nodeinfo)\n",
        "print(answer)"
      ],
      "execution_count": 2,
      "outputs": [
        {
          "output_type": "stream",
          "text": [
            "[[7, 4, 6, 9, 1, 8, 5, 2, 3], [9, 6, 5, 8, 1, 4, 3, 2, 7]]\n"
          ],
          "name": "stdout"
        }
      ]
    },
    {
      "cell_type": "markdown",
      "metadata": {
        "id": "DZ3q3wGqUyIo",
        "colab_type": "text"
      },
      "source": [
        "## References\n",
        "1. 파이썬 재귀 최대깊이 지정 : [Link 1](https://www.welcomekakao.com/learn/questions/3723), [Link 2](https://algoshipda.blogspot.com/2015/05/syssetrecursionlimit-limit.html)\n",
        "2. 트리 순회 : [위키피디아](https://ko.wikipedia.org/wiki/%ED%8A%B8%EB%A6%AC_%EC%88%9C%ED%9A%8C#%EC%A0%84%EC%9C%84_%EC%88%9C%ED%9A%8C), [Link 1](https://kingpodo.tistory.com/28), [Link 2](https://reakwon.tistory.com/36), [Link 3](http://ejklike.github.io/2018/01/09/traversing-a-binary-tree-1.html)\n",
        "3. 파이썬 max 함수에서 key값 사용 : [Link](https://codeday.me/ko/qa/20190319/28686.html)\n",
        "4. 파이썬 filter 함수 사용 : [Link](https://bluese05.tistory.com/66)"
      ]
    },
    {
      "cell_type": "code",
      "metadata": {
        "id": "70-DN7kRUOE2",
        "colab_type": "code",
        "colab": {}
      },
      "source": [
        ""
      ],
      "execution_count": 0,
      "outputs": []
    }
  ]
}