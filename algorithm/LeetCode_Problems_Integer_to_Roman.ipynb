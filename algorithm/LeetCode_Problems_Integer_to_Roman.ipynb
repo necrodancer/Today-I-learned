{
  "nbformat": 4,
  "nbformat_minor": 0,
  "metadata": {
    "colab": {
      "name": "LeetCode_Problems_Integer_to_Roman.ipynb",
      "provenance": [],
      "include_colab_link": true
    },
    "kernelspec": {
      "name": "python3",
      "display_name": "Python 3"
    }
  },
  "cells": [
    {
      "cell_type": "markdown",
      "metadata": {
        "id": "view-in-github",
        "colab_type": "text"
      },
      "source": [
        "<a href=\"https://colab.research.google.com/github/necrodancer/Today-I-learned/blob/master/algorithm/LeetCode_Problems_Integer_to_Roman.ipynb\" target=\"_parent\"><img src=\"https://colab.research.google.com/assets/colab-badge.svg\" alt=\"Open In Colab\"/></a>"
      ]
    },
    {
      "cell_type": "code",
      "metadata": {
        "id": "hRcEfDSTtYYA",
        "colab_type": "code",
        "colab": {}
      },
      "source": [
        "class Solution:\n",
        "    def intToRoman(self, num: int) -> str:\n",
        "        # all cases of numbers \n",
        "        val = [\n",
        "            1000, 900, 500, 400,\n",
        "            100, 90, 50, 40,\n",
        "            10, 9, 5, 4,\n",
        "            1\n",
        "            ]\n",
        "        # all cases of Roman\n",
        "        syb = [\n",
        "            \"M\", \"CM\", \"D\", \"CD\",\n",
        "            \"C\", \"XC\", \"L\", \"XL\",\n",
        "            \"X\", \"IX\", \"V\", \"IV\",\n",
        "            \"I\"\n",
        "            ]\n",
        "        roman_num = '' # translated roman\n",
        "        i = 0\n",
        "        while  num > 0: # repeats as long as num is positive number.\n",
        "            for _ in range(num // val[i]): # starts from the largest number \n",
        "                                           # if it is nonzero,\n",
        "                roman_num += syb[i] # the current indexed roman is appended.\n",
        "                num -= val[i] # after appending, remove the used number e.g. 1000\n",
        "            i += 1 # increment index to move 1000, 900, 500, 400, ...\n",
        "        return roman_num"
      ],
      "execution_count": 0,
      "outputs": []
    },
    {
      "cell_type": "markdown",
      "metadata": {
        "id": "2DJnt3MI1OtO",
        "colab_type": "text"
      },
      "source": [
        "The reason why I was stuck in implementation,\n",
        "I only defined 1, 5, 10, 100, 500, 1000.\n",
        "I tried to deal with 4, 9, 40, ... with conditions.\n",
        "\n",
        "It made the problem more difficult.\n",
        "\n",
        "But this code simply defines all the cases of \n",
        "Roman number.\n",
        "\n",
        "And the code dealt with the number by subtracting.\n",
        "\n",
        "At first, I decided to increment from zero to the target number `num`.\n",
        "\n",
        "This code cleverly appends the predefined Roman number and remove it from the original number.\n",
        "\n",
        "And the divided number `num // val[i]` decides how much iterates appending Roman character."
      ]
    },
    {
      "cell_type": "markdown",
      "metadata": {
        "id": "qVzV-RL0zfFj",
        "colab_type": "text"
      },
      "source": [
        "# References\n",
        "1. Original source code : [Python Exercise: Convert an integer it to a roman numeral](https://www.w3resource.com/python-exercises/class-exercises/python-class-exercise-1.php)"
      ]
    },
    {
      "cell_type": "code",
      "metadata": {
        "id": "i5QN8LF4ztz5",
        "colab_type": "code",
        "colab": {}
      },
      "source": [
        ""
      ],
      "execution_count": 0,
      "outputs": []
    }
  ]
}