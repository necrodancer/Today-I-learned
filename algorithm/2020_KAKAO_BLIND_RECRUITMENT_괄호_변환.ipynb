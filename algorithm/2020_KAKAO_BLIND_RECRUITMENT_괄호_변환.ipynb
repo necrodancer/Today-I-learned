{
  "nbformat": 4,
  "nbformat_minor": 0,
  "metadata": {
    "colab": {
      "name": "2020 KAKAO BLIND RECRUITMENT 괄호 변환.ipynb",
      "provenance": [],
      "include_colab_link": true
    },
    "kernelspec": {
      "name": "python3",
      "display_name": "Python 3"
    }
  },
  "cells": [
    {
      "cell_type": "markdown",
      "metadata": {
        "id": "view-in-github",
        "colab_type": "text"
      },
      "source": [
        "<a href=\"https://colab.research.google.com/github/necrodancer/Today-I-learned/blob/master/algorithm/2020_KAKAO_BLIND_RECRUITMENT_%EA%B4%84%ED%98%B8_%EB%B3%80%ED%99%98.ipynb\" target=\"_parent\"><img src=\"https://colab.research.google.com/assets/colab-badge.svg\" alt=\"Open In Colab\"/></a>"
      ]
    },
    {
      "cell_type": "markdown",
      "metadata": {
        "id": "XE0mgbT0XahG",
        "colab_type": "text"
      },
      "source": [
        "#2020 KAKAO BLIND RECRUITMENT 괄호 변환\n",
        "풀이 출처 : https://www.snoopybox.co.kr/2053\n",
        "\n",
        "풀이 해설 : \n",
        "1. 괄호를 숫자로, 숫자를 괄호로 변환하는 딕셔너리를 설정했다. 수치연산을 통해 조건을 계산하고, 문자열을 완성할 때 역으로 변환한다.\n",
        "2. 1 또는 -1로 변환된 괄호열을 순차적으로 연산하여 총합이 0일 경우 균형 잡힌 괄호열이라 판단하도록 했다.\n",
        "3. 이미 균형 잡힌 괄호열에 대해 순차적으로 합을 구하여 합이 0인지(괄호가 그때 그때 닫히는지) 판단하도록 했다. 만약 음수가 나온다면 열린 괄호가 존재한다는 의미이므로 올바른 괄호 문자열이 아니게 된다.\n",
        "4. 위 두 조건식을 통해 재귀 함수를 작성하여 그 함수 자체를 반환하게 끔 코드가 작성되었다."
      ]
    },
    {
      "cell_type": "code",
      "metadata": {
        "id": "uFO81tn4XZWf",
        "colab_type": "code",
        "colab": {}
      },
      "source": [
        "def solution(p):\n",
        "    trans = {'(': 1, ')': -1, 1: '(', -1: ')'}\n",
        "\n",
        "    def split(s):\n",
        "        e = trans[s[0]]\n",
        "        i = 1\n",
        "        while e != 0 and i < len(s):\n",
        "            e += trans[s[i]]\n",
        "            i += 1\n",
        "        return (s[:i], s[i:])\n",
        "\n",
        "    def is_correct(s):\n",
        "        e = 0\n",
        "        for c in s:\n",
        "            e += trans[c]\n",
        "            if e < 0:\n",
        "                return False\n",
        "        return True\n",
        "\n",
        "    def make_correct(u, v):\n",
        "        ret = '(%s)' % recursion(v)\n",
        "        for c in u[1:-1]:\n",
        "            ret += trans[-trans[c]]\n",
        "        return ret\n",
        "\n",
        "    def recursion(s):\n",
        "        if not s:\n",
        "            return s\n",
        "        u, v = split(s)\n",
        "        if is_correct(u):\n",
        "            return u + recursion(v)\n",
        "        return make_correct(u, v)\n",
        "\n",
        "    return recursion(p)"
      ],
      "execution_count": 0,
      "outputs": []
    },
    {
      "cell_type": "code",
      "metadata": {
        "id": "tPix_GQhX3Gs",
        "colab_type": "code",
        "colab": {
          "base_uri": "https://localhost:8080/",
          "height": 52
        },
        "outputId": "c16c681a-7985-4e6d-9981-3b582fea6583"
      },
      "source": [
        "print(solution('(()())()'))\n",
        "print(solution(')('))"
      ],
      "execution_count": 5,
      "outputs": [
        {
          "output_type": "stream",
          "text": [
            "(()())()\n",
            "()\n"
          ],
          "name": "stdout"
        }
      ]
    },
    {
      "cell_type": "code",
      "metadata": {
        "id": "uHBGSOEfX7kg",
        "colab_type": "code",
        "colab": {}
      },
      "source": [
        ""
      ],
      "execution_count": 0,
      "outputs": []
    }
  ]
}