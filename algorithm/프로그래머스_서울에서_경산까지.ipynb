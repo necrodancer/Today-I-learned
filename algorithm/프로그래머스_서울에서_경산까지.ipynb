{
  "nbformat": 4,
  "nbformat_minor": 0,
  "metadata": {
    "colab": {
      "name": "프로그래머스_서울에서_경산까지.ipynb",
      "provenance": [],
      "collapsed_sections": [],
      "authorship_tag": "ABX9TyNSXEvyAlQ5lIG4nuL9LzdK",
      "include_colab_link": true
    },
    "kernelspec": {
      "name": "python3",
      "display_name": "Python 3"
    }
  },
  "cells": [
    {
      "cell_type": "markdown",
      "metadata": {
        "id": "view-in-github",
        "colab_type": "text"
      },
      "source": [
        "<a href=\"https://colab.research.google.com/github/necrodancer/Today-I-learned/blob/master/algorithm/%ED%94%84%EB%A1%9C%EA%B7%B8%EB%9E%98%EB%A8%B8%EC%8A%A4_%EC%84%9C%EC%9A%B8%EC%97%90%EC%84%9C_%EA%B2%BD%EC%82%B0%EA%B9%8C%EC%A7%80.ipynb\" target=\"_parent\"><img src=\"https://colab.research.google.com/assets/colab-badge.svg\" alt=\"Open In Colab\"/></a>"
      ]
    },
    {
      "cell_type": "markdown",
      "metadata": {
        "id": "nmodrgNvlorX",
        "colab_type": "text"
      },
      "source": [
        "# 서울에서 경산까지\n",
        "* 프로그래머스>코딩테스트 연습>DP>서울에서 경산까지\n",
        "* 문제 링크: [Link](https://programmers.co.kr/learn/courses/30/lessons/42899?language=python3)\n",
        "* 참조 코드: \n",
        "    * https://hororolol.tistory.com/151\n",
        "    * https://codedrive.tistory.com/299\n"
      ]
    },
    {
      "cell_type": "markdown",
      "metadata": {
        "id": "SsHeyjkbmCzI",
        "colab_type": "text"
      },
      "source": [
        "# 소스 코드"
      ]
    },
    {
      "cell_type": "code",
      "metadata": {
        "id": "RMtfZN0clhrb",
        "colab_type": "code",
        "colab": {}
      },
      "source": [
        "def solution(K, travel):\n",
        "    \"\"\"\n",
        "    각 경로 별로 현재까지 걸린 시간당 최대 모금액을 dp에 저장.\n",
        "    \n",
        "    dp[현재 도시][현재까지 걸린시간] = dp[이전 도시][이전도시까지 걸린 시간]+모금액\n",
        "    점화식과 전체적인 코드는 https://hororolol.tistory.com/151를 참조.\n",
        "\n",
        "    answer 값을 갱신하는 방법은 https://codedrive.tistory.com/299를 참조함.\n",
        "    \"\"\"\n",
        "    answer = 0\n",
        "    N = len(travel)\n",
        "    dp = [[0]*(K+1) for _ in range(N)]  # N개의 도시 각각 K+1 길이의 타임라인을 생성. \n",
        "    for i in range(N):  # 0~N 번째 도시를 조사\n",
        "        q, w, e, r = travel[i]  # q, e는 도보, 자전거의 시간, w, r은 도보, 자전거의 모금액\n",
        "        if i == 0:  # 0번째(첫 번째) 도시일 경우\n",
        "            dp[0][q] = w  # 도보 시간에 도보 모금액 추가\n",
        "            dp[0][e] = max(dp[0][e], r)  # 혹시 도보와 자전거 시간대가 겹칠 수 있으므로 max함수로 더 큰 모금액을 저장한다. 어차피 최대 모금액을 찾는 과정이니까.\n",
        "        else:\n",
        "            for j in range(K):  # 0~K시간까지 조사\n",
        "                if dp[i-1][j] == 0:  # 이전 도시, 이전 시간의 모금액이 0이면 들른 적이 없다는 뜻이다. 건너뛴다.\n",
        "                    continue\n",
        "                if j+q <= K:  # 도보 시간을 추가했을 때 제한시간 내인 경우\n",
        "                    dp[i][j+q] = max(dp[i][j+q],dp[i-1][j]+w)  # 다음에 올 위치에 모금액이 기록되어 있을 수도 있으므로 max함수로 비교를 해준다.\n",
        "                    answer = max(answer,dp[i][j+q])  # answer에 최대 모금액을 갱신\n",
        "                if j+e <= K:  # 자전거 시간을 추가했을 때 제한시간 내인 경우\n",
        "                    dp[i][j+e] = max(dp[i][j+e], dp[i-1][j]+r)\n",
        "                    answer = max(answer,dp[i][j+e])\n",
        "    \n",
        "    return answer"
      ],
      "execution_count": 0,
      "outputs": []
    },
    {
      "cell_type": "code",
      "metadata": {
        "id": "d3IQtmUimIn9",
        "colab_type": "code",
        "outputId": "0894b04a-7d3a-4c63-b212-94ecf969abdf",
        "colab": {
          "base_uri": "https://localhost:8080/",
          "height": 53
        }
      },
      "source": [
        "# sample test\n",
        "print(solution(1650, [[500, 200, 200, 100], [800, 370, 300, 120], [700, 250, 300, 90]])) # 정답: 660\n",
        "print(solution(\t3000, [[1000, 2000, 300, 700], [1100, 1900, 400, 900], [900, 1800, 400, 700], [1200, 2300, 500, 1200]])) # 정답: 5900"
      ],
      "execution_count": 2,
      "outputs": [
        {
          "output_type": "stream",
          "text": [
            "660\n",
            "5900\n"
          ],
          "name": "stdout"
        }
      ]
    },
    {
      "cell_type": "markdown",
      "metadata": {
        "id": "RRKifEo5ml_v",
        "colab_type": "text"
      },
      "source": [
        "# 해설\n",
        "\n",
        "주석 참조"
      ]
    },
    {
      "cell_type": "markdown",
      "metadata": {
        "id": "3ONZsTupqaDp",
        "colab_type": "text"
      },
      "source": [
        "# 배운 점\n",
        "\n",
        "처음에는 도보인지 자전거인지에 따라 경우가 나뉘므로 이진 트리 형식으로 경우의 수를 다 계산하도록 했다. 하지만 이건 완전 탐색이므로 코드가 시간을 초과했다.\n",
        "\n",
        "그 후 dp를 이용해서 풀려고 시도했다. 점화식에 들어갈 인수를 뭘로 해야할까 며칠을 고민하다가 다른 사람의 풀이를 보니까 시간을 인수로 잡은 걸 발견했다. 시간의 범위가 많게는 100,000이다 보니 처음에는 이 큰 범위를 점화식의 인덱스로 쓸 생각도 못 했다.\n",
        "\n",
        "그걸 알고 다시 생각해보면, `dp(현재 도시, 현재 시간)=현재 모금액`이라고 간단하게 정의할 수 있었을텐데 이전 문제들에서는 적은 범위의 값들만 인덱스로 삼아서 감히 시간을 인덱스로 쓸 생각을 못 했다.\n",
        "\n",
        "그리고 이렇게 큰 범위를 입력으로 쓰다보니 테스트 케이스에 오답이 나도 어느 부분이 틀렸는지 찾아내기 쉽지 않았다.\n",
        "\n",
        "우연히도 answer을 갱신하는 방식을 바꿔서 테스트 케이스를 모두 통과했지만, 그건 정말 우연이었다. 제일 처음 참조한 코드에서는 answer을 마지막 도시에서만 탐색했는데, 테스트 케이스 2, 3에서는 그렇지 않은 경우도 포함해서 틀렸던 것 같다. 그 대신 매번 계산할 때마다 answer을 갱신해주니 누락되는 값이 없어져서 통과한 것 같다.\n",
        "\n",
        "결론:\n",
        "* dp의 점화식 입력 범위가 클 수도 있다.\n"
      ]
    },
    {
      "cell_type": "code",
      "metadata": {
        "id": "AhrXCAiHmeXF",
        "colab_type": "code",
        "colab": {}
      },
      "source": [
        ""
      ],
      "execution_count": 0,
      "outputs": []
    }
  ]
}