{
  "nbformat": 4,
  "nbformat_minor": 0,
  "metadata": {
    "colab": {
      "name": "프로그래머스_기능개발.ipynb",
      "provenance": [],
      "authorship_tag": "ABX9TyO6dsJl1TnWvs+/w9cDtsd1",
      "include_colab_link": true
    },
    "kernelspec": {
      "name": "python3",
      "display_name": "Python 3"
    }
  },
  "cells": [
    {
      "cell_type": "markdown",
      "metadata": {
        "id": "view-in-github",
        "colab_type": "text"
      },
      "source": [
        "<a href=\"https://colab.research.google.com/github/necrodancer/Today-I-learned/blob/master/algorithm/%ED%94%84%EB%A1%9C%EA%B7%B8%EB%9E%98%EB%A8%B8%EC%8A%A4_%EA%B8%B0%EB%8A%A5%EA%B0%9C%EB%B0%9C.ipynb\" target=\"_parent\"><img src=\"https://colab.research.google.com/assets/colab-badge.svg\" alt=\"Open In Colab\"/></a>"
      ]
    },
    {
      "cell_type": "markdown",
      "metadata": {
        "id": "nmodrgNvlorX",
        "colab_type": "text"
      },
      "source": [
        "# 기능개발\n",
        "* 프로그래머스>코딩테스트 연습>스택/큐>기능개발\n",
        "* 문제 링크: [Link](https://programmers.co.kr/learn/courses/30/lessons/42586?language=python3)\n",
        "\n"
      ]
    },
    {
      "cell_type": "markdown",
      "metadata": {
        "id": "SsHeyjkbmCzI",
        "colab_type": "text"
      },
      "source": [
        "# 소스 코드"
      ]
    },
    {
      "cell_type": "code",
      "metadata": {
        "id": "RMtfZN0clhrb",
        "colab_type": "code",
        "colab": {}
      },
      "source": [
        "def solution(progresses, speeds):\n",
        "    answer = []\n",
        "    prog = progresses[::-1]  # pop(0)보다 빠른 pop()을 쓰기 위해 리스트를 뒤집어 줌\n",
        "    speeds = speeds[::-1] # pop(0)보다 빠른 pop()을 쓰기 위해 리스트를 뒤집어 줌\n",
        "    count = 0  # 완료 작업 수\n",
        "    \n",
        "    while prog:  # 작업이 모두 완료되면(리스트가 비게 되면) 종료 (while문 1번 == 하루)\n",
        "        # 각 작업의 진행도를 증가\n",
        "        prog = [prog[itr]+speeds[itr] for itr in range(len(prog))]\n",
        "        \n",
        "        # 100% 이상의 작업을 순차적으로 제거\n",
        "        while True:\n",
        "            if len(prog) > 0 and prog[-1] >= 100:  # 작업이 존재하고, 선두 작업이 100% 이상인 경우\n",
        "                prog.pop()  # 선두 작업 제거(혹은 완료)\n",
        "                speeds.pop()  # 선두 작업률 제거\n",
        "                count += 1  # 완료된 작업 수 세기\n",
        "            else:\n",
        "                break  # 100% 미만 선두 작업이거나 작업이 없을 경우 break\n",
        "                \n",
        "        # 유의미한 완료 작업 수가 존재할 경우 정답 리스트에 추가\n",
        "        if count > 0:\n",
        "            answer.append(count)\n",
        "        \n",
        "        # 완료 작업수 초기화\n",
        "        count = 0  \n",
        "            \n",
        "    return answer"
      ],
      "execution_count": 0,
      "outputs": []
    },
    {
      "cell_type": "code",
      "metadata": {
        "id": "d3IQtmUimIn9",
        "colab_type": "code",
        "outputId": "07c72b72-6b2a-4c23-fff0-ca9cd755711e",
        "colab": {
          "base_uri": "https://localhost:8080/",
          "height": 35
        }
      },
      "source": [
        "# sample test\n",
        "print(solution(\t[93, 30, 55], [1, 30, 5]))  # 정답: [2, 1]"
      ],
      "execution_count": 3,
      "outputs": [
        {
          "output_type": "stream",
          "text": [
            "[2, 1]\n"
          ],
          "name": "stdout"
        }
      ]
    },
    {
      "cell_type": "markdown",
      "metadata": {
        "id": "RRKifEo5ml_v",
        "colab_type": "text"
      },
      "source": [
        "# 해설\n",
        "\n",
        "지나가는 트럭 문제보다는 쉬웠다. 덕분에 참조 코드 없이 스스로 풀 수 있었다.\n",
        "\n",
        "`progresses`가 작업 진도(%)이고, `speeds`가 작업 진행률(%)인데 각 작업 모두 하루에 각각의 speeds만큼 진도가 증가한다. \n",
        "\n",
        "그리고 하루의 끝에(반복문의 끝에) 진도가 100%인 작업 개수를 세서 `answer`에 추가를 한다. 이때 선행작업이 100%가 아닌 경우, 후행 작업이 100%이더라도 대기열에서 기다려야 한다.\n",
        "\n",
        "진도를 증가하는 부분은 반복문을 통해 쉽게 작성할 수 있다. 그나마 까다로운 부분이 선행 작업이면서 100% 진도인 작업 순으로 개수를 세는 것이다.\n",
        "\n",
        "입력으로 들어오는 작업의 개수가 100개 미만이라 while문 내에 while문을 또 만들어서 완료 작업을 구별하기로 했다. 우선 선두 작업이 100%가 아닐 경우 무조건 while문을 종료하도록 했다. 이렇게 하면 바로 뒤의 작업이 100%이더라도 절대로 빠져나올 일이 없다. 또한 모든 작업을 다 조사했을 경우도 존재하므로, 그 경우도 while문을 종료하게끔 만들었다. 작업도 존재하고 선두 작업이 100%일 경우에는 완료 작업 개수를 1 증가시키면서 해당 작업과 작업률을 `pop`으로 없앴다.\n",
        "\n",
        "그렇게 완료 작업 개수를 다 세면, `count`가 0 이상, 그러니까 완료 작업이 존재할 때만 그 날의 완료 작업 수 `count`를 `answer`에 추가(`append`)하도록 코드를 작성했다.\n",
        "\n"
      ]
    },
    {
      "cell_type": "markdown",
      "metadata": {
        "id": "3ONZsTupqaDp",
        "colab_type": "text"
      },
      "source": [
        "# 배운 점\n",
        "이전 문제를 풀고 좀 시간을 낭비하다가 대뜸 이 문제를 풀었는데, 생각보다 풀만 해서 집중해서 코드를 작성할 수 있었다.\n",
        "\n",
        "그래서 일단 발을 들여놓는 게 중요하다는 걸 알 수 있었다. 시간은 한정되어 있고, 습관 때문에 지체되고 있다면 한 문제를 풀고 지쳤더라도 다음 문제를 찍먹하는 게 큰 도움이 될 것 같다."
      ]
    },
    {
      "cell_type": "code",
      "metadata": {
        "id": "AhrXCAiHmeXF",
        "colab_type": "code",
        "colab": {}
      },
      "source": [
        ""
      ],
      "execution_count": 0,
      "outputs": []
    }
  ]
}