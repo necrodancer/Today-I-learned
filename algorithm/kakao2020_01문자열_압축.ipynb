{
  "nbformat": 4,
  "nbformat_minor": 0,
  "metadata": {
    "colab": {
      "name": "kakao2020_01문자열_압축.ipynb",
      "provenance": [],
      "collapsed_sections": [],
      "include_colab_link": true
    },
    "kernelspec": {
      "name": "python3",
      "display_name": "Python 3"
    }
  },
  "cells": [
    {
      "cell_type": "markdown",
      "metadata": {
        "id": "view-in-github",
        "colab_type": "text"
      },
      "source": [
        "<a href=\"https://colab.research.google.com/github/necrodancer/Today-I-learned/blob/master/algorithm/kakao2020_01%EB%AC%B8%EC%9E%90%EC%97%B4_%EC%95%95%EC%B6%95.ipynb\" target=\"_parent\"><img src=\"https://colab.research.google.com/assets/colab-badge.svg\" alt=\"Open In Colab\"/></a>"
      ]
    },
    {
      "cell_type": "code",
      "metadata": {
        "id": "dpCvBvQqV7In",
        "colab_type": "code",
        "colab": {}
      },
      "source": [
        "def compress(s,n):\n",
        "    count = 0\n",
        "    new_s = s[0:n]\n",
        "\n",
        "    for i in range(0, len(s), n):\n",
        "        if s[i:i+n] == new_s[-n:]:\n",
        "            count += 1\n",
        "        else:\n",
        "            if count < 2:\n",
        "                new_s += s[i:i+n]\n",
        "            else:\n",
        "                new_s += str(count) + s[i:i+n]\n",
        "            count = 1\n",
        "    if count > 1:\n",
        "        new_s += str(count)\n",
        "    return len(new_s)\n",
        "\n",
        "\n",
        "def solution(s):\n",
        "    answer = 0\n",
        "    counts = []\n",
        "    length = len(s)\n",
        "    for n in range(1,750):\n",
        "        counts.append(compress(s,n))\n",
        "\n",
        "    answer = min(counts)        \n",
        "    return answer"
      ],
      "execution_count": 0,
      "outputs": []
    }
  ]
}