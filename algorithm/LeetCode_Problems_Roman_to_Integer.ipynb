{
  "nbformat": 4,
  "nbformat_minor": 0,
  "metadata": {
    "colab": {
      "name": "LeetCode_Problems_Roman_to_Integer.ipynb",
      "provenance": [],
      "include_colab_link": true
    },
    "kernelspec": {
      "name": "python3",
      "display_name": "Python 3"
    }
  },
  "cells": [
    {
      "cell_type": "markdown",
      "metadata": {
        "id": "view-in-github",
        "colab_type": "text"
      },
      "source": [
        "<a href=\"https://colab.research.google.com/github/necrodancer/Today-I-learned/blob/master/algorithm/LeetCode_Problems_Roman_to_Integer.ipynb\" target=\"_parent\"><img src=\"https://colab.research.google.com/assets/colab-badge.svg\" alt=\"Open In Colab\"/></a>"
      ]
    },
    {
      "cell_type": "code",
      "metadata": {
        "id": "hRcEfDSTtYYA",
        "colab_type": "code",
        "colab": {}
      },
      "source": [
        "class Solution:\n",
        "    def romanToInt(self, s: str)-> int:\n",
        "        s = list(s)\n",
        "        n = len(s)\n",
        "        d = {\"I\":1, \"V\":5, \"X\":10, \"L\":50, \"C\":100, \"D\":500, \"M\":1000}\n",
        "        answer = d[s[-1]]\n",
        "        for i in range(2,n+1):\n",
        "            cur = d[s[-i]]\n",
        "            prev = d[s[-i+1]]\n",
        "            if cur >= prev:\n",
        "                answer += cur\n",
        "            else:\n",
        "                answer -= cur\n",
        "        return answer"
      ],
      "execution_count": 0,
      "outputs": []
    }
  ]
}