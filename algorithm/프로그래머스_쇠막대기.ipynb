{
  "nbformat": 4,
  "nbformat_minor": 0,
  "metadata": {
    "colab": {
      "name": "프로그래머스_쇠막대기.ipynb",
      "provenance": [],
      "authorship_tag": "ABX9TyPl5ZkX6I7VLlbEC1EnxsIi",
      "include_colab_link": true
    },
    "kernelspec": {
      "name": "python3",
      "display_name": "Python 3"
    }
  },
  "cells": [
    {
      "cell_type": "markdown",
      "metadata": {
        "id": "view-in-github",
        "colab_type": "text"
      },
      "source": [
        "<a href=\"https://colab.research.google.com/github/necrodancer/Today-I-learned/blob/master/algorithm/%ED%94%84%EB%A1%9C%EA%B7%B8%EB%9E%98%EB%A8%B8%EC%8A%A4_%EC%87%A0%EB%A7%89%EB%8C%80%EA%B8%B0.ipynb\" target=\"_parent\"><img src=\"https://colab.research.google.com/assets/colab-badge.svg\" alt=\"Open In Colab\"/></a>"
      ]
    },
    {
      "cell_type": "markdown",
      "metadata": {
        "id": "nmodrgNvlorX",
        "colab_type": "text"
      },
      "source": [
        "# 쇠막대기\n",
        "* 프로그래머스>코딩테스트 연습>스택/큐>쇠막대기\n",
        "* 문제 링크: [Link](https://programmers.co.kr/learn/courses/30/lessons/42585)\n",
        "* 참조 코드: [\\[프로그래머스\\] 쇠막대기 (Level 2, Python)](https://yorr.tistory.com/14)\n",
        "\n"
      ]
    },
    {
      "cell_type": "markdown",
      "metadata": {
        "id": "SsHeyjkbmCzI",
        "colab_type": "text"
      },
      "source": [
        "# 소스 코드"
      ]
    },
    {
      "cell_type": "code",
      "metadata": {
        "id": "RMtfZN0clhrb",
        "colab_type": "code",
        "colab": {}
      },
      "source": [
        "def solution(arrangement):\n",
        "    answer = 0\n",
        "    queue = list(arrangement[::-1])\n",
        "    n_stick = 0\n",
        "    \n",
        "    while queue:\n",
        "        if queue[-1] == '(': # 열린 괄호일 때마다 막대기 개수가 추가됨\n",
        "            n_stick += 1  # 추가\n",
        "            queue.pop()  # 대기열 제거\n",
        "            if queue[-1] == ')':  # 그런데 바로 직후가 닫힌 괄호이면 그 개수를 철회해야 함\n",
        "                n_stick -= 1  # 철회\n",
        "                answer += n_stick  # 바로 닫혔다는 말은 레이저로 절삭이므로 기존의 막대기 개수 만큼 잘린 막대기 수를 추가한다.\n",
        "                queue.pop()  # 대기열 제거\n",
        "        else:  # 닫힌 괄호일 경우\n",
        "            n_stick -= 1  # 기존 쇠막대기의 끝까지 왔으므로 끝까지 온 막대기 하나를 제거한다.(조사 완료)\n",
        "            answer += 1  # 해당 막대기의 잘린 조각을 개수에 포함한다.\n",
        "            queue.pop()  # 대기열 제거\n",
        "                \n",
        "    return answer"
      ],
      "execution_count": 0,
      "outputs": []
    },
    {
      "cell_type": "code",
      "metadata": {
        "id": "d3IQtmUimIn9",
        "colab_type": "code",
        "outputId": "7842397f-bb40-44fd-8240-dafdd424d5fa",
        "colab": {
          "base_uri": "https://localhost:8080/",
          "height": 35
        }
      },
      "source": [
        "# sample test\n",
        "print(solution('()(((()())(())()))(())')) # 정답: 17"
      ],
      "execution_count": 4,
      "outputs": [
        {
          "output_type": "stream",
          "text": [
            "17\n"
          ],
          "name": "stdout"
        }
      ]
    },
    {
      "cell_type": "markdown",
      "metadata": {
        "id": "RRKifEo5ml_v",
        "colab_type": "text"
      },
      "source": [
        "# 해설\n",
        "\n",
        "주석 참조.\n"
      ]
    },
    {
      "cell_type": "markdown",
      "metadata": {
        "id": "3ONZsTupqaDp",
        "colab_type": "text"
      },
      "source": [
        "# 배운 점\n",
        "\n",
        "## 문제 풀이에 도움되지 않는 마인드\n",
        "문제 풀이에 도움되지 않는 마인드를 또 발견했다.\n",
        "\n",
        "\"다른 사람은 쉬운 문제라는데 나는 왜 이렇게 어렵고 답도 안 떠오르지?\"\n",
        "\n",
        "사람 간의 난이도 인식 차이는 당연지사인데, 문제는 거기에 주눅이 들어서 더 앞으로 나가지 않는다는 것이다. 사실 이런 마인드가 자동으로 나왔으면 좋았을 것이다.\n",
        "\n",
        "\"아, 내가 여기서 모르는 게 많아서 막혔구나. 그러면 다른 사람의 코드에서 어떻게 아이디어를 캐치하고, 코드로 적용했는지 배울 수 있겠구나. 그만큼 더 많이 알 수 있겠구나.\"\n",
        "\n",
        "그런데 이게 문제 풀 때만 되면 도저히 저 마인드로 생각이 안 이루어진다. 너무 막막해서 도중에 게임을 하러 간 횟수가 2, 3번 정도 된다. 그때마다 시간은 낭비되고 자책감도 동반한다.\n",
        "\n",
        "## 참조 코드 작성자님이 아이디어를 캐치한 방법\n",
        "문제 링크에 들어가면 괄호와 레이저, 쇠막대기가 나열된 그림이 보일 것이다. 처음에 글로 보면 어려운 문제처럼 보인다. 그런데 나는 그림을 봐도 마찬가지였다. 스택/큐 문제이니 큐에서 하나씩 꺼내서 뭘해야지까지는 생각이 미쳤지만, 그 이상은 힘들었다. \n",
        "\n",
        "그런데 참조 코드의 작성자님은 그림을 왼쪽에서 오른쪽으로 순차적으로 관찰하면서 열린 괄호일 때는 막대 개수를 세아리고, 닫힌 괄호일 때는 개수 하나를 빼주는 규칙을 발견했다. 또한 레이저로 잘릴 때 기존에 센 막대 개수만큼 잘린 막대가 추가되는 규칙도 발견했다. 이런 그림으로부터 규칙을 발견하는 걸 나는 하지 못했다. 좋은 귀감이 되었다.\n",
        "\n",
        "또한 나는 하나씩 꺼내서 비교하면 괄호 한쌍인 2개 짜리는 어떻게 비교하지라는 것에 막혀서 코드를 완성하지 못했다. 그에 반해 작성자님은 열린 괄호 조사 후, 바로 또 하나 괄호를 꺼내서 조사하는 방법을 보여줬다. 왜 그 생각을 하지 못 했을까!라고 한탄했다. 이 점도 배웠다.\n",
        "\n",
        "또한 다른 풀이에서 본 것인데, '((', '()', '))'에 대해서 조사한 분도 있었고, '()'를 0으로 변환해서 '(', '0', ')' 모두 한 글자만 조사할 수 있게 만든 분도 있었다. 나는 stack문제다보니 리스트와 while문을 이용한 코드가 많을 줄 알았는데, 의외로 for문을 이용한 구현이 많아서 놀랐다. 간간히 enumerate함수를 사용하는 분도 있었다. 그리고 stack을 정수로 지정해서 +1, -1 연산으로 표현하는 분의 코드도 참신했다. 여러 가지로 많이 배웠다."
      ]
    },
    {
      "cell_type": "code",
      "metadata": {
        "id": "AhrXCAiHmeXF",
        "colab_type": "code",
        "colab": {}
      },
      "source": [
        ""
      ],
      "execution_count": 0,
      "outputs": []
    }
  ]
}