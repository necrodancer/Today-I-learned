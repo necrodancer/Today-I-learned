{
  "nbformat": 4,
  "nbformat_minor": 0,
  "metadata": {
    "colab": {
      "name": "프로그래머스_도둑질.ipynb",
      "provenance": [],
      "collapsed_sections": [],
      "authorship_tag": "ABX9TyPVeDxE6TcsUloEKGIzgyCH",
      "include_colab_link": true
    },
    "kernelspec": {
      "name": "python3",
      "display_name": "Python 3"
    }
  },
  "cells": [
    {
      "cell_type": "markdown",
      "metadata": {
        "id": "view-in-github",
        "colab_type": "text"
      },
      "source": [
        "<a href=\"https://colab.research.google.com/github/necrodancer/Today-I-learned/blob/master/algorithm/%ED%94%84%EB%A1%9C%EA%B7%B8%EB%9E%98%EB%A8%B8%EC%8A%A4_%EB%8F%84%EB%91%91%EC%A7%88.ipynb\" target=\"_parent\"><img src=\"https://colab.research.google.com/assets/colab-badge.svg\" alt=\"Open In Colab\"/></a>"
      ]
    },
    {
      "cell_type": "markdown",
      "metadata": {
        "id": "nmodrgNvlorX",
        "colab_type": "text"
      },
      "source": [
        "# 도둑질\n",
        "* 프로그래머스>코딩테스트 연습>DP>도둑질\n",
        "* 문제 링크: [Link](https://programmers.co.kr/learn/courses/30/lessons/42897?language=python3#)\n",
        "* 원본 코드: [\\[프로그래머스\\] 도둑질, 파이썬](https://velog.io/@imacoolgirlyo/%ED%94%84%EB%A1%9C%EA%B7%B8%EB%9E%98%EB%A8%B8%EC%8A%A4-%EB%8F%84%EB%91%91%EC%A7%88-%ED%8C%8C%EC%9D%B4%EC%8D%AC)\n"
      ]
    },
    {
      "cell_type": "markdown",
      "metadata": {
        "id": "SsHeyjkbmCzI",
        "colab_type": "text"
      },
      "source": [
        "# 소스 코드"
      ]
    },
    {
      "cell_type": "code",
      "metadata": {
        "id": "RMtfZN0clhrb",
        "colab_type": "code",
        "colab": {}
      },
      "source": [
        "def func(dp, money, end=0):\n",
        "    N = len(money)\n",
        "    if end == 1:\n",
        "        dp[0] = money[0]\n",
        "        dp[1] = max(money[0],money[1])\n",
        "    else:\n",
        "        dp[0] = 0\n",
        "        dp[1] = money[1]\n",
        "        \n",
        "    for i in range(2,N-end):\n",
        "        dp[i] = max(dp[i-2]+money[i],dp[i-1])\n",
        "    return max(dp)\n",
        "\n",
        "def solution(money):\n",
        "    answer = 0\n",
        "    N = len(money)\n",
        "    dp1 = [-1] * N\n",
        "    dp2 = [-1] * N\n",
        "    \n",
        "    r1 = func(dp1, money, 0)  # 첫 집 방문 x, 마지막 집 방문 o\n",
        "    r2 = func(dp2, money, 1)  # 첫 집 방문 o, 마지막 집 방문 x\n",
        "    \n",
        "    answer = max(r1, r2)\n",
        "    return answer"
      ],
      "execution_count": 0,
      "outputs": []
    },
    {
      "cell_type": "code",
      "metadata": {
        "id": "d3IQtmUimIn9",
        "colab_type": "code",
        "outputId": "88c86241-4941-4eed-fabd-c5691a77ad60",
        "colab": {
          "base_uri": "https://localhost:8080/",
          "height": 35
        }
      },
      "source": [
        "# sample test\n",
        "print(solution([1, 2, 3, 1])) # 정답: 4"
      ],
      "execution_count": 0,
      "outputs": [
        {
          "output_type": "stream",
          "text": [
            "4\n"
          ],
          "name": "stdout"
        }
      ]
    },
    {
      "cell_type": "markdown",
      "metadata": {
        "id": "RRKifEo5ml_v",
        "colab_type": "text"
      },
      "source": [
        "# 해설\n",
        "\n",
        "[\\[프로그래머스\\] 도둑질, 파이썬](https://velog.io/@imacoolgirlyo/%ED%94%84%EB%A1%9C%EA%B7%B8%EB%9E%98%EB%A8%B8%EC%8A%A4-%EB%8F%84%EB%91%91%EC%A7%88-%ED%8C%8C%EC%9D%B4%EC%8D%AC)의 설명이 아주 깔끔합니다.\n",
        "\n",
        "저는 이번 문제를 해결하지 못해 위 링크의 해설과 코드를 분석하는 식으로 공부했습니다. 다만 차이점은 반복되는 for문을 함수로 지정했고, 함수 내부에서 초기값과 for문의 범위를 조정한 것 뿐입니다.\n"
      ]
    },
    {
      "cell_type": "markdown",
      "metadata": {
        "id": "3ONZsTupqaDp",
        "colab_type": "text"
      },
      "source": [
        "# 배운 점\n",
        "\n",
        "집이 1개만 있는 경우, 2개만 있는 경우, 3개만 있는 경우와 같은 식으로 가장 쉬운 경우의 수부터 전개하는 방식을 배울 수 있었습니다. 마치 수열을 전개하듯이요. DP나 타 문제에서도 접근해 볼 수 있는 행동영역인 것 같습니다."
      ]
    },
    {
      "cell_type": "code",
      "metadata": {
        "id": "AhrXCAiHmeXF",
        "colab_type": "code",
        "colab": {}
      },
      "source": [
        ""
      ],
      "execution_count": 0,
      "outputs": []
    }
  ]
}