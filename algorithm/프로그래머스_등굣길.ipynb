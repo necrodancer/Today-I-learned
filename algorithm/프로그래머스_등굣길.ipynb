{
  "nbformat": 4,
  "nbformat_minor": 0,
  "metadata": {
    "colab": {
      "name": "프로그래머스_등굣길.ipynb",
      "provenance": [],
      "collapsed_sections": [],
      "authorship_tag": "ABX9TyM4Q7i1aYTFeNt2zr5YloU+",
      "include_colab_link": true
    },
    "kernelspec": {
      "name": "python3",
      "display_name": "Python 3"
    }
  },
  "cells": [
    {
      "cell_type": "markdown",
      "metadata": {
        "id": "view-in-github",
        "colab_type": "text"
      },
      "source": [
        "<a href=\"https://colab.research.google.com/github/necrodancer/Today-I-learned/blob/master/algorithm/%ED%94%84%EB%A1%9C%EA%B7%B8%EB%9E%98%EB%A8%B8%EC%8A%A4_%EB%93%B1%EA%B5%A3%EA%B8%B8.ipynb\" target=\"_parent\"><img src=\"https://colab.research.google.com/assets/colab-badge.svg\" alt=\"Open In Colab\"/></a>"
      ]
    },
    {
      "cell_type": "markdown",
      "metadata": {
        "id": "nmodrgNvlorX",
        "colab_type": "text"
      },
      "source": [
        "# 등굣길\n",
        "* 프로그래머스>코딩테스트 연습>DP>등굣길\n",
        "* 문제 링크: [Link](https://programmers.co.kr/learn/courses/30/lessons/42898#)\n"
      ]
    },
    {
      "cell_type": "markdown",
      "metadata": {
        "id": "SsHeyjkbmCzI",
        "colab_type": "text"
      },
      "source": [
        "# 소스 코드"
      ]
    },
    {
      "cell_type": "code",
      "metadata": {
        "id": "RMtfZN0clhrb",
        "colab_type": "code",
        "colab": {}
      },
      "source": [
        "def is_possible(here, puddles):\n",
        "    if here in puddles:\n",
        "        return False\n",
        "    else:\n",
        "        return True\n",
        "\n",
        "def solution(m, n, puddles):\n",
        "    \"\"\"\n",
        "    answer = 최단경로 % 1000000007\n",
        "    1 <= m, n <= 100\n",
        "    m = 1, n = 1인 경우는 없음\n",
        "    0 <= 침수 구역 수 <= 10\n",
        "    집, 학교는 침수구역에서 제외\n",
        "    \n",
        "    dp = [[0]*m for _ in range(0, n)]\n",
        "    dp[0][0] = 1\n",
        "    \n",
        "    이동방향 = 좌, 하\n",
        "    \n",
        "    현재 좌표를 기준으로 위, 왼쪽의 경우의 수를 dp에 계속 더해준다.\n",
        "    이때, puddles 좌표가 아닌 경우만 계산하도록 is_possible 함수를 만들어 사용했다.\n",
        "    is_possible 함수는 입력 좌표가 puddles 안에 있으면 False, 없으면 True를 반환한다.\n",
        "    그런 다음 아래와 같은 psuedo code로 dp 값을 업데이트 하기로 했다:\n",
        "    if is_possible(here):\n",
        "        if i-1 >= 0 and is_possible(here-1):\n",
        "            dp[here] += dp[up]\n",
        "        if j-1 >= 0 and is_possible(here-1):\n",
        "            dp[here] += dp[left]\n",
        "            \n",
        "    [디버깅]\n",
        "    여기서 puddles의 좌표와\n",
        "    내가 설정한 좌표의 x, y 값이 반대로 되어 있는 걸 간과하지 못 해서 하나 빼고 모두 오답처리 되었다.\n",
        "    또한 문제의 좌표는 (1, 1)부터 시작하기 때문에 puddles의 좌표를 쓰려면 각각 1을 빼줘야 했다.\n",
        "    내가 설정한 좌표는 (0, 0)부터 시작했기 때문이다.\n",
        "    \n",
        "    그래서 내 좌표를 손 보기 보다는 puddles의 입력 범위가 작기 때문에 puddles만 변환해주었다.\n",
        "    \"\"\"\n",
        "    answer = 0\n",
        "    dp = [[0]*m for _ in range(n)]\n",
        "    dp[0][0] = 1\n",
        "    for i in range(len(puddles)):\n",
        "        temp1 = puddles[i][0]\n",
        "        temp2 = puddles[i][1]\n",
        "        puddles[i][0] = temp2 - 1\n",
        "        puddles[i][1] = temp1 - 1\n",
        "    \n",
        "    for i in range(0,n):\n",
        "        for j in range(0,m):\n",
        "            if is_possible([i,j],puddles):\n",
        "                if (i-1) >= 0 and is_possible([i-1,j],puddles):\n",
        "                    dp[i][j] += dp[i-1][j]\n",
        "                if (j-1) >= 0 and is_possible([i,j-1],puddles):\n",
        "                    dp[i][j] += dp[i][j-1]\n",
        "    answer = dp[-1][-1] % 1000000007\n",
        "    return answer"
      ],
      "execution_count": 0,
      "outputs": []
    },
    {
      "cell_type": "code",
      "metadata": {
        "id": "d3IQtmUimIn9",
        "colab_type": "code",
        "outputId": "2ec76e3e-4771-410a-b6bd-d4b99fefa1b5",
        "colab": {
          "base_uri": "https://localhost:8080/",
          "height": 53
        }
      },
      "source": [
        "# sample test\n",
        "print(solution(4, 3, [[2, 2]])) # 정답: 4\n",
        "print(solution(5, 4, [[2, 2]])) # 정답: 15"
      ],
      "execution_count": 0,
      "outputs": [
        {
          "output_type": "stream",
          "text": [
            "4\n",
            "15\n"
          ],
          "name": "stdout"
        }
      ]
    },
    {
      "cell_type": "markdown",
      "metadata": {
        "id": "RRKifEo5ml_v",
        "colab_type": "text"
      },
      "source": [
        "# 해설\n",
        "\n",
        "주석 참조.\n"
      ]
    },
    {
      "cell_type": "markdown",
      "metadata": {
        "id": "3ONZsTupqaDp",
        "colab_type": "text"
      },
      "source": [
        "# 배운 점\n",
        "\n",
        "문제에서 제시하는 좌표계와 내가 평소에 사용하는 좌표계가 차이가 있을 수도 있다. 따라서 좌표가 등장할 경우, 시작값과 각 원소가 행을 의미하는지 열을 의미하는지 사전에 파악해두는 것이 좋다. \n"
      ]
    },
    {
      "cell_type": "code",
      "metadata": {
        "id": "AhrXCAiHmeXF",
        "colab_type": "code",
        "colab": {}
      },
      "source": [
        ""
      ],
      "execution_count": 0,
      "outputs": []
    }
  ]
}
