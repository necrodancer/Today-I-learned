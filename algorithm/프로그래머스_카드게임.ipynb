{
  "nbformat": 4,
  "nbformat_minor": 0,
  "metadata": {
    "colab": {
      "name": "프로그래머스_카드게임.ipynb",
      "provenance": [],
      "collapsed_sections": [],
      "authorship_tag": "ABX9TyPdKAKa/+wuplnzbxN//DLa",
      "include_colab_link": true
    },
    "kernelspec": {
      "name": "python3",
      "display_name": "Python 3"
    }
  },
  "cells": [
    {
      "cell_type": "markdown",
      "metadata": {
        "id": "view-in-github",
        "colab_type": "text"
      },
      "source": [
        "<a href=\"https://colab.research.google.com/github/necrodancer/Today-I-learned/blob/master/algorithm/%ED%94%84%EB%A1%9C%EA%B7%B8%EB%9E%98%EB%A8%B8%EC%8A%A4_%EC%B9%B4%EB%93%9C%EA%B2%8C%EC%9E%84.ipynb\" target=\"_parent\"><img src=\"https://colab.research.google.com/assets/colab-badge.svg\" alt=\"Open In Colab\"/></a>"
      ]
    },
    {
      "cell_type": "markdown",
      "metadata": {
        "id": "nmodrgNvlorX",
        "colab_type": "text"
      },
      "source": [
        "# 카드 게임\n",
        "* 프로그래머스>코딩테스트 연습>DP>카드 게임\n",
        "* 문제 링크: [Link](https://programmers.co.kr/learn/courses/30/lessons/42896?language=python3)\n",
        "* 참조 코드 링크: [\\[Programmers\\]Lv 4. 카드 게임](https://codedrive.tistory.com/314)\n"
      ]
    },
    {
      "cell_type": "markdown",
      "metadata": {
        "id": "SsHeyjkbmCzI",
        "colab_type": "text"
      },
      "source": [
        "# 소스 코드"
      ]
    },
    {
      "cell_type": "code",
      "metadata": {
        "id": "RMtfZN0clhrb",
        "colab_type": "code",
        "colab": {}
      },
      "source": [
        "def solution(left, right):\n",
        "    \"\"\"\n",
        "    이게 버리는 방법에 따라 점수가 달라질 수 있다.\n",
        "    왜냐하면 왼쪽 카드와 오른쪽 카드를 둘다 버릴 경우와\n",
        "    왼쪽 카드만 버렸을 때, 그 다음에 비교할 각 카드의 숫자가 달라지기 때문이다.\n",
        "    \n",
        "    이런 경우는, 세 가지를 체크해야 한다고 본다.\n",
        "    1. 현재 카드들을 비교한다. \n",
        "    2. 그렇지 않을 경우, 왼쪽 바로 밑 카드를 뽑아서 비교해본다. \n",
        "    3. 또한 왼쪽 바로 밑 카드 + 오른쪽 바로 밑 카드 끼리 비교해본다.\n",
        "    이렇게 해서 최고 점수인 경우를 진행하고, 점수를 갱신한다.\n",
        "    \n",
        "    최종 점수의 최대값의 의미를 다시 생각해봤다.\n",
        "    가장 이상적인 경우는 right의 카드를 모두 버리는 것이다.\n",
        "    right를 버릴 때만 점수가 산출되기 때문이다.\n",
        "    \n",
        "    오른쪽 버리기\n",
        "    왼쪽 버리기\n",
        "    둘다 버리기\n",
        "    \n",
        "    dp 공간을 어떻게 정의할 것인가?\n",
        "    \n",
        "    [2, 4, 1] [3, 2, 5]\n",
        "    [4, 1] [3, 2, 5]  # 0점\n",
        "    [4, 1] [2, 5] # 3점\n",
        "    [4, 1] [5] # 5점\n",
        "    [1] [5]  # 5점\n",
        "    []  [5]  # 5점\n",
        "    종료\n",
        "    \n",
        "    2020.3.12.수\n",
        "    dp 이론을 더 공부해왔다. ( https://new93helloworld.tistory.com/220 )\n",
        "    내가 막힌 부분은 dp공간 즉 캐시를 어떻게 정의하는지였다.\n",
        "    dp는 메모이제이션을 할 때 '중간 계산 결과'를 저장한다.\n",
        "    즉 입력에 대한 계산 결과를 저장한다는 뜻이다.\n",
        "    그 입력이란 이 문제에서는 왼쪽 카드 i와 오른쪽 카드 j다.\n",
        "    따라서 두 입력에 대한 단일 결과이므로 2차원 배열로 dp공간을 정의한다.\n",
        "    \n",
        "    \"\"\"\n",
        "    answer = 0\n",
        "    L = len(left)\n",
        "    R = len(right)\n",
        "    dp = [[-1]*(R+1) for _ in range(L+1)]  # i=0, j=0 아무 카드도 버리지 않은 경우를 포함하기 위해 크기를 L+1, R+1로 정의했다.\n",
        "    dp[0][0] = 0\n",
        "    \n",
        "    for i in range(L):\n",
        "        for j in range(R):\n",
        "            if dp[i][j] == -1:\n",
        "                continue\n",
        "            if left[i] > right[j]: # 현재 좌우 카드 비교, 점수 발생 가능한 경우\n",
        "                dp[i][j+1] = dp[i][j] + right[j]\n",
        "            if dp[i+1][j] < dp[i][j]: # 왼쪽 카드만 버린 경우\n",
        "                dp[i+1][j] = dp[i][j]\n",
        "            if dp[i+1][j+1] < dp[i][j]: # 양쪽 카드 둘다 버린 경우\n",
        "                dp[i+1][j+1] = dp[i][j]\n",
        "    \n",
        "    for i in range(1,L+1):\n",
        "        answer = max(max(dp[i]), answer)\n",
        "    return answer"
      ],
      "execution_count": 0,
      "outputs": []
    },
    {
      "cell_type": "code",
      "metadata": {
        "id": "d3IQtmUimIn9",
        "colab_type": "code",
        "outputId": "19e20c4a-8051-4b81-c592-98e29854d2b6",
        "colab": {
          "base_uri": "https://localhost:8080/",
          "height": 35
        }
      },
      "source": [
        "# sample test\n",
        "print(solution([3, 2, 5], [2, 4, 1])) # 정답: 7"
      ],
      "execution_count": 4,
      "outputs": [
        {
          "output_type": "stream",
          "text": [
            "7\n"
          ],
          "name": "stdout"
        }
      ]
    },
    {
      "cell_type": "markdown",
      "metadata": {
        "id": "RRKifEo5ml_v",
        "colab_type": "text"
      },
      "source": [
        "# 해설\n",
        "\n",
        "[\\[Programmers\\]Lv 4. 카드 게임](https://codedrive.tistory.com/314) 코드를 분석하는 식으로 공부했습니다.\n",
        "\n",
        "위 링크의 코드는 이론 공부에서 보였던 캐시와는 다르게 -1인 경우 계산을 건너뛰는 방식을 채택했습니다. 0으로 초기화된 원소에서 출발하여 근접 원소 값을 갱신하는 방식입니다.\n",
        "\n",
        "i는 왼쪽 카드, j는 오른쪽 카드입니다. 각각 0부터 시작합니다. 0은 0번째 카드를 가리킵니다. 실제 계산은 1번째 카드부터 시작됩니다.\n",
        "\n",
        "오른쪽 카드 값이 작을 경우 숫자를 갱신합니다. `(i, j+1)`\n",
        "\n",
        "왼쪽 카드를 버렸을 때의 결과값을 이전 결과값이랑 비교합니다. `dp[i+1][j]`, `dp[i][j]`\n",
        "만약 버렸을 때의 결과값이 더 작다면 이전 값으로 갱신해줍니다.\n",
        "\n",
        "양쪽 카드를 버렸을 때도 동일한 방식을 수행합니다. `dp[i+1][j+1], dp[i][j]`\n",
        "\n",
        "왜 이렇게 이전 값으로 보전해주냐 고민해봤습니다. 우선 -1로 dp 원소들이 초기화되어 있기 때문에 점차적으로 계산을 하기 위해선 현재 원소의 근처 값들을 -1이 아닌 다른 값으로 갱신할 필요가 있습니다. 그래야 계산 값이 점점 퍼져갑니다. 또한 실제 게임에서도 값이 점점 줄어드는 경우는 존재하지 않습니다. 따라서 오른쪽 카드를 버리는 경우를 제외하면, 나머지 두 경우의 결과값은 이전과 동일해야 합니다. 아마 이 이유가 가장 큰 것으로 생각됩니다.\n",
        "\n",
        "이렇게 계산하면 2차원 리스트 dp 값들이 모두 갱신됩니다.\n",
        "\n",
        "그런데 2차원 리스트이므로 파이썬에서는 numpy를 쓰지 않는 이상 바로 max() 함수로 최댓값을 구할 수 없습니다. 그래서 for문을 한 개 열어서 max를 중첩해서 사용하는 식으로 결과값의 최댓값을 추출했습니다.\n",
        "\n"
      ]
    },
    {
      "cell_type": "markdown",
      "metadata": {
        "id": "3ONZsTupqaDp",
        "colab_type": "text"
      },
      "source": [
        "# 배운 점\n",
        "\n",
        "본 문제를 통해 dp공간을 어떻게 정의하고 전개하는지 경험할 수 있었습니다. 또한 다른 사람의 코드의 의도를 파악하는 시간을 가질 수 있었습니다. 이 문제에 일주일을 투자했고, 이전 문제들과 달리 Lv 4. 문제이기 때문에 더욱 값진 경험이었습니다."
      ]
    },
    {
      "cell_type": "code",
      "metadata": {
        "id": "AhrXCAiHmeXF",
        "colab_type": "code",
        "colab": {}
      },
      "source": [
        ""
      ],
      "execution_count": 0,
      "outputs": []
    }
  ]
}