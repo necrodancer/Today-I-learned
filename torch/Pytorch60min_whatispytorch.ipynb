{
  "nbformat": 4,
  "nbformat_minor": 0,
  "metadata": {
    "colab": {
      "name": "Pytorch60min_whatispytorch.ipynb",
      "version": "0.3.2",
      "provenance": [],
      "include_colab_link": true
    },
    "kernelspec": {
      "name": "python3",
      "display_name": "Python 3"
    },
    "accelerator": "GPU"
  },
  "cells": [
    {
      "cell_type": "markdown",
      "metadata": {
        "id": "view-in-github",
        "colab_type": "text"
      },
      "source": [
        "<a href=\"https://colab.research.google.com/github/necrodancer/Today-I-learned/blob/master/torch/Pytorch60min_whatispytorch.ipynb\" target=\"_parent\"><img src=\"https://colab.research.google.com/assets/colab-badge.svg\" alt=\"Open In Colab\"/></a>"
      ]
    },
    {
      "cell_type": "markdown",
      "metadata": {
        "id": "XntOZ1SUxMEl",
        "colab_type": "text"
      },
      "source": [
        "\\[Notice\\] This notebook is reproduction of PyTorch tutorial.\n",
        "https://tutorials.pytorch.kr/beginner/blitz/tensor_tutorial.html#sphx-glr-beginner-blitz-tensor-tutorial-py"
      ]
    },
    {
      "cell_type": "markdown",
      "metadata": {
        "id": "UWmG5MzdhMYE",
        "colab_type": "text"
      },
      "source": [
        "# PYTORCH가 무엇인가요?\n",
        "\n",
        "파이썬 기반의 과학 연산 패키지. 다음 대상에 유용 : \n",
        "1. Numpy 대체하면서 GPU 연산이 필요한 경우\n",
        "2. 딥러닝 연구 플랫폼\n"
      ]
    },
    {
      "cell_type": "markdown",
      "metadata": {
        "id": "ZjpuQ0j5hlAL",
        "colab_type": "text"
      },
      "source": [
        "## 시작하기\n",
        "### Tensors\n",
        "ndarray와 유사. GPU 연산 가속도 가능"
      ]
    },
    {
      "cell_type": "code",
      "metadata": {
        "id": "uRSuH2V3htb2",
        "colab_type": "code",
        "colab": {}
      },
      "source": [
        "from __future__ import print_function\n",
        "import torch"
      ],
      "execution_count": 0,
      "outputs": []
    },
    {
      "cell_type": "code",
      "metadata": {
        "id": "ZHgmWEfhhw3j",
        "colab_type": "code",
        "colab": {
          "base_uri": "https://localhost:8080/",
          "height": 102
        },
        "outputId": "1b88aaf8-6967-4d44-e881-753cc7764884"
      },
      "source": [
        "# 초기화되지 않은 5x3 행렬\n",
        "x = torch.empty(5, 3)\n",
        "print(x)"
      ],
      "execution_count": 2,
      "outputs": [
        {
          "output_type": "stream",
          "text": [
            "tensor([[4.0771e-36, 0.0000e+00, 3.3631e-44],\n",
            "        [0.0000e+00,        nan, 0.0000e+00],\n",
            "        [1.1578e+27, 1.1362e+30, 7.1547e+22],\n",
            "        [4.5828e+30, 1.2121e+04, 7.1846e+22],\n",
            "        [9.2198e-39, 0.0000e+00, 0.0000e+00]])\n"
          ],
          "name": "stdout"
        }
      ]
    },
    {
      "cell_type": "code",
      "metadata": {
        "id": "-FE5VM61h4X_",
        "colab_type": "code",
        "colab": {
          "base_uri": "https://localhost:8080/",
          "height": 102
        },
        "outputId": "92d2d160-7f0c-41eb-986c-1b123217df7a"
      },
      "source": [
        "# 무작위로 초기화된 행렬\n",
        "x = torch.rand(5, 3)\n",
        "print(x)"
      ],
      "execution_count": 3,
      "outputs": [
        {
          "output_type": "stream",
          "text": [
            "tensor([[0.4004, 0.2467, 0.8826],\n",
            "        [0.9297, 0.8515, 0.6938],\n",
            "        [0.7734, 0.3071, 0.5797],\n",
            "        [0.9046, 0.7558, 0.1652],\n",
            "        [0.6779, 0.8665, 0.7041]])\n"
          ],
          "name": "stdout"
        }
      ]
    },
    {
      "cell_type": "code",
      "metadata": {
        "id": "rh4ohW2ih-9J",
        "colab_type": "code",
        "colab": {
          "base_uri": "https://localhost:8080/",
          "height": 102
        },
        "outputId": "3f1b4a78-75c2-45bb-b9a9-a4033893f5ff"
      },
      "source": [
        "# dtype이 long이고 0으로 채워진 행렬\n",
        "x = torch.zeros(5, 3, dtype=torch.long)\n",
        "print(x)"
      ],
      "execution_count": 4,
      "outputs": [
        {
          "output_type": "stream",
          "text": [
            "tensor([[0, 0, 0],\n",
            "        [0, 0, 0],\n",
            "        [0, 0, 0],\n",
            "        [0, 0, 0],\n",
            "        [0, 0, 0]])\n"
          ],
          "name": "stdout"
        }
      ]
    },
    {
      "cell_type": "code",
      "metadata": {
        "id": "yyri8Qr2iKk2",
        "colab_type": "code",
        "colab": {
          "base_uri": "https://localhost:8080/",
          "height": 102
        },
        "outputId": "7124fc43-edd0-433f-8584-efecdf22e1d0"
      },
      "source": [
        "# 응용 1 : dtype이 float32이고 0으로 채워진 행렬\n",
        "x = torch.zeros(5, 3, dtype=torch.float32)\n",
        "print(x)"
      ],
      "execution_count": 5,
      "outputs": [
        {
          "output_type": "stream",
          "text": [
            "tensor([[0., 0., 0.],\n",
            "        [0., 0., 0.],\n",
            "        [0., 0., 0.],\n",
            "        [0., 0., 0.],\n",
            "        [0., 0., 0.]])\n"
          ],
          "name": "stdout"
        }
      ]
    },
    {
      "cell_type": "code",
      "metadata": {
        "id": "7C5f2_FTiRnV",
        "colab_type": "code",
        "colab": {
          "base_uri": "https://localhost:8080/",
          "height": 34
        },
        "outputId": "669beb8c-d697-4cb3-b969-68983992c146"
      },
      "source": [
        "# 데이터로부터 직접 tensor 생성\n",
        "x =  torch.tensor([5.5, 3])  # 데이터 = 리스트\n",
        "print(x)"
      ],
      "execution_count": 6,
      "outputs": [
        {
          "output_type": "stream",
          "text": [
            "tensor([5.5000, 3.0000])\n"
          ],
          "name": "stdout"
        }
      ]
    },
    {
      "cell_type": "code",
      "metadata": {
        "id": "wxU7yoi4idXH",
        "colab_type": "code",
        "colab": {
          "base_uri": "https://localhost:8080/",
          "height": 187
        },
        "outputId": "c7807d38-5666-4c98-8db1-c2469509f3dd"
      },
      "source": [
        "# 존재하는 tensor를 바탕으로 tensor 생성. 속성(dtype)은 입력 텐서의 것을 따라감.\n",
        "x = x.new_ones(5, 3, dtype=torch.double)  # new_* 메소드는 크기를 받는다.\n",
        "print(x)\n",
        "\n",
        "x = torch.randn_like(x, dtype=torch.float)  # dtype을 오버라이드한다.\n",
        "print(x) # 결과는 동일한 크기를 가진다."
      ],
      "execution_count": 7,
      "outputs": [
        {
          "output_type": "stream",
          "text": [
            "tensor([[1., 1., 1.],\n",
            "        [1., 1., 1.],\n",
            "        [1., 1., 1.],\n",
            "        [1., 1., 1.],\n",
            "        [1., 1., 1.]], dtype=torch.float64)\n",
            "tensor([[ 1.1808,  1.1415, -1.0520],\n",
            "        [ 0.2411, -1.1834,  0.1714],\n",
            "        [-0.1285,  1.9084, -1.5900],\n",
            "        [ 1.5189,  0.6208, -0.3279],\n",
            "        [-0.5762, -0.2538, -0.8787]])\n"
          ],
          "name": "stdout"
        }
      ]
    },
    {
      "cell_type": "code",
      "metadata": {
        "id": "n7cZ-ptSi6LU",
        "colab_type": "code",
        "colab": {
          "base_uri": "https://localhost:8080/",
          "height": 34
        },
        "outputId": "e219c40f-2e44-43ee-cd09-2837eedf36ca"
      },
      "source": [
        "# 행렬의 크기\n",
        "print(x.size()) # torch.Size는 튜플과 동일, 모든 튜플 연산을 지원함."
      ],
      "execution_count": 8,
      "outputs": [
        {
          "output_type": "stream",
          "text": [
            "torch.Size([5, 3])\n"
          ],
          "name": "stdout"
        }
      ]
    },
    {
      "cell_type": "markdown",
      "metadata": {
        "id": "UFHCgbXCjOPe",
        "colab_type": "text"
      },
      "source": [
        "### 연산"
      ]
    },
    {
      "cell_type": "code",
      "metadata": {
        "id": "Wd2z_M-8jGVs",
        "colab_type": "code",
        "colab": {
          "base_uri": "https://localhost:8080/",
          "height": 102
        },
        "outputId": "ac63293b-b844-4795-c30e-a4b124ba4a9f"
      },
      "source": [
        "# 덧셈: 문법 1\n",
        "y = torch.rand(5, 3)\n",
        "print(x + y)"
      ],
      "execution_count": 9,
      "outputs": [
        {
          "output_type": "stream",
          "text": [
            "tensor([[ 1.7056,  1.4741, -0.4811],\n",
            "        [ 0.2457, -0.2482,  0.3451],\n",
            "        [ 0.2779,  2.0381, -0.9655],\n",
            "        [ 1.7198,  1.4399, -0.1659],\n",
            "        [-0.0844,  0.2388, -0.6407]])\n"
          ],
          "name": "stdout"
        }
      ]
    },
    {
      "cell_type": "code",
      "metadata": {
        "id": "fzMbvLfSjfJW",
        "colab_type": "code",
        "colab": {
          "base_uri": "https://localhost:8080/",
          "height": 102
        },
        "outputId": "c398140c-962a-419b-a4f6-f7746de6ed3e"
      },
      "source": [
        "# 덧셈: 문법2\n",
        "print(torch.add(x, y))"
      ],
      "execution_count": 10,
      "outputs": [
        {
          "output_type": "stream",
          "text": [
            "tensor([[ 1.7056,  1.4741, -0.4811],\n",
            "        [ 0.2457, -0.2482,  0.3451],\n",
            "        [ 0.2779,  2.0381, -0.9655],\n",
            "        [ 1.7198,  1.4399, -0.1659],\n",
            "        [-0.0844,  0.2388, -0.6407]])\n"
          ],
          "name": "stdout"
        }
      ]
    },
    {
      "cell_type": "code",
      "metadata": {
        "id": "igGohhNwji_D",
        "colab_type": "code",
        "colab": {
          "base_uri": "https://localhost:8080/",
          "height": 102
        },
        "outputId": "99a6d2ff-7749-4305-bd76-648e63911960"
      },
      "source": [
        "# 덧셈: 결과 tensor를 인자로 제공\n",
        "result = torch.empty(5, 3)\n",
        "torch.add(x, y, out=result)\n",
        "print(result)"
      ],
      "execution_count": 11,
      "outputs": [
        {
          "output_type": "stream",
          "text": [
            "tensor([[ 1.7056,  1.4741, -0.4811],\n",
            "        [ 0.2457, -0.2482,  0.3451],\n",
            "        [ 0.2779,  2.0381, -0.9655],\n",
            "        [ 1.7198,  1.4399, -0.1659],\n",
            "        [-0.0844,  0.2388, -0.6407]])\n"
          ],
          "name": "stdout"
        }
      ]
    },
    {
      "cell_type": "code",
      "metadata": {
        "id": "Zx-p9xHUjsWV",
        "colab_type": "code",
        "colab": {
          "base_uri": "https://localhost:8080/",
          "height": 102
        },
        "outputId": "c722be44-52bb-42a5-9c18-30d49b2ffae3"
      },
      "source": [
        "# 덧셈: 바꿔치기(In-place) 방식, y에 x 더하기.\n",
        "# 참고: 바꿔치기 방식으로 tensor 변경 연산은 `_`를 접미사로 가짐\n",
        "# (ex. x.copy_(y), x.t_()는 x를 변경함)\n",
        "y.add_(x)\n",
        "print(y)"
      ],
      "execution_count": 12,
      "outputs": [
        {
          "output_type": "stream",
          "text": [
            "tensor([[ 1.7056,  1.4741, -0.4811],\n",
            "        [ 0.2457, -0.2482,  0.3451],\n",
            "        [ 0.2779,  2.0381, -0.9655],\n",
            "        [ 1.7198,  1.4399, -0.1659],\n",
            "        [-0.0844,  0.2388, -0.6407]])\n"
          ],
          "name": "stdout"
        }
      ]
    },
    {
      "cell_type": "code",
      "metadata": {
        "id": "xPzKrJRDj2eF",
        "colab_type": "code",
        "colab": {
          "base_uri": "https://localhost:8080/",
          "height": 34
        },
        "outputId": "cccb40b2-4cc8-40cf-aeac-5c7161f48331"
      },
      "source": [
        "# Numpy 스타일의 인덱싱도 가능\n",
        "print(x[:, 1])"
      ],
      "execution_count": 13,
      "outputs": [
        {
          "output_type": "stream",
          "text": [
            "tensor([ 1.1415, -1.1834,  1.9084,  0.6208, -0.2538])\n"
          ],
          "name": "stdout"
        }
      ]
    },
    {
      "cell_type": "code",
      "metadata": {
        "id": "QLNe02e6kQVU",
        "colab_type": "code",
        "colab": {
          "base_uri": "https://localhost:8080/",
          "height": 34
        },
        "outputId": "5dd573aa-2f63-437a-847d-72ae9effc59d"
      },
      "source": [
        "# 크기 변경: tensor의 크기(size)나 모양(shape)을 변경하고 싶다면\n",
        "# torch.view를 사용하자. reshape 같은 기능이다.\n",
        "x = torch.randn(4, 4)\n",
        "y = x.view(16)\n",
        "z = x.view(-1, 8)\n",
        "print(x.size(), y.size(), z.size())"
      ],
      "execution_count": 14,
      "outputs": [
        {
          "output_type": "stream",
          "text": [
            "torch.Size([4, 4]) torch.Size([16]) torch.Size([2, 8])\n"
          ],
          "name": "stdout"
        }
      ]
    },
    {
      "cell_type": "code",
      "metadata": {
        "id": "36qfCJ7qkzUF",
        "colab_type": "code",
        "colab": {
          "base_uri": "https://localhost:8080/",
          "height": 51
        },
        "outputId": "2bc65d35-8707-47af-893c-e16c3da98083"
      },
      "source": [
        "# 만약 tensor에 하나의 값만 존재한다면, .item()으로 숫자 값 얻을 수 있음\n",
        "x = torch.randn(1)\n",
        "print(x)\n",
        "print(x.item(), type(x.item()))"
      ],
      "execution_count": 15,
      "outputs": [
        {
          "output_type": "stream",
          "text": [
            "tensor([0.2472])\n",
            "0.24724043905735016 <class 'float'>\n"
          ],
          "name": "stdout"
        }
      ]
    },
    {
      "cell_type": "markdown",
      "metadata": {
        "id": "Z5boDRLomwCL",
        "colab_type": "text"
      },
      "source": [
        "더 읽을거리:\n",
        "\n",
        "전치(transposing), 인덱싱(indexing), 슬라이싱(slicing), 수학 계산, 선형 대수, 난수(random number) 등과 같은 100가지 이상의 Tensor 연산은 [여기](https://pytorch.org/docs/stable/torch.html)에 설명되어 있습니다.\n",
        "\n",
        "100가지이기 때문에 시간 관계 상 스킵.\n"
      ]
    },
    {
      "cell_type": "markdown",
      "metadata": {
        "id": "GHarnceGm7F4",
        "colab_type": "text"
      },
      "source": [
        "### NumPy 변환(Bridge)\n",
        "Torch tesnor를 numpy array로 변환하거나 그 반대로 할 수 있다.\n",
        "\n",
        "CPU 상의 torch tensor와 numpy array는 저장 공간을 공유한다. \n",
        "\n",
        "하나를 변경하면 다른 하나도 변경한다."
      ]
    },
    {
      "cell_type": "code",
      "metadata": {
        "id": "DUa77r46lClk",
        "colab_type": "code",
        "colab": {
          "base_uri": "https://localhost:8080/",
          "height": 34
        },
        "outputId": "bf55c4b6-3b8f-4678-f3cc-5c94b8d571e7"
      },
      "source": [
        "# torch tensor -> numpy array\n",
        "a = torch.ones(5)\n",
        "print(a)"
      ],
      "execution_count": 16,
      "outputs": [
        {
          "output_type": "stream",
          "text": [
            "tensor([1., 1., 1., 1., 1.])\n"
          ],
          "name": "stdout"
        }
      ]
    },
    {
      "cell_type": "code",
      "metadata": {
        "id": "lk2fj_WJnUBZ",
        "colab_type": "code",
        "colab": {
          "base_uri": "https://localhost:8080/",
          "height": 34
        },
        "outputId": "22b56e2d-73d4-4f70-eaa0-67a7ba8ef72c"
      },
      "source": [
        "b = a.numpy()\n",
        "print(b)"
      ],
      "execution_count": 17,
      "outputs": [
        {
          "output_type": "stream",
          "text": [
            "[1. 1. 1. 1. 1.]\n"
          ],
          "name": "stdout"
        }
      ]
    },
    {
      "cell_type": "code",
      "metadata": {
        "id": "Lf6-ZNz1nhxZ",
        "colab_type": "code",
        "colab": {
          "base_uri": "https://localhost:8080/",
          "height": 51
        },
        "outputId": "6a4d2437-2594-4fa0-f107-20644ae67a5f"
      },
      "source": [
        "# numpy array 값 변화를 확인해보기\n",
        "a.add_(1)\n",
        "print(a)\n",
        "print(b)"
      ],
      "execution_count": 18,
      "outputs": [
        {
          "output_type": "stream",
          "text": [
            "tensor([2., 2., 2., 2., 2.])\n",
            "[2. 2. 2. 2. 2.]\n"
          ],
          "name": "stdout"
        }
      ]
    },
    {
      "cell_type": "code",
      "metadata": {
        "id": "0QokWaVynqSJ",
        "colab_type": "code",
        "colab": {
          "base_uri": "https://localhost:8080/",
          "height": 51
        },
        "outputId": "ce99c919-35fd-499a-a9cd-8dcaeae2953d"
      },
      "source": [
        "# numpy -> torch tensor\n",
        "import numpy as np\n",
        "a = np.ones(5)\n",
        "b = torch.from_numpy(a)\n",
        "np.add(a, 1, out=a)\n",
        "print(a)\n",
        "print(b)"
      ],
      "execution_count": 19,
      "outputs": [
        {
          "output_type": "stream",
          "text": [
            "[2. 2. 2. 2. 2.]\n",
            "tensor([2., 2., 2., 2., 2.], dtype=torch.float64)\n"
          ],
          "name": "stdout"
        }
      ]
    },
    {
      "cell_type": "markdown",
      "metadata": {
        "id": "ijyx8oazomEm",
        "colab_type": "text"
      },
      "source": [
        "CharTensor를 제와한 CPU 상의 모든 tensor는 numpy 변환이 가능하다. 역변환도 가능하다."
      ]
    },
    {
      "cell_type": "code",
      "metadata": {
        "id": "1ANP9Th1ofrz",
        "colab_type": "code",
        "colab": {
          "base_uri": "https://localhost:8080/",
          "height": 51
        },
        "outputId": "b139db0b-ab53-4370-f6b7-88bd8a8c7cc9"
      },
      "source": [
        "# CUDA Tensor : .to 메소드를 이용해 어떤 장치로든 tensor를 옮길 수 있다.\n",
        "if torch.cuda.is_available():\n",
        "  device = torch.device(\"cuda\")  # CUDA 장치 객체로\n",
        "  y =  torch.ones_like(x, device=device)  # GPU 상에 직접 tensor를 생성하거나\n",
        "  x = x.to(device)  # .to(\"cuda\")를 사용하면 된다.\n",
        "  z = x + y\n",
        "  print(z)\n",
        "  print(z.to(\"cpu\", torch.double)) # .to는 dytpe도 함께 변경 가능\n",
        "  "
      ],
      "execution_count": 20,
      "outputs": [
        {
          "output_type": "stream",
          "text": [
            "tensor([1.2472], device='cuda:0')\n",
            "tensor([1.2472], dtype=torch.float64)\n"
          ],
          "name": "stdout"
        }
      ]
    },
    {
      "cell_type": "code",
      "metadata": {
        "id": "Him5IRlSvQYV",
        "colab_type": "code",
        "colab": {}
      },
      "source": [
        ""
      ],
      "execution_count": 0,
      "outputs": []
    }
  ]
}