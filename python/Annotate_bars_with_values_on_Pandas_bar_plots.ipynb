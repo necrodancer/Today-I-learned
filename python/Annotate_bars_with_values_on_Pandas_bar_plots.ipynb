{
  "nbformat": 4,
  "nbformat_minor": 0,
  "metadata": {
    "colab": {
      "name": "Annotate bars with values on Pandas bar plots.ipynb",
      "provenance": [],
      "authorship_tag": "ABX9TyNJZ8MGc0kEQVx/Ww/V0Bh8",
      "include_colab_link": true
    },
    "kernelspec": {
      "name": "python3",
      "display_name": "Python 3"
    }
  },
  "cells": [
    {
      "cell_type": "markdown",
      "metadata": {
        "id": "view-in-github",
        "colab_type": "text"
      },
      "source": [
        "<a href=\"https://colab.research.google.com/github/necrodancer/Today-I-learned/blob/master/python/Annotate_bars_with_values_on_Pandas_bar_plots.ipynb\" target=\"_parent\"><img src=\"https://colab.research.google.com/assets/colab-badge.svg\" alt=\"Open In Colab\"/></a>"
      ]
    },
    {
      "cell_type": "markdown",
      "metadata": {
        "id": "oiOH-oLtd-p6",
        "colab_type": "text"
      },
      "source": [
        "# Annotate bars with values on Pandas bar plots\n",
        "Note: the original code is from [Annotate bars with values on Pandas bar plots](https://stackoverflow.com/questions/25447700/annotate-bars-with-values-on-pandas-bar-plots) in Stackoverflow.\n",
        "\n",
        "I only reproduce and practice the code above."
      ]
    },
    {
      "cell_type": "code",
      "metadata": {
        "id": "RtR52D41d7b3",
        "colab_type": "code",
        "colab": {}
      },
      "source": [
        "import pandas as pd\n",
        "import numpy as np\n",
        "import matplotlib.pyplot as plt"
      ],
      "execution_count": 0,
      "outputs": []
    },
    {
      "cell_type": "code",
      "metadata": {
        "id": "0qlCxuwyeSjU",
        "colab_type": "code",
        "colab": {
          "base_uri": "https://localhost:8080/",
          "height": 111
        },
        "outputId": "17369432-1ce3-4887-9bac-12b6370b2695"
      },
      "source": [
        "df = pd.DataFrame({'A':np.random.rand(2), 'B':np.random.rand(2)}, index=['value1', 'value2'])\n",
        "df"
      ],
      "execution_count": 2,
      "outputs": [
        {
          "output_type": "execute_result",
          "data": {
            "text/html": [
              "<div>\n",
              "<style scoped>\n",
              "    .dataframe tbody tr th:only-of-type {\n",
              "        vertical-align: middle;\n",
              "    }\n",
              "\n",
              "    .dataframe tbody tr th {\n",
              "        vertical-align: top;\n",
              "    }\n",
              "\n",
              "    .dataframe thead th {\n",
              "        text-align: right;\n",
              "    }\n",
              "</style>\n",
              "<table border=\"1\" class=\"dataframe\">\n",
              "  <thead>\n",
              "    <tr style=\"text-align: right;\">\n",
              "      <th></th>\n",
              "      <th>A</th>\n",
              "      <th>B</th>\n",
              "    </tr>\n",
              "  </thead>\n",
              "  <tbody>\n",
              "    <tr>\n",
              "      <th>value1</th>\n",
              "      <td>0.975072</td>\n",
              "      <td>0.398770</td>\n",
              "    </tr>\n",
              "    <tr>\n",
              "      <th>value2</th>\n",
              "      <td>0.269154</td>\n",
              "      <td>0.688592</td>\n",
              "    </tr>\n",
              "  </tbody>\n",
              "</table>\n",
              "</div>"
            ],
            "text/plain": [
              "               A         B\n",
              "value1  0.975072  0.398770\n",
              "value2  0.269154  0.688592"
            ]
          },
          "metadata": {
            "tags": []
          },
          "execution_count": 2
        }
      ]
    },
    {
      "cell_type": "code",
      "metadata": {
        "id": "4ofWnC8IemRu",
        "colab_type": "code",
        "colab": {
          "base_uri": "https://localhost:8080/",
          "height": 343
        },
        "outputId": "94a6c22e-466c-4f4a-ab0d-9616737c44c9"
      },
      "source": [
        "fig, ax = plt.subplots(figsize=(10, 5))\n",
        "ax = df.plot(kind='bar', ax=ax)\n",
        "for p in ax.patches:\n",
        "    annot = \"{:.2f}\".format(p.get_height())  # value that you want to annotate\n",
        "    x_offset = .1  # moves 'annot' with x-axis \n",
        "    y_offset = 0  # moves 'annot' with y-axis\n",
        "    ax.annotate(annot,  # value\n",
        "                (p.get_x() * 1.005 + x_offset, p.get_height() * 1.005 + y_offset)  # coords\n",
        "                )"
      ],
      "execution_count": 3,
      "outputs": [
        {
          "output_type": "display_data",
          "data": {
            "image/png": "[encoded data removed]",
            "text/plain": [
              "<Figure size 720x360 with 1 Axes>"
            ]
          },
          "metadata": {
            "tags": [],
            "needs_background": "light"
          }
        }
      ]
    },
    {
      "cell_type": "code",
      "metadata": {
        "id": "fI3S7zU6fBsT",
        "colab_type": "code",
        "colab": {}
      },
      "source": [
        ""
      ],
      "execution_count": 0,
      "outputs": []
    }
  ]
}