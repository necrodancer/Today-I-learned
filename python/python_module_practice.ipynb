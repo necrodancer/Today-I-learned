{
 "cells": [
  {
   "cell_type": "markdown",
   "metadata": {},
   "source": [
    "# Python Module Practice"
   ]
  },
  {
   "cell_type": "markdown",
   "metadata": {},
   "source": [
    "## Reference\n",
    "[Link](https://wikidocs.net/29)"
   ]
  },
  {
   "cell_type": "markdown",
   "metadata": {},
   "source": [
    "## Module\n",
    "모듈이란 함수나 변수 또는 클래스들을 모아 놓은 **파일**이다. 모듈은 다른 파이썬 프로그램에서 불러와 사용할 수 있게끔 만들어진 파이썬 파일이라고도 할 수 있다.모듈은 타인이 만든 것을 사용할 수도 있고, 직접 만들어 사용할 수도 있다."
   ]
  },
  {
   "cell_type": "markdown",
   "metadata": {},
   "source": [
    "## 모듈 만들고 불러보기"
   ]
  },
  {
   "cell_type": "code",
   "execution_count": 1,
   "metadata": {},
   "outputs": [
    {
     "name": "stdout",
     "output_type": "stream",
     "text": [
      "Overwriting mod1.py\n"
     ]
    }
   ],
   "source": [
    "%%writefile  mod1.py\n",
    "# mod1.py\n",
    "def sum(a,b):\n",
    "    return a+b\n",
    "\n",
    "def safe_sum(a,b):\n",
    "    if type(a) != type(b):\n",
    "        print(\"not addable.\")\n",
    "        return\n",
    "    else:\n",
    "        result = sum(a,b)\n",
    "    return result"
   ]
  },
  {
   "cell_type": "code",
   "execution_count": 2,
   "metadata": {},
   "outputs": [
    {
     "name": "stdout",
     "output_type": "stream",
     "text": [
      "# mod1.py\r\n",
      "def sum(a,b):\r\n",
      "    return a+b\r\n",
      "\r\n",
      "def safe_sum(a,b):\r\n",
      "    if type(a) != type(b):\r\n",
      "        print(\"not addable.\")\r\n",
      "        return\r\n",
      "    else:\r\n",
      "        result = sum(a,b)\r\n",
      "    return result"
     ]
    }
   ],
   "source": [
    "!cat mod1.py"
   ]
  },
  {
   "cell_type": "code",
   "execution_count": 3,
   "metadata": {},
   "outputs": [
    {
     "name": "stdout",
     "output_type": "stream",
     "text": [
      "7\n"
     ]
    }
   ],
   "source": [
    "import mod1\n",
    "print(mod1.sum(3,4))"
   ]
  },
  {
   "cell_type": "markdown",
   "metadata": {},
   "source": [
    "※ import는 현재 디렉터리에 있는 파일이나 파이썬 라이브러리가 저장된 디렉터리에 있는 모듈만 불러올 수 있다."
   ]
  },
  {
   "cell_type": "code",
   "execution_count": 4,
   "metadata": {},
   "outputs": [
    {
     "name": "stdout",
     "output_type": "stream",
     "text": [
      "7\n"
     ]
    }
   ],
   "source": [
    "import mod1\n",
    "print(mod1.safe_sum(3,4))"
   ]
  },
  {
   "cell_type": "markdown",
   "metadata": {},
   "source": [
    "모듈을 수정하고 import를 하니 반영이 되지 않았다. 그래서 커널을 껐다가 다시 실행해보니 수정 사항이 반영되었다."
   ]
  },
  {
   "cell_type": "code",
   "execution_count": 6,
   "metadata": {},
   "outputs": [
    {
     "name": "stdout",
     "output_type": "stream",
     "text": [
      "not addable.\n",
      "None\n"
     ]
    }
   ],
   "source": [
    "print(mod1.safe_sum(1,'a'))"
   ]
  },
  {
   "cell_type": "markdown",
   "metadata": {},
   "source": [
    "None이 반환된 까닭은 단독으로 사용된 return 때문이다. return만 홀로 쓰이면 None을 반환한다."
   ]
  },
  {
   "cell_type": "code",
   "execution_count": 7,
   "metadata": {},
   "outputs": [
    {
     "name": "stdout",
     "output_type": "stream",
     "text": [
      "7\n"
     ]
    }
   ],
   "source": [
    "from mod1 import safe_sum\n",
    "print(safe_sum(3,4))"
   ]
  },
  {
   "cell_type": "code",
   "execution_count": 8,
   "metadata": {},
   "outputs": [
    {
     "name": "stdout",
     "output_type": "stream",
     "text": [
      "7\n"
     ]
    }
   ],
   "source": [
    "from mod1 import *\n",
    "print(safe_sum(2,5))"
   ]
  },
  {
   "cell_type": "markdown",
   "metadata": {},
   "source": [
    "## if--name--==\"--main--\":의 의미"
   ]
  },
  {
   "cell_type": "code",
   "execution_count": 11,
   "metadata": {},
   "outputs": [
    {
     "name": "stdout",
     "output_type": "stream",
     "text": [
      "Overwriting mod1.py\n"
     ]
    }
   ],
   "source": [
    "%%writefile  mod1.py\n",
    "# mod1.py\n",
    "def sum(a,b):\n",
    "    return a+b\n",
    "\n",
    "def safe_sum(a,b):\n",
    "    if type(a) != type(b):\n",
    "        print(\"not addable.\")\n",
    "        return\n",
    "    else:\n",
    "        result = sum(a,b)\n",
    "    return result\n",
    "\n",
    "if __name__ == \"__main__\":\n",
    "    print(safe_sum('a',1))\n",
    "    print(safe_sum(1,4))\n",
    "    print(safe_sum(10,10.4))"
   ]
  },
  {
   "cell_type": "code",
   "execution_count": 12,
   "metadata": {},
   "outputs": [
    {
     "name": "stdout",
     "output_type": "stream",
     "text": [
      "not addable.\r\n",
      "None\r\n",
      "5\r\n",
      "not addable.\r\n",
      "None\r\n"
     ]
    }
   ],
   "source": [
    "!python mod1.py"
   ]
  },
  {
   "cell_type": "code",
   "execution_count": 13,
   "metadata": {},
   "outputs": [],
   "source": [
    "import mod1"
   ]
  },
  {
   "cell_type": "markdown",
   "metadata": {},
   "source": [
    "`__name__`변수는 파이썬이 내부적으로 사용하는 특별한 변수명이다.<br>\n",
    "만약 mod1.py를 직접 실행하면 mod1.py의 `__name__`변수에는 `__main__`이라는 값이 저장된다. 하지만 mod1을 그저 import하는 경우에는 mod1.py의 `__name__`변수에 \"mod1\"이라는 mod1.py의 모듈이름 값이 저장된다."
   ]
  },
  {
   "cell_type": "markdown",
   "metadata": {},
   "source": [
    "## 모듈을 불러오는 또 다른 방법"
   ]
  },
  {
   "cell_type": "code",
   "execution_count": 14,
   "metadata": {},
   "outputs": [
    {
     "data": {
      "text/plain": [
       "['',\n",
       " '/home/cho/caffe/python',\n",
       " '/home/cho/Projects/keras_talk/venv/lib/python2.7',\n",
       " '/home/cho/Projects/keras_talk/venv/lib/python2.7/plat-x86_64-linux-gnu',\n",
       " '/home/cho/Projects/keras_talk/venv/lib/python2.7/lib-tk',\n",
       " '/home/cho/Projects/keras_talk/venv/lib/python2.7/lib-old',\n",
       " '/home/cho/Projects/keras_talk/venv/lib/python2.7/lib-dynload',\n",
       " '/usr/lib/python2.7',\n",
       " '/usr/lib/python2.7/plat-x86_64-linux-gnu',\n",
       " '/usr/lib/python2.7/lib-tk',\n",
       " '/home/cho/Projects/keras_talk/venv/local/lib/python2.7/site-packages',\n",
       " '/home/cho/Projects/keras_talk/venv/lib/python2.7/site-packages',\n",
       " '/home/cho/Projects/keras_talk/venv/local/lib/python2.7/site-packages/IPython/extensions',\n",
       " '/home/cho/.ipython']"
      ]
     },
     "execution_count": 14,
     "metadata": {},
     "output_type": "execute_result"
    }
   ],
   "source": [
    "import sys\n",
    "sys.path"
   ]
  },
  {
   "cell_type": "code",
   "execution_count": 16,
   "metadata": {},
   "outputs": [
    {
     "name": "stdout",
     "output_type": "stream",
     "text": [
      "/home/cho/Projects/Practice\r\n"
     ]
    }
   ],
   "source": [
    "!pwd"
   ]
  },
  {
   "cell_type": "code",
   "execution_count": 17,
   "metadata": {},
   "outputs": [
    {
     "data": {
      "text/plain": [
       "['',\n",
       " '/home/cho/caffe/python',\n",
       " '/home/cho/Projects/keras_talk/venv/lib/python2.7',\n",
       " '/home/cho/Projects/keras_talk/venv/lib/python2.7/plat-x86_64-linux-gnu',\n",
       " '/home/cho/Projects/keras_talk/venv/lib/python2.7/lib-tk',\n",
       " '/home/cho/Projects/keras_talk/venv/lib/python2.7/lib-old',\n",
       " '/home/cho/Projects/keras_talk/venv/lib/python2.7/lib-dynload',\n",
       " '/usr/lib/python2.7',\n",
       " '/usr/lib/python2.7/plat-x86_64-linux-gnu',\n",
       " '/usr/lib/python2.7/lib-tk',\n",
       " '/home/cho/Projects/keras_talk/venv/local/lib/python2.7/site-packages',\n",
       " '/home/cho/Projects/keras_talk/venv/lib/python2.7/site-packages',\n",
       " '/home/cho/Projects/keras_talk/venv/local/lib/python2.7/site-packages/IPython/extensions',\n",
       " '/home/cho/.ipython',\n",
       " '/home/cho/Projects/Practice']"
      ]
     },
     "execution_count": 17,
     "metadata": {},
     "output_type": "execute_result"
    }
   ],
   "source": [
    "sys.path.append(\"/home/cho/Projects/Practice\")\n",
    "sys.path"
   ]
  },
  {
   "cell_type": "code",
   "execution_count": 18,
   "metadata": {},
   "outputs": [],
   "source": [
    "import mod1"
   ]
  },
  {
   "cell_type": "code",
   "execution_count": 19,
   "metadata": {},
   "outputs": [],
   "source": [
    "!set PYTHONPATH=/home/cho/Projects/Practice"
   ]
  },
  {
   "cell_type": "code",
   "execution_count": 20,
   "metadata": {},
   "outputs": [],
   "source": [
    "import mod1"
   ]
  },
  {
   "cell_type": "code",
   "execution_count": null,
   "metadata": {},
   "outputs": [],
   "source": []
  }
 ],
 "metadata": {
  "kernelspec": {
   "display_name": "Python 2",
   "language": "python",
   "name": "python2"
  },
  "language_info": {
   "codemirror_mode": {
    "name": "ipython",
    "version": 2
   },
   "file_extension": ".py",
   "mimetype": "text/x-python",
   "name": "python",
   "nbconvert_exporter": "python",
   "pygments_lexer": "ipython2",
   "version": "2.7.12"
  }
 },
 "nbformat": 4,
 "nbformat_minor": 2
}
