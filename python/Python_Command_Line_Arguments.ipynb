{
 "cells": [
  {
   "cell_type": "markdown",
   "metadata": {},
   "source": [
    "# [Python command line arguments](https://www.tutorialspoint.com/python/python_command_line_arguments.htm)"
   ]
  },
  {
   "cell_type": "code",
   "execution_count": 1,
   "metadata": {},
   "outputs": [
    {
     "name": "stdout",
     "output_type": "stream",
     "text": [
      "Writing test.py\n"
     ]
    }
   ],
   "source": [
    "%%writefile test.py\n",
    "#!/usr/bin/python\n",
    "# -*- coding: utf-8 -*-\n",
    "\n",
    "import sys\n",
    "\n",
    "print(\"Number of arguments : \",len(sys.argv), 'arguments.')\n",
    "print(\"Argument List : \",str(sys.argv))"
   ]
  },
  {
   "cell_type": "code",
   "execution_count": 2,
   "metadata": {},
   "outputs": [
    {
     "name": "stdout",
     "output_type": "stream",
     "text": [
      "numpy_nditer.ipynb  raw.csv  Self Organizing Map.ipynb\ttest.py  Untitled.ipynb\r\n"
     ]
    }
   ],
   "source": [
    "!ls"
   ]
  },
  {
   "cell_type": "code",
   "execution_count": 3,
   "metadata": {},
   "outputs": [
    {
     "name": "stdout",
     "output_type": "stream",
     "text": [
      "('Number of arguments : ', 4, 'arguments.')\r\n",
      "('Argument List : ', \"['test.py', 'argument1', 'argument2', 'argument3']\")\r\n"
     ]
    }
   ],
   "source": [
    "!python test.py argument1 argument2 argument3"
   ]
  },
  {
   "cell_type": "markdown",
   "metadata": {},
   "source": [
    "## 해설\n",
    "```\n",
    "%%writefile filename.format\n",
    "<contents>\n",
    "```\n",
    "은 텍스트 파일을 생성하는 명령어이다. ipython에서 적용된다. <br>\n",
    "sys 패키지에는 sys.argv라는 하위 변수가 존재한다. <br>\n",
    "터미널에서 python을 실행할 때 python test.py arg1 arg2 ...과 같이 실행하면, <br>\n",
    "test.py와 arg1, arg2, ...가 리스트 형태로 sys.argv에 담긴다. <br>\n",
    "받은 인수의 개수를 세아릴 때는 `len(sys.argv)`를, 문자열로 출력할 때는 `str(sys.argv)`를 사용했다. <br>"
   ]
  },
  {
   "cell_type": "markdown",
   "metadata": {},
   "source": [
    "## 응용 가능성\n",
    "현재 외부 프로그램의 출력물을 파이썬 입력으로 받아들여서 처리하는 코드를 작성해야 하는데<br>\n",
    "출력물을 인수로 받아들일 수 있을 것 같다. 파일 입력에 대해서는 시도해보지 않았다.<br>\n",
    "[이와 관련된 예제](https://stackoverflow.com/questions/7439145/i-want-to-read-in-a-file-from-the-command-line-in-python)는 아래를 통해 할 수 있다."
   ]
  },
  {
   "cell_type": "code",
   "execution_count": 6,
   "metadata": {},
   "outputs": [
    {
     "name": "stdout",
     "output_type": "stream",
     "text": [
      "Overwriting test2.py\n"
     ]
    }
   ],
   "source": [
    "%%writefile test2.py\n",
    "#!/usr/bin/python\n",
    "# -*- coding: utf-8 -*-\n",
    "\n",
    "import sys\n",
    "\n",
    "with open(sys.argv[1], 'r') as f:\n",
    "    contents = f.read()\n",
    "print(contents)"
   ]
  },
  {
   "cell_type": "code",
   "execution_count": 7,
   "metadata": {},
   "outputs": [
    {
     "name": "stdout",
     "output_type": "stream",
     "text": [
      "#!/usr/bin/python\r\n",
      "# -*- coding: utf-8 -*-\r\n",
      "\r\n",
      "import sys\r\n",
      "\r\n",
      "print(\"Number of arguments : \",len(sys.argv), 'arguments.')\r\n",
      "print(\"Argument List : \",str(sys.argv))\r\n"
     ]
    }
   ],
   "source": [
    "!python test2.py test.py"
   ]
  },
  {
   "cell_type": "code",
   "execution_count": null,
   "metadata": {},
   "outputs": [],
   "source": []
  }
 ],
 "metadata": {
  "kernelspec": {
   "display_name": "py27",
   "language": "python",
   "name": "py27"
  },
  "language_info": {
   "codemirror_mode": {
    "name": "ipython",
    "version": 2
   },
   "file_extension": ".py",
   "mimetype": "text/x-python",
   "name": "python",
   "nbconvert_exporter": "python",
   "pygments_lexer": "ipython2",
   "version": "2.7.14"
  }
 },
 "nbformat": 4,
 "nbformat_minor": 2
}
