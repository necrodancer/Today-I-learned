{
 "cells": [
  {
   "cell_type": "markdown",
   "metadata": {},
   "source": [
    "# 폴더 마다 순번 상 가장 마지막 파일을 한 곳으로 복사하는 코드"
   ]
  },
  {
   "cell_type": "markdown",
   "metadata": {},
   "source": [
    "## 2018.07.21.토\n",
    "작성자 : necrodancer"
   ]
  },
  {
   "cell_type": "markdown",
   "metadata": {},
   "source": [
    "pred_path는 0~30으로 이름 지은 폴더를 가지고 있다.<br>\n",
    "각 폴더를 방문하여 가장 마지막 순서인 파일을 찾고, <br>\n",
    "해당 파일을 새로운 경로로 복사하는 코드를 작성한다."
   ]
  },
  {
   "cell_type": "code",
   "execution_count": 2,
   "metadata": {},
   "outputs": [],
   "source": [
    "pred_path = '<path>'"
   ]
  },
  {
   "cell_type": "code",
   "execution_count": 12,
   "metadata": {},
   "outputs": [],
   "source": [
    "from natsort import natsorted # 정렬에 특화된 함수. 디렉토리나 파일명을 오름차순으로 정렬하는데 사용할 것이다.\n",
    "import shutil # shell util 패키지, 리눅스 shell에서 사용하던 파일 복사 등의 함수를 가지고 있다.\n",
    "import os # 경로 관련 작업을 할 때 쓰는 패키지."
   ]
  },
  {
   "cell_type": "code",
   "execution_count": 13,
   "metadata": {},
   "outputs": [
    {
     "name": "stdout",
     "output_type": "stream",
     "text": [
      "['0', '1', '2', '3', '4', '5', '6', '7', '8', '9', '10', '11', '12', '13', '14', '15', '16', '17', '18', '19', '20', '21', '22', '23', '24', '25', '26', '27', '28', '29', '30']\n"
     ]
    }
   ],
   "source": [
    "temp = os.listdir(pred_path) # pred_path의 디렉토리 리스트를 뽑는다.\n",
    "list_dir = natsorted(temp) # 디렉토리 리스트를 오름차순으로 정렬한다.\n",
    "print(list_dir) # 출력하여 잘 되었는지 확인해본다."
   ]
  },
  {
   "cell_type": "code",
   "execution_count": 15,
   "metadata": {},
   "outputs": [],
   "source": [
    "for _dir in list_dir: # pred_path의 하위 폴더를 각각 방문한다.\n",
    "    current_path = os.path.join(pred_path,_dir) # pred_path + 현재 폴더명을 붙여서 현재 path 값을 구한다.\n",
    "    temp = os.listdir(current_path) # 현재 path 안에 있는 파일 리스트를 불러온다.\n",
    "    list_img = natsorted(temp) # 파일 리스트를 정렬한다.\n",
    "    target = os.path.join(current_path,list_img[-1]) # 이미 정렬된 리스트에서 가장 마지막 파일에 대한 path를 구한다.\n",
    "    destination = './destination/' # 파일을 복사할 장소. 현재 jupyter notebook이 실행된 경로에 존재하는 destination 폴더를 가리킨다.\n",
    "    try: # 예외처리. 파일 복사할 경로가 없다면 './destination'이란 디렉토리를 새로 만든다.\n",
    "        os.makedirs(destination)\n",
    "    except OSError:\n",
    "        if not os.path.isdir(destination):\n",
    "            raise\n",
    "    shutil.copy(target,destination) # 파일을 지정된 장소에 복사한다."
   ]
  },
  {
   "cell_type": "markdown",
   "metadata": {},
   "source": [
    "# 참고 사이트\n",
    "[shutil](https://code.tutsplus.com/ko/tutorials/file-and-directory-operations-using-python--cms-25817)<br>\n",
    "[os.listdir](https://stackoverflow.com/questions/120656/directory-tree-listing-in-python)<br>\n",
    "[\\Python\\ 디렉토리가 없으면 어떻게 만들 수 있습니까?](https://code.i-harness.com/ko/q/42b28)<br>"
   ]
  },
  {
   "cell_type": "code",
   "execution_count": null,
   "metadata": {},
   "outputs": [],
   "source": []
  }
 ],
 "metadata": {
  "kernelspec": {
   "display_name": "tf_cu80",
   "language": "python",
   "name": "tf_cu80"
  },
  "language_info": {
   "codemirror_mode": {
    "name": "ipython",
    "version": 2
   },
   "file_extension": ".py",
   "mimetype": "text/x-python",
   "name": "python",
   "nbconvert_exporter": "python",
   "pygments_lexer": "ipython2",
   "version": "2.7.15"
  }
 },
 "nbformat": 4,
 "nbformat_minor": 2
}
