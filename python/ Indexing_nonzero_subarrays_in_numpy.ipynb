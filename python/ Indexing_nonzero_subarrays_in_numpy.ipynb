{
 "cells": [
  {
   "cell_type": "markdown",
   "metadata": {},
   "source": [
    "# Indexing nonzero sub-arrays in numpy"
   ]
  },
  {
   "cell_type": "markdown",
   "metadata": {},
   "source": [
    "Purpose\n",
    "---\n",
    "Let there is array like this :"
   ]
  },
  {
   "cell_type": "code",
   "execution_count": 3,
   "metadata": {},
   "outputs": [
    {
     "name": "stdout",
     "output_type": "stream",
     "text": [
      "Array a:\n",
      "[[0 0 0 0]\n",
      " [0 0 0 1]\n",
      " [0 0 0 0]\n",
      " [0 0 1 0]]\n"
     ]
    }
   ],
   "source": [
    "import numpy as np\n",
    "a = np.array([\n",
    "    [0,0,0,0],\n",
    "    [0,0,0,1],\n",
    "    [0,0,0,0],\n",
    "    [0,0,1,0]\n",
    "])\n",
    "print(\"Array a:\")\n",
    "print(a)"
   ]
  },
  {
   "cell_type": "markdown",
   "metadata": {},
   "source": [
    "There are some non-zero rows in the array `a`, i.e row number 1 and 3. <br>\n",
    "What should we do If we want to know indices of non-zero rows <br>\n",
    "not the specific indices of non-zero elements?"
   ]
  },
  {
   "cell_type": "markdown",
   "metadata": {},
   "source": [
    "numpy.nonzero()\n",
    "---\n",
    "numpy.nonzero() returns every indices of each axis of array."
   ]
  },
  {
   "cell_type": "code",
   "execution_count": 5,
   "metadata": {},
   "outputs": [
    {
     "name": "stdout",
     "output_type": "stream",
     "text": [
      "(array([1, 3]), array([3, 2]))\n"
     ]
    }
   ],
   "source": [
    "nz_idx = np.nonzero(a)\n",
    "print(nz_idx)"
   ]
  },
  {
   "cell_type": "markdown",
   "metadata": {},
   "source": [
    "As you can see, the first `array([1, 3])` indicates what we want to know; rows of non-zero. <br>\n",
    "And the other `array([3, 2])` shows the columns of non-zero.<br>\n",
    "But, if we have the multiple non-zeros in a row as below array `b`, what will happen?"
   ]
  },
  {
   "cell_type": "code",
   "execution_count": 6,
   "metadata": {},
   "outputs": [
    {
     "name": "stdout",
     "output_type": "stream",
     "text": [
      "Array b:\n",
      "[[0 0 0 0]\n",
      " [0 0 1 1]\n",
      " [0 0 0 0]\n",
      " [0 1 1 0]]\n"
     ]
    }
   ],
   "source": [
    "b = np.array([\n",
    "    [0,0,0,0],\n",
    "    [0,0,1,1],\n",
    "    [0,0,0,0],\n",
    "    [0,1,1,0]\n",
    "])\n",
    "print(\"Array b:\")\n",
    "print(b)"
   ]
  },
  {
   "cell_type": "code",
   "execution_count": 7,
   "metadata": {},
   "outputs": [
    {
     "name": "stdout",
     "output_type": "stream",
     "text": [
      "(array([1, 1, 3, 3]), array([2, 3, 1, 2]))\n"
     ]
    }
   ],
   "source": [
    "nz_idx = np.nonzero(b)\n",
    "print(nz_idx)"
   ]
  },
  {
   "cell_type": "markdown",
   "metadata": {},
   "source": [
    "It returns multiple same row indices. <br>\n",
    "If we want to unique indices of row of non-zeros, <br>\n",
    "just apply `set`."
   ]
  },
  {
   "cell_type": "code",
   "execution_count": 9,
   "metadata": {},
   "outputs": [
    {
     "name": "stdout",
     "output_type": "stream",
     "text": [
      "set([1, 3])\n"
     ]
    }
   ],
   "source": [
    "nz_idx = np.nonzero(b)\n",
    "nz_rows = set(nz_idx[0])\n",
    "print(nz_rows)"
   ]
  },
  {
   "cell_type": "markdown",
   "metadata": {},
   "source": [
    "If it is not sorted, you can add `sorted` method.\n",
    "It will return not `set` type but `list` type."
   ]
  },
  {
   "cell_type": "code",
   "execution_count": 10,
   "metadata": {},
   "outputs": [
    {
     "name": "stdout",
     "output_type": "stream",
     "text": [
      "[1, 3]\n"
     ]
    }
   ],
   "source": [
    "nz_idx = np.nonzero(b)\n",
    "nz_rows = sorted(set(nz_idx[0]))\n",
    "print(nz_rows)"
   ]
  },
  {
   "cell_type": "markdown",
   "metadata": {},
   "source": [
    "Application\n",
    "---\n",
    "If you want to index non-zero segmentation slices among a bunch of zero slices in CT-image,\n",
    "This code will be help you."
   ]
  },
  {
   "cell_type": "code",
   "execution_count": null,
   "metadata": {},
   "outputs": [],
   "source": [
    "nz_idx = np.nonzero(b)\n",
    "nz_rows = sorted(set(nz_idx[0]))\n",
    "print(nz_rows)"
   ]
  },
  {
   "cell_type": "markdown",
   "metadata": {},
   "source": [
    "Or, the reference code from the official document of numpy is also useful."
   ]
  },
  {
   "cell_type": "code",
   "execution_count": 14,
   "metadata": {},
   "outputs": [
    {
     "name": "stdout",
     "output_type": "stream",
     "text": [
      "(array([0]), array([1]))\n"
     ]
    }
   ],
   "source": [
    "c = np.array([[1,2],[0,1]])\n",
    "d = c > 1\n",
    "print(d.nonzero())"
   ]
  },
  {
   "cell_type": "markdown",
   "metadata": {},
   "source": [
    "# References\n",
    "\\[1\\] [(파이썬) numpy.nonzero](http://codepractice.tistory.com/90)<br>\n",
    "\\[2\\] [numpy.nonzero](https://docs.scipy.org/doc/numpy/reference/generated/numpy.nonzero.html)"
   ]
  },
  {
   "cell_type": "code",
   "execution_count": null,
   "metadata": {},
   "outputs": [],
   "source": []
  }
 ],
 "metadata": {
  "kernelspec": {
   "display_name": "Python 2",
   "language": "python",
   "name": "python2"
  },
  "language_info": {
   "codemirror_mode": {
    "name": "ipython",
    "version": 2
   },
   "file_extension": ".py",
   "mimetype": "text/x-python",
   "name": "python",
   "nbconvert_exporter": "python",
   "pygments_lexer": "ipython2",
   "version": "2.7.15"
  }
 },
 "nbformat": 4,
 "nbformat_minor": 2
}
