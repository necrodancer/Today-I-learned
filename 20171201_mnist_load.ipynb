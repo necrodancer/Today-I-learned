{
 "cells": [
  {
   "cell_type": "markdown",
   "metadata": {},
   "source": [
    "# Load MNIST"
   ]
  },
  {
   "cell_type": "code",
   "execution_count": 21,
   "metadata": {},
   "outputs": [],
   "source": [
    "from PIL import Image\n",
    "import glob\n",
    "import numpy as np"
   ]
  },
  {
   "cell_type": "code",
   "execution_count": 72,
   "metadata": {},
   "outputs": [],
   "source": [
    "train_set = []\n",
    "train_label = []\n",
    "for fold_n in range(0,10):\n",
    "    temp_path = str('/home/cho/Projects/ml_talk/mnist_ptrc/mnist_png/training/'+str(fold_n)+'/*.png')\n",
    "    for image_path in glob.glob(temp_path):\n",
    "        image = Image.open(image_path)\n",
    "        pixels = list(image.getdata())\n",
    "        train_set.append(pixels)\n",
    "        train_label.append(fold_n)\n",
    "train_set = np.array(train_set)\n",
    "train_label = np.array(train_label)"
   ]
  },
  {
   "cell_type": "code",
   "execution_count": 71,
   "metadata": {},
   "outputs": [],
   "source": [
    "test_set = []\n",
    "test_label = []\n",
    "for fold_n in range(0,10):\n",
    "    temp_path = str('/home/cho/Projects/ml_talk/mnist_ptrc/mnist_png/testing/'+str(fold_n)+'/*.png')\n",
    "    for image_path in glob.glob(temp_path):\n",
    "        image = Image.open(image_path)\n",
    "        pixels = list(image.getdata())\n",
    "        test_set.append(pixels)\n",
    "        test_label.append(fold_n)\n",
    "test_set = np.array(test_set)\n",
    "test_label = np.array(test_label)"
   ]
  },
  {
   "cell_type": "code",
   "execution_count": 73,
   "metadata": {},
   "outputs": [
    {
     "name": "stdout",
     "output_type": "stream",
     "text": [
      "(60000, 784)\n",
      "(60000,)\n",
      "(10000, 784)\n",
      "(10000,)\n"
     ]
    }
   ],
   "source": [
    "print(train_set.shape)\n",
    "print(train_label.shape)\n",
    "print(test_set.shape)\n",
    "print(test_label.shape)"
   ]
  },
  {
   "cell_type": "markdown",
   "metadata": {},
   "source": [
    "# Fashion MNIST LOAD"
   ]
  },
  {
   "cell_type": "code",
   "execution_count": 80,
   "metadata": {},
   "outputs": [],
   "source": [
    "train_set = []\n",
    "train_label = []\n",
    "for fold_n in range(0,10):\n",
    "    temp_path = str('/home/cho/Projects/ml_talk/mnist_fashion_pr/training/'+str(fold_n)+'/*.png')\n",
    "    for image_path in glob.glob(temp_path):\n",
    "        image = Image.open(image_path)\n",
    "        pixels = list(image.getdata())\n",
    "        train_set.append(pixels)\n",
    "        train_label.append(fold_n)\n",
    "train_set = np.array(train_set)\n",
    "train_label = np.array(train_label)"
   ]
  },
  {
   "cell_type": "code",
   "execution_count": 81,
   "metadata": {},
   "outputs": [],
   "source": [
    "test_set = []\n",
    "test_label = []\n",
    "for fold_n in range(0,10):\n",
    "    temp_path = str('/home/cho/Projects/ml_talk/mnist_fashion_pr/testing/'+str(fold_n)+'/*.png')\n",
    "    for image_path in glob.glob(temp_path):\n",
    "        image = Image.open(image_path)\n",
    "        pixels = list(image.getdata())\n",
    "        test_set.append(pixels)\n",
    "        test_label.append(fold_n)\n",
    "test_set = np.array(test_set)\n",
    "test_label = np.array(test_label)"
   ]
  },
  {
   "cell_type": "code",
   "execution_count": 82,
   "metadata": {},
   "outputs": [
    {
     "name": "stdout",
     "output_type": "stream",
     "text": [
      "(60000, 784)\n",
      "(60000,)\n",
      "(10000, 784)\n",
      "(10000,)\n"
     ]
    }
   ],
   "source": [
    "print(train_set.shape)\n",
    "print(train_label.shape)\n",
    "print(test_set.shape)\n",
    "print(test_label.shape)"
   ]
  },
  {
   "cell_type": "code",
   "execution_count": null,
   "metadata": {},
   "outputs": [],
   "source": []
  }
 ],
 "metadata": {
  "kernelspec": {
   "display_name": "Python 2",
   "language": "python",
   "name": "python2"
  },
  "language_info": {
   "codemirror_mode": {
    "name": "ipython",
    "version": 2
   },
   "file_extension": ".py",
   "mimetype": "text/x-python",
   "name": "python",
   "nbconvert_exporter": "python",
   "pygments_lexer": "ipython2",
   "version": "2.7.12"
  }
 },
 "nbformat": 4,
 "nbformat_minor": 2
}
