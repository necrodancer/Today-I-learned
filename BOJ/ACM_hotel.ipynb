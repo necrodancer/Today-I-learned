{
  "nbformat": 4,
  "nbformat_minor": 0,
  "metadata": {
    "colab": {
      "name": "ACM_hotel.ipynb",
      "version": "0.3.2",
      "provenance": [],
      "collapsed_sections": [],
      "include_colab_link": true
    },
    "kernelspec": {
      "name": "python2",
      "display_name": "Python 2"
    }
  },
  "cells": [
    {
      "cell_type": "markdown",
      "metadata": {
        "id": "view-in-github",
        "colab_type": "text"
      },
      "source": [
        "[View in Colaboratory](https://colab.research.google.com/github/necrodancer/Today-I-learned/blob/master/BOJ/ACM_hotel.ipynb)"
      ]
    },
    {
      "metadata": {
        "id": "hmxDz0xKiQbQ",
        "colab_type": "text"
      },
      "cell_type": "markdown",
      "source": [
        "# 10250번 ACM 호텔\n",
        "2018년 8월 26일\n",
        "## 문제 출처\n",
        "https://www.acmicpc.net/problem/10250\n",
        "## 문제 풀이\n",
        "가로 W개의 방(각 층별로), 새로 H층의 호텔에\n",
        "N번째 방문자가 몇 번째 방에 묵는지 출력하는 문제이다.\n",
        "\n",
        "입력 순서는 테스트 케이스 T,\n",
        "H W N\n",
        "순의 정수가 T번 입력으로 들어간다.\n",
        "\n",
        "방이 차는 순서는 101, 201, ... H01, 102, 202, ... , H02, 301, ... 순으로 찬다. \n",
        "\n",
        "사람들이 층 별로 들어가기 때문에 우선 층을 순회하는 for문을 하나 준비한다.\n",
        "```python\n",
        "for i in range(0,H):\n",
        "  ...\n",
        "```\n",
        "층 별 탐색이 끝나면 다음 칸(101 -> 102)로 이동하도록 for문을 하나 더 준비한다.\n",
        "```python\n",
        "for j in range(0,W):\n",
        "  ...\n",
        "```\n",
        "이 둘을 합치면 다음과 같다.\n",
        "```python\n",
        "for j in range(0,W):\n",
        "  for i in range(0,H):\n",
        "    ...\n",
        "```\n",
        "이제 한 명 한 명 들어갈 때마다 그 순번을 셀 변수 cnt(count)를 준비한다. 층 별로 사람이 찰 때마다 cnt를 1씩 증가시킨다. \n",
        "```python\n",
        "cnt = 0\n",
        "for j in range(0,W):\n",
        "  for i in range(0,H):\n",
        "    cnt+=1\n",
        "```\n",
        "마지막으로 cnt가 우리가 원래 알고 싶었던 N번째 손님의 N과 같아지면 그때의 층(H)과 방 번호(W)를 반환하면 된다. 함수 형태로 만들기 위해 def func(W,H,N)을 추가로 삽입한다.\n",
        "```python\n",
        "def func(W,H,N):\n",
        "  cnt = 0\n",
        "  for j in range(0,W):\n",
        "    for i in range(0,H):\n",
        "      cnt+=1\n",
        "      if cnt == N:\n",
        "        return H, W\n",
        "```\n",
        "마지막으로 방번호가 101호아 같은 형식으로 출력하려면 100의 자리 수는 H, 십의 자리, 일의 자리 수는 W를 출력하면 된다. %02d를 사용하면 숫자를 두 자리로 표현할 수 있다. (예) 01, 11, 07\n",
        "```python\n",
        "print(\"%d%02d\"%(H,W))\n",
        "```\n",
        "\n",
        "\n",
        "부록 : 처음에 알고리즘을 구상하면서 한 메모: <br>\n",
        "w,h,n\n",
        "\n",
        "cnt : 0 to n\n",
        "\n",
        "def get_rnum(w,h,n):\n",
        "cnt = 0\n",
        "for j in range(0,h):\n",
        "    for i in range(0,w):\n",
        "        cnt += 1\n",
        "        if (cnt+1) == n:\n",
        "            return  h, cnt"
      ]
    },
    {
      "metadata": {
        "id": "VuIbXSC0iCzY",
        "colab_type": "code",
        "colab": {
          "base_uri": "https://localhost:8080/",
          "height": 70
        },
        "outputId": "69015f56-376d-4d7e-85cc-c1379b0eda08"
      },
      "cell_type": "code",
      "source": [
        "def get_rnum(w,h,n):\n",
        "  cnt = 0\n",
        "  for j in range(0,w):\n",
        "    for i in range(0,h):\n",
        "        cnt += 1\n",
        "        if cnt == n:\n",
        "            return i+1, j+1\n",
        "\n",
        "T = int(raw_input())\n",
        "for t in range(0,T):\n",
        "  h, w, n = map(int,raw_input().split(' '))\n",
        "  H, W = get_rnum(w, h, n)\n",
        "  print(\"%d%02d\"%(H,W))"
      ],
      "execution_count": 15,
      "outputs": [
        {
          "output_type": "stream",
          "text": [
            "1\n",
            "6 12 10\n",
            "402\n"
          ],
          "name": "stdout"
        }
      ]
    },
    {
      "metadata": {
        "id": "h4v0g7hvmcxM",
        "colab_type": "code",
        "colab": {}
      },
      "cell_type": "code",
      "source": [
        ""
      ],
      "execution_count": 0,
      "outputs": []
    }
  ]
}