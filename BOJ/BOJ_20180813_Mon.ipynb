{
 "cells": [
  {
   "cell_type": "markdown",
   "metadata": {},
   "source": [
    "# 1193번 - 분수 찾기\n",
    "\n",
    "Copyright : https://www.acmicpc.net/problem/1193"
   ]
  },
  {
   "cell_type": "markdown",
   "metadata": {},
   "source": [
    "# 풀이\n",
    "\n",
    "문제에서 배열이 언급되어 있다고 해서 꼭 배열을 만들어서 풀어야 한다는 생각에 갇힐 필요는 없다. <br>\n",
    "\n",
    "내 알고리즘은 다음과 같다. 우선 대각선 방향에 있는 칸 수를 세아렸다.\n",
    "\n",
    "1 2 3 4 5 ... 와 같이 증가하는 걸 확인했다.\n",
    "\n",
    "다음은 각 대각선 내의 숫자의 합계를 생각했다. 예를 들어 1/1의 경우 합계는 2이다.\n",
    "\n",
    "2 3 3 4 4 4 5 5 5 ... 와 같이 증가하는 걸 확인했다. 나는 이 숫자를 합(Sum)이라는 뜻에서 S라고 부르기로 했다.\n",
    "\n",
    "우선 수열 S를 생성하는 루프문을 만들었다. for문을 2개 사용했다.\n",
    "\n",
    "S의 초깃값이 2이므로 처음에 `S = 2`로 초기화했다.\n",
    "\n",
    "---\n",
    "```python\n",
    "S = 2\n",
    "for i in range(1,X+1): # 외부 루프\n",
    "    for j in range(1,i+1): # 내부 루프\n",
    "        print(S)\n",
    "    S += 1\n",
    "```\n",
    "---    \n",
    "이렇게 외부로 X번 내부로 i번 도는 루프문을 만들었다. S는 내부 루프를 다 반복한 후에 변하므로, <br>\n",
    "내부 루프 안에서는 S의 값을 고정된 채로 쓸 수 있다.\n",
    "\n",
    "이제 S = {2 3 3 4 4 4 5 5 5 5 ...}를 보장받았으므로 각 S에 대한 분수 a / b를 구하는 코드를 루프문 안에 삽입하기로 했다. <br>\n",
    "\n",
    "다시 문제의 표를 살펴보면 모두 각 대각선 별로 S의 덧셈 조합대로 분수들이 나열된 걸 확인할 수 있다. <br>\n",
    "가령 1/2, 2/1의 경우 S=3인 케이스이다. 이때 분모, 분자는 각각에 대해 a=1, b=2, 그리고 a=2, b=1로 볼 수 있다.\n",
    "\n",
    "a와 b의 규칙을 살펴보자.<br>\n",
    "a는 짝수 번째 대각선에서는 오름차순으로 증가하고, b는 내림차순으로 감소한다.<br>\n",
    "홀수 번째 대각선에서는 반대로 a가 내림차순으로 감소하고, b는 오름차순으로 증가한다.<br>\n",
    "a + b = S이므로, 다음과 같이 식을 전개할 수 있다 : \n",
    "짝수 번째 대각선 :<br>\n",
    "`a = j` (j는 내부 루프의 변수다. 디폴트는 증가하는 변수다.) <br>\n",
    "`b = S - a` <br>\n",
    "짝수 번째 대각선 : <br>\n",
    "`a = i+1 - j` (i+1은 내부 루프 변수의 최댓값, 내림차순을 구현하기 위해 이렇게 표현) <br>\n",
    "`b = S - a` <br>\n",
    "\n",
    "이제 위 두 조건을 내부 루프문 안에 삽입하면 거의 끝난다. <br>\n",
    "\n",
    "여기에 추가적으로 루프문 탈출 조건을 만들기로 했다.\n",
    "가령 2 3 3 4 4 4 5 5 5 ... 중 첫번 째 3이 우리가 구해야 할 분수와 관련된 S라고 생각해보자.<br>\n",
    "그러면 첫 번째 `S=3`에 대한 `a`,`b`를 구하면 더이상 루프를 돌릴 필요 없이 바로 두 변수를 반환하면 된다. <br>\n",
    "그래서 탈출 조건이 필요한 것이다.\n",
    "\n",
    "탈출 조건은 다음과 같다. 카운트(`cnt`)라는 변수를 만들어서 `a`,`b`를 연산할 때마다 카운트를 1씩 증가시킨다. <br>\n",
    "그리고 이 cnt가 우리의 목표 숫자인 X와 같아지면 X번째 분수까지 도달했다는 것을 의미하므로 break를 걸어서 탈출한다. <br>\n",
    "그런데 이게 내부 루프만 탈출한 것이므로 외부루프 마지막 단에 한 번 더 동일한 탈출조건을 명시하여 이중 루프를 탈출한다.\n",
    "\n",
    "이제 다 끝났다. 목표를 달성하고 루프문을 탈출했으므로 결과값인 `a/b`를 문자열로 출력하면 끝난다. <br>\n"
   ]
  },
  {
   "cell_type": "markdown",
   "metadata": {},
   "source": [
    "# 소스 코드"
   ]
  },
  {
   "cell_type": "code",
   "execution_count": 88,
   "metadata": {},
   "outputs": [
    {
     "name": "stdout",
     "output_type": "stream",
     "text": [
      "14\n",
      "2/4\n"
     ]
    }
   ],
   "source": [
    "X = int(raw_input())\n",
    "\n",
    "S = 2\n",
    "cnt = 0\n",
    "for i in range(1,X+1):\n",
    "    for j in range(1,i+1):\n",
    "        if S % 2 != 0:\n",
    "            a = j\n",
    "            b = S - a\n",
    "        else:\n",
    "            a = i+1 - j\n",
    "            b = S - a\n",
    "        cnt += 1\n",
    "        if cnt == X:\n",
    "            break\n",
    "    S += 1\n",
    "    if cnt == X:\n",
    "        break\n",
    "    \n",
    "print('%d/%d'%(a, b))"
   ]
  },
  {
   "cell_type": "markdown",
   "metadata": {},
   "source": [
    "# 후기\n",
    "지난 번 문제는 다른 사람의 소스 코드에서 힌트를 얻었지만 이번에는 시행착오를 거쳐서 혼자만의 힘으로 풀었다. <br>"
   ]
  },
  {
   "cell_type": "code",
   "execution_count": null,
   "metadata": {},
   "outputs": [],
   "source": []
  }
 ],
 "metadata": {
  "kernelspec": {
   "display_name": "tf_cu80",
   "language": "python",
   "name": "tf_cu80"
  },
  "language_info": {
   "codemirror_mode": {
    "name": "ipython",
    "version": 2
   },
   "file_extension": ".py",
   "mimetype": "text/x-python",
   "name": "python",
   "nbconvert_exporter": "python",
   "pygments_lexer": "ipython2",
   "version": "2.7.15"
  }
 },
 "nbformat": 4,
 "nbformat_minor": 2
}
