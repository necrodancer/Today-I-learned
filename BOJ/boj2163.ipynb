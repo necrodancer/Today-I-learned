{
  "nbformat": 4,
  "nbformat_minor": 0,
  "metadata": {
    "colab": {
      "name": "boj2163.ipynb",
      "provenance": [],
      "include_colab_link": true
    },
    "kernelspec": {
      "name": "python3",
      "display_name": "Python 3"
    }
  },
  "cells": [
    {
      "cell_type": "markdown",
      "metadata": {
        "id": "view-in-github",
        "colab_type": "text"
      },
      "source": [
        "<a href=\"https://colab.research.google.com/github/necrodancer/Today-I-learned/blob/master/BOJ/boj2163.ipynb\" target=\"_parent\"><img src=\"https://colab.research.google.com/assets/colab-badge.svg\" alt=\"Open In Colab\"/></a>"
      ]
    },
    {
      "cell_type": "markdown",
      "metadata": {
        "id": "Q-RWbJYZ9u25",
        "colab_type": "text"
      },
      "source": [
        "# BOJ 2163 초콜릿 자르기\n",
        "https://www.acmicpc.net/problem/2163\n",
        "유형 : 다이나믹 프로그래밍\n",
        "\n",
        "풀이 출처 : \n",
        "1. https://home-body.tistory.com/84 : 해석적 풀이, 파이썬\n",
        "2. https://daimhada.tistory.com/180 : 다이나믹 프로그래밍, Bottom-up, C\n",
        "3. http://blog.naver.com/PostView.nhn?blogId=1ilsang&logNo=221429283900&parentCategoryNo=&categoryNo=&viewDate=&isShowPopularPosts=false&from=postView : 다이나믹 프로그래밍, top-down, C \n"
      ]
    },
    {
      "cell_type": "markdown",
      "metadata": {
        "id": "cFw99spF-l3X",
        "colab_type": "text"
      },
      "source": [
        "# Solution 1"
      ]
    },
    {
      "cell_type": "code",
      "metadata": {
        "id": "BKGAlFCa9gWj",
        "colab_type": "code",
        "colab": {
          "base_uri": "https://localhost:8080/",
          "height": 52
        },
        "outputId": "7c48d799-99a9-4343-9e5b-437f7477be09"
      },
      "source": [
        "N, M = map(int, input().split())\n",
        "print((N-1)+(M-1)*N)"
      ],
      "execution_count": 2,
      "outputs": [
        {
          "output_type": "stream",
          "text": [
            "5 3\n",
            "14\n"
          ],
          "name": "stdout"
        }
      ]
    }
  ]
}