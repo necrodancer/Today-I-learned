{
  "nbformat": 4,
  "nbformat_minor": 0,
  "metadata": {
    "colab": {
      "name": "boj9095.ipynb",
      "provenance": [],
      "include_colab_link": true
    },
    "kernelspec": {
      "name": "python3",
      "display_name": "Python 3"
    }
  },
  "cells": [
    {
      "cell_type": "markdown",
      "metadata": {
        "id": "view-in-github",
        "colab_type": "text"
      },
      "source": [
        "<a href=\"https://colab.research.google.com/github/necrodancer/Today-I-learned/blob/master/BOJ/boj9095.ipynb\" target=\"_parent\"><img src=\"https://colab.research.google.com/assets/colab-badge.svg\" alt=\"Open In Colab\"/></a>"
      ]
    },
    {
      "cell_type": "markdown",
      "metadata": {
        "id": "OEMXngnluhUm",
        "colab_type": "text"
      },
      "source": [
        "# BOJ 9095 1, 2, 3 더하기\n",
        "https://www.acmicpc.net/problem/9095\n",
        "\n",
        "유형 : 다이나믹 프로그래밍\n",
        "\n",
        "풀이 출처 : \n",
        "1. https://claude-u.tistory.com/112\n",
        "2. https://this-programmer.com/entry/%EB%B0%B1%EC%A4%809095%ED%8C%8C%EC%9D%B4%EC%8D%AC-1-2-3-%EB%8D%94%ED%95%98%EA%B8%B0"
      ]
    },
    {
      "cell_type": "markdown",
      "metadata": {
        "id": "YuoEuMGPu19k",
        "colab_type": "text"
      },
      "source": [
        "# Solution 1"
      ]
    },
    {
      "cell_type": "code",
      "metadata": {
        "id": "_zaNDx3ludkL",
        "colab_type": "code",
        "colab": {}
      },
      "source": [
        "test_case_count = int(input())\n",
        "user_input_list = []\n",
        "\n",
        "integer_list = [1, 2, 4]\n",
        "for i in range(4, 11):\n",
        "    integer_list.append(sum(integer_list[-3:]))\n",
        "\n",
        "for i in range(test_case_count):\n",
        "    user_input_list.append(int(input()))\n",
        "\n",
        "for i in range(test_case_count):\n",
        "    print(integer_list[user_input_list[i] - 1])"
      ],
      "execution_count": 0,
      "outputs": []
    },
    {
      "cell_type": "markdown",
      "metadata": {
        "id": "KeyAmYmau-ou",
        "colab_type": "text"
      },
      "source": [
        "# Solution 2"
      ]
    },
    {
      "cell_type": "code",
      "metadata": {
        "id": "uQLzGhVMu_-g",
        "colab_type": "code",
        "colab": {}
      },
      "source": [
        "def plus_123(n):\n",
        "    if n == 1:\n",
        "        return 1\n",
        "    if n == 2:\n",
        "        return 2\n",
        "    if n == 3:\n",
        "        return 4\n",
        "    else:\n",
        "        return plus_123(n-1) + plus_123(n-2) + plus_123(n-3)\n",
        "    \n",
        "test = int(input())\n",
        "\n",
        "for num in range(test):\n",
        "    answer = plus_123(int(input()))\n",
        "    print(answer)"
      ],
      "execution_count": 0,
      "outputs": []
    }
  ]
}