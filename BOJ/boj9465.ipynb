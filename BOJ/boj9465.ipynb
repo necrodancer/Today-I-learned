{
  "nbformat": 4,
  "nbformat_minor": 0,
  "metadata": {
    "colab": {
      "name": "boj9465.ipynb",
      "provenance": [],
      "include_colab_link": true
    },
    "kernelspec": {
      "name": "python3",
      "display_name": "Python 3"
    }
  },
  "cells": [
    {
      "cell_type": "markdown",
      "metadata": {
        "id": "view-in-github",
        "colab_type": "text"
      },
      "source": [
        "<a href=\"https://colab.research.google.com/github/necrodancer/Today-I-learned/blob/master/BOJ/boj9465.ipynb\" target=\"_parent\"><img src=\"https://colab.research.google.com/assets/colab-badge.svg\" alt=\"Open In Colab\"/></a>"
      ]
    },
    {
      "cell_type": "markdown",
      "metadata": {
        "id": "EKrP0_0WqneD",
        "colab_type": "text"
      },
      "source": [
        "# BOJ 9465 스티커\n",
        "https://www.acmicpc.net/problem/9465\n",
        "\n",
        "유형 : 다이나믹 프로그래밍\n",
        "\n",
        "풀이 출처 : \n",
        "1. https://kks227.blog.me/220777103650\n",
        "2. https://rebas.kr/834\n",
        "\n"
      ]
    },
    {
      "cell_type": "code",
      "metadata": {
        "id": "jEFlK6qfqjBl",
        "colab_type": "code",
        "colab": {}
      },
      "source": [
        "def solve():\n",
        "    d[1][0], d[1][1] = p[0][1], p[1][1]\n",
        "    for i in range(2, n+1):\n",
        "        d[i][0] = max(d[i-1][1], d[i-1][2]) + p[0][i]\n",
        "        d[i][1] = max(d[i-1][0], d[i-1][2]) + p[1][i]\n",
        "        d[i][2] = max(d[i-1][0], d[i-1][1], d[i-1][2])\n",
        "\n",
        "for _ in range(int(input())):\n",
        "    n = int(input())\n",
        "    p = [[0]+list(map(int, input().split())) for _ in range(2)]\n",
        "    d = [[0]*3 for _ in range(n+1)]\n",
        "    solve()\n",
        "    print(max(d[n]))\n",
        "\n",
        "\n",
        "# 출처: https://rebas.kr/834 [PROJECT REBAS]"
      ],
      "execution_count": 0,
      "outputs": []
    }
  ]
}