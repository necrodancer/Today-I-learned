{
 "cells": [
  {
   "cell_type": "markdown",
   "metadata": {},
   "source": [
    "# TF.ARGMAX 실습"
   ]
  },
  {
   "cell_type": "markdown",
   "metadata": {},
   "source": [
    "2018년 2월 9일 금요일"
   ]
  },
  {
   "cell_type": "code",
   "execution_count": 3,
   "metadata": {},
   "outputs": [],
   "source": [
    "import tensorflow as tf\n",
    "\n",
    "a = tf.Variable([[1,2,3,4],[2,3,4,1],[3,4,1,2],[4,1,2,3]])"
   ]
  },
  {
   "cell_type": "code",
   "execution_count": 4,
   "metadata": {},
   "outputs": [
    {
     "name": "stdout",
     "output_type": "stream",
     "text": [
      "<tf.Variable 'Variable_2:0' shape=(4, 4) dtype=int32_ref>\n"
     ]
    }
   ],
   "source": [
    "print(a)"
   ]
  },
  {
   "cell_type": "code",
   "execution_count": 5,
   "metadata": {},
   "outputs": [
    {
     "name": "stdout",
     "output_type": "stream",
     "text": [
      "<tf.Variable 'Variable_3:0' shape=(1, 1, 1, 1, 2) dtype=int32_ref>\n"
     ]
    }
   ],
   "source": [
    "b = tf.Variable([[[[[1,1]]]]])\n",
    "print(b)"
   ]
  },
  {
   "cell_type": "markdown",
   "metadata": {},
   "source": [
    "shape는 가장 바깥의 테두리 개수부터 세아린다."
   ]
  },
  {
   "cell_type": "code",
   "execution_count": 9,
   "metadata": {},
   "outputs": [
    {
     "name": "stdout",
     "output_type": "stream",
     "text": [
      "<tf.Variable 'Variable_6:0' shape=(2,) dtype=int32_ref>\n"
     ]
    }
   ],
   "source": [
    "c = tf.Variable([1,2],[3,4])\n",
    "print(c)"
   ]
  },
  {
   "cell_type": "code",
   "execution_count": 12,
   "metadata": {},
   "outputs": [
    {
     "name": "stdout",
     "output_type": "stream",
     "text": [
      "[1 2]\n"
     ]
    }
   ],
   "source": [
    "sess=tf.Session()\n",
    "sess.run(tf.global_variables_initializer())\n",
    "print(sess.run(c))\n",
    "sess.close()"
   ]
  },
  {
   "cell_type": "markdown",
   "metadata": {},
   "source": [
    "저런 식으로 선언하면 , 뒤의 리스트는 저장이 되지 않는다."
   ]
  },
  {
   "cell_type": "code",
   "execution_count": 14,
   "metadata": {},
   "outputs": [
    {
     "name": "stdout",
     "output_type": "stream",
     "text": [
      "<tf.Variable 'Variable_8:0' shape=(3, 3, 3) dtype=int32_ref>\n"
     ]
    }
   ],
   "source": [
    "d = tf.Variable([[[0,1,2],[1,2,0],[2,0,1]],\n",
    "                 [[2,1,0],[1,0,2],[0,2,1]],\n",
    "                 [[1,0,2],[2,1,0],[2,0,1]]])\n",
    "print(d)\n",
    "e = tf.argmax(d,axis=0)\n",
    "f = tf.argmax(d,axis=1)\n",
    "g = tf.argmax(d,axis=2)"
   ]
  },
  {
   "cell_type": "code",
   "execution_count": 17,
   "metadata": {},
   "outputs": [
    {
     "name": "stdout",
     "output_type": "stream",
     "text": [
      "[[1 0 0]\n",
      " [2 0 1]\n",
      " [0 1 0]]\n",
      "[[2 1 0]\n",
      " [0 2 1]\n",
      " [1 1 0]]\n",
      "[[2 1 0]\n",
      " [0 2 1]\n",
      " [2 0 0]]\n"
     ]
    }
   ],
   "source": [
    "sess =tf.Session()\n",
    "sess.run(tf.global_variables_initializer())\n",
    "print(sess.run(e))\n",
    "print(sess.run(f))\n",
    "print(sess.run(g))\n",
    "sess.close()"
   ]
  },
  {
   "cell_type": "markdown",
   "metadata": {},
   "source": [
    "나의 예측:<br>\n",
    "e : [[1,0,0],[2,0,1],[0,1,0]]<br>\n",
    "f : [[2,1,0],[0,2,1],[1,1,0]]<br>\n",
    "g : 잘 모르겠다.<br>"
   ]
  },
  {
   "cell_type": "code",
   "execution_count": 18,
   "metadata": {
    "scrolled": false
   },
   "outputs": [
    {
     "name": "stdout",
     "output_type": "stream",
     "text": [
      "[[1 0 0]\n",
      " [0 1 1]]\n",
      "[[1 0 0]\n",
      " [0 1 1]]\n",
      "[[2 0]\n",
      " [0 1]]\n"
     ]
    }
   ],
   "source": [
    "h = tf.Variable([[[4,5,6],[7,0,4]],\n",
    "                 [[8,2,3],[6,9,5]]])\n",
    "i = tf.argmax(h,0)\n",
    "j = tf.argmax(h,1)\n",
    "k = tf.argmax(h,2)\n",
    "sess = tf.Session()\n",
    "sess.run(tf.global_variables_initializer())\n",
    "print(sess.run(i))\n",
    "print(sess.run(j))\n",
    "print(sess.run(k))"
   ]
  },
  {
   "cell_type": "markdown",
   "metadata": {},
   "source": [
    "##### What I realized\n",
    "axis = 0 일때는 **가장 큰(바깥) 테두리끼리** 비교하고,<br>\n",
    "axis = 1 일때는 **그 다음 큰 테두리들 안에서** 비교하고,<br>\n",
    "axis = max 일때는 **가장 작은 테두리 안(벡터)에서** 비교하는군!<br>\n",
    "<br>\n",
    "\\+ shape를 표기할때는 (가장 큰 테두리, 그 다음 테두리, ... , 가장 테두리 안의 원소 수)와 같"
   ]
  },
  {
   "cell_type": "code",
   "execution_count": null,
   "metadata": {},
   "outputs": [],
   "source": []
  }
 ],
 "metadata": {
  "kernelspec": {
   "display_name": "Python 2",
   "language": "python",
   "name": "python2"
  },
  "language_info": {
   "codemirror_mode": {
    "name": "ipython",
    "version": 2
   },
   "file_extension": ".py",
   "mimetype": "text/x-python",
   "name": "python",
   "nbconvert_exporter": "python",
   "pygments_lexer": "ipython2",
   "version": "2.7.12"
  }
 },
 "nbformat": 4,
 "nbformat_minor": 2
}
